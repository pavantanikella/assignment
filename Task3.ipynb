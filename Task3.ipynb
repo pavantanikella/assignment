{
 "cells": [
  {
   "cell_type": "markdown",
   "id": "110812e8",
   "metadata": {},
   "source": [
    "Assignment Tasks on String Escape Characters, Indexing, and Slicing:\n",
    "\n",
    "**String Escape Characters:**\n",
    "\n",
    "Task 1:\n",
    "1. Create a string containing a sentence that includes both single and double quotes.\n",
    "2. Use escape characters to include quotes within the string.\n",
    "3. Print the modified string.\n",
    "\n",
    "Task 2:\n",
    "1. Declare a string with a backslash \\ character in it.\n",
    "2. Demonstrate the use of the escape character to print the backslash itself.\n",
    "3. Print the resulting string.\n",
    "\n",
    "Task 3:\n",
    "1. Construct a string containing newline and tab escape sequences.\n",
    "2. Print the string to display the formatted output.\n",
    "\n",
    "**Indexing and Slicing:**\n",
    "\n",
    "Task 4:\n",
    "1.  sentence = \"I want to become Data Scientist\".\n",
    "2. Access and print the `first character` of the string using indexing.\n",
    "3. Access and print the `last character` of the string using negative indexing.\n",
    "\n",
    "Task 5:\n",
    "1. What are `possible ways` yo extract `Scientist`(use forward and reverse)\n",
    "2. Use slicing to extract and print the `first word` from the string.\n",
    "3. Use slicing to extract and print the `last three` characters of the string.\n",
    "\n",
    "Task 6:\n",
    "1. name = \"Innomatics Reserach Labs\"\n",
    "2. Apply slicing to extract a substring that includes the `second to fifth` characters.\n",
    "3. `Print` the extracted substring.\n",
    "\n",
    "Task 7:\n",
    "1. string = \"Python@1234\"\n",
    "2. Use slicing to extract every second character from the string.\n",
    "3. Print the resulting sliced string.\n",
    "\n",
    "Task 8:\n",
    "1.  print last five letters.\n",
    "2. Utilize slicing to reverse the word order in the string.\n",
    "3. Print the string with the words in the reversed order.\n",
    "\n",
    "Task 9:\n",
    "1. a = \"123123123\"\n",
    "2. Apply slicing to extract only the numeric characters at odd positions.\n",
    "3. Print the sliced result.\n",
    "\n",
    "Remember to include explanations or comments for each task's code to ensure clarity. Additionally, encourage students to experiment further with different escape characters and slicing techniques beyond the provided tasks to deepen their understanding."
   ]
  },
  {
   "cell_type": "code",
   "execution_count": null,
   "id": "68a12338",
   "metadata": {},
   "outputs": [],
   "source": []
  },
  {
   "cell_type": "markdown",
   "id": "d2042f48",
   "metadata": {},
   "source": [
    "Task 1:\n",
    "\n",
    "* Create a string containing a sentence that includes both single and double quotes.\n",
    "* Use escape characters to include quotes within the string.\n",
    "* Print the modified string."
   ]
  },
  {
   "cell_type": "code",
   "execution_count": 2,
   "id": "e5c88bf8",
   "metadata": {},
   "outputs": [],
   "source": [
    "1\n",
    "string=\"pavan is a 'data analyst' and 'sql developer' also\""
   ]
  },
  {
   "cell_type": "code",
   "execution_count": 3,
   "id": "1f779a3e",
   "metadata": {},
   "outputs": [
    {
     "name": "stdout",
     "output_type": "stream",
     "text": [
      "pavan is a 'data analyst' and 'sql developer' also\n"
     ]
    }
   ],
   "source": [
    "print(string)"
   ]
  },
  {
   "cell_type": "code",
   "execution_count": 6,
   "id": "98c62787",
   "metadata": {},
   "outputs": [],
   "source": [
    "string=\"pavan is a \\\"data analyst\\\" and \\\"sql developer\\\" also\""
   ]
  },
  {
   "cell_type": "code",
   "execution_count": 7,
   "id": "ecda1dee",
   "metadata": {},
   "outputs": [
    {
     "name": "stdout",
     "output_type": "stream",
     "text": [
      "pavan is a \"data analyst\" and \"sql developer\" also\n"
     ]
    }
   ],
   "source": [
    "print(string)"
   ]
  },
  {
   "cell_type": "code",
   "execution_count": null,
   "id": "039f7024",
   "metadata": {},
   "outputs": [],
   "source": []
  },
  {
   "cell_type": "markdown",
   "id": "27bb54e5",
   "metadata": {},
   "source": [
    "Task 2:\n",
    "\n",
    "* Declare a string with a backslash \\ character in it.\n",
    "* Demonstrate the use of the escape character to print the backslash itself.\n",
    "* Print the resulting string."
   ]
  },
  {
   "cell_type": "code",
   "execution_count": 8,
   "id": "31067c93",
   "metadata": {},
   "outputs": [],
   "source": [
    "text=\"i can insert \\\\\""
   ]
  },
  {
   "cell_type": "code",
   "execution_count": 9,
   "id": "03624655",
   "metadata": {},
   "outputs": [
    {
     "name": "stdout",
     "output_type": "stream",
     "text": [
      "i can insert \\\n"
     ]
    }
   ],
   "source": [
    "print(text)"
   ]
  },
  {
   "cell_type": "code",
   "execution_count": null,
   "id": "68b56088",
   "metadata": {},
   "outputs": [],
   "source": []
  },
  {
   "cell_type": "markdown",
   "id": "002fd1e3",
   "metadata": {},
   "source": [
    "Task 3:\n",
    "\n",
    "* Construct a string containing newline and tab escape sequences.\n",
    "* Print the string to display the formatted output."
   ]
  },
  {
   "cell_type": "code",
   "execution_count": 10,
   "id": "445f9fb4",
   "metadata": {},
   "outputs": [],
   "source": [
    "new_string=(\"hello\\tmy\\tname\\tis\\tpavan\\niam\\tlearning\\tpython\")"
   ]
  },
  {
   "cell_type": "code",
   "execution_count": 11,
   "id": "1d322be1",
   "metadata": {},
   "outputs": [
    {
     "name": "stdout",
     "output_type": "stream",
     "text": [
      "hello\tmy\tname\tis\tpavan\n",
      "iam\tlearning\tpython\n"
     ]
    }
   ],
   "source": [
    "print(new_string)"
   ]
  },
  {
   "cell_type": "code",
   "execution_count": null,
   "id": "90193373",
   "metadata": {},
   "outputs": [],
   "source": []
  },
  {
   "cell_type": "markdown",
   "id": "7013dfd4",
   "metadata": {},
   "source": [
    "Task 4:\n",
    "\n",
    "* sentence = \"I want to become Data Scientist\".\n",
    "* Access and print the first character of the string using indexing.\n",
    "* Access and print the last character of the string using negative indexing."
   ]
  },
  {
   "cell_type": "code",
   "execution_count": 12,
   "id": "93cd2fe0",
   "metadata": {},
   "outputs": [],
   "source": [
    "sentence = \"I want to become Data Scientist\""
   ]
  },
  {
   "cell_type": "code",
   "execution_count": 13,
   "id": "3485a88a",
   "metadata": {},
   "outputs": [
    {
     "data": {
      "text/plain": [
       "'I'"
      ]
     },
     "execution_count": 13,
     "metadata": {},
     "output_type": "execute_result"
    }
   ],
   "source": [
    "sentence[0]"
   ]
  },
  {
   "cell_type": "code",
   "execution_count": 14,
   "id": "64e16829",
   "metadata": {},
   "outputs": [
    {
     "data": {
      "text/plain": [
       "'t'"
      ]
     },
     "execution_count": 14,
     "metadata": {},
     "output_type": "execute_result"
    }
   ],
   "source": [
    "sentence[-1]"
   ]
  },
  {
   "cell_type": "code",
   "execution_count": null,
   "id": "976be6b1",
   "metadata": {},
   "outputs": [],
   "source": []
  },
  {
   "cell_type": "markdown",
   "id": "86bc7f5c",
   "metadata": {},
   "source": [
    "Task 5:\n",
    "\n",
    "* What are possible ways yo extract Scientist(use forward and reverse)\n",
    "* Use slicing to extract and print the first word from the string.\n",
    "* Use slicing to extract and print the last three characters of the string."
   ]
  },
  {
   "cell_type": "code",
   "execution_count": 15,
   "id": "a1c3222d",
   "metadata": {},
   "outputs": [],
   "source": [
    "sentence = \"I want to become Data Scientist\""
   ]
  },
  {
   "cell_type": "code",
   "execution_count": 16,
   "id": "4b7ee9a3",
   "metadata": {},
   "outputs": [
    {
     "data": {
      "text/plain": [
       "'Scientist'"
      ]
     },
     "execution_count": 16,
     "metadata": {},
     "output_type": "execute_result"
    }
   ],
   "source": [
    "sentence[22:31:1]"
   ]
  },
  {
   "cell_type": "code",
   "execution_count": 17,
   "id": "b3995920",
   "metadata": {},
   "outputs": [
    {
     "data": {
      "text/plain": [
       "'tsitneic'"
      ]
     },
     "execution_count": 17,
     "metadata": {},
     "output_type": "execute_result"
    }
   ],
   "source": [
    "sentence[31:22:-1]"
   ]
  },
  {
   "cell_type": "code",
   "execution_count": 26,
   "id": "7e4844c6",
   "metadata": {},
   "outputs": [
    {
     "data": {
      "text/plain": [
       "'I'"
      ]
     },
     "execution_count": 26,
     "metadata": {},
     "output_type": "execute_result"
    }
   ],
   "source": [
    "sentence[0:1]"
   ]
  },
  {
   "cell_type": "code",
   "execution_count": 28,
   "id": "5045d3e6",
   "metadata": {},
   "outputs": [
    {
     "data": {
      "text/plain": [
       "'ist'"
      ]
     },
     "execution_count": 28,
     "metadata": {},
     "output_type": "execute_result"
    }
   ],
   "source": [
    "sentence[28:31]"
   ]
  },
  {
   "cell_type": "code",
   "execution_count": null,
   "id": "75625d07",
   "metadata": {},
   "outputs": [],
   "source": []
  },
  {
   "cell_type": "markdown",
   "id": "41b44b79",
   "metadata": {},
   "source": [
    "Task 6:\n",
    "\n",
    "* name = \"Innomatics Reserach Labs\"\n",
    "* Apply slicing to extract a substring that includes the second to fifth characters.\n",
    "* Print the extracted substring."
   ]
  },
  {
   "cell_type": "code",
   "execution_count": 29,
   "id": "da812ec0",
   "metadata": {},
   "outputs": [],
   "source": [
    "name = \"Innomatics Reserach Labs\""
   ]
  },
  {
   "cell_type": "code",
   "execution_count": 30,
   "id": "56b81533",
   "metadata": {},
   "outputs": [
    {
     "data": {
      "text/plain": [
       "'nom'"
      ]
     },
     "execution_count": 30,
     "metadata": {},
     "output_type": "execute_result"
    }
   ],
   "source": [
    "name[2:5]"
   ]
  },
  {
   "cell_type": "code",
   "execution_count": null,
   "id": "436b102f",
   "metadata": {},
   "outputs": [],
   "source": []
  },
  {
   "cell_type": "markdown",
   "id": "9efc5649",
   "metadata": {},
   "source": [
    "Task 7:\n",
    "\n",
    "* string = \"Python@1234\"\n",
    "* Use slicing to extract every second character from the string.\n",
    "* Print the resulting sliced string."
   ]
  },
  {
   "cell_type": "code",
   "execution_count": 31,
   "id": "3c965ea7",
   "metadata": {},
   "outputs": [],
   "source": [
    "string = \"Python@1234\""
   ]
  },
  {
   "cell_type": "code",
   "execution_count": 32,
   "id": "87b8adf0",
   "metadata": {},
   "outputs": [
    {
     "data": {
      "text/plain": [
       "'Pto@24'"
      ]
     },
     "execution_count": 32,
     "metadata": {},
     "output_type": "execute_result"
    }
   ],
   "source": [
    "string[::2]"
   ]
  },
  {
   "cell_type": "code",
   "execution_count": null,
   "id": "e3a5d60f",
   "metadata": {},
   "outputs": [],
   "source": []
  },
  {
   "cell_type": "markdown",
   "id": "b5bfb6d9",
   "metadata": {},
   "source": [
    "Task 8:\n",
    "\n",
    "* print last five letters.\n",
    "* Utilize slicing to reverse the word order in the string.\n",
    "* Print the string with the words in the reversed order."
   ]
  },
  {
   "cell_type": "code",
   "execution_count": 33,
   "id": "e0b888a7",
   "metadata": {},
   "outputs": [],
   "source": [
    "string = \"Python@1234\""
   ]
  },
  {
   "cell_type": "code",
   "execution_count": 34,
   "id": "b924eb32",
   "metadata": {},
   "outputs": [
    {
     "data": {
      "text/plain": [
       "'4321@nohtyP'"
      ]
     },
     "execution_count": 34,
     "metadata": {},
     "output_type": "execute_result"
    }
   ],
   "source": [
    "string[11::-1]"
   ]
  },
  {
   "cell_type": "code",
   "execution_count": null,
   "id": "ce6434a9",
   "metadata": {},
   "outputs": [],
   "source": []
  },
  {
   "cell_type": "markdown",
   "id": "48185005",
   "metadata": {},
   "source": [
    "Task 9:\n",
    "\n",
    "* a = \"123123123\"\n",
    "* Apply slicing to extract only the numeric characters at odd positions.\n",
    "* Print the sliced result."
   ]
  },
  {
   "cell_type": "code",
   "execution_count": 39,
   "id": "6d9cb1ac",
   "metadata": {},
   "outputs": [],
   "source": [
    "a = \"123123123\""
   ]
  },
  {
   "cell_type": "code",
   "execution_count": 40,
   "id": "4b2e2aba",
   "metadata": {},
   "outputs": [
    {
     "data": {
      "text/plain": [
       "'2132'"
      ]
     },
     "execution_count": 40,
     "metadata": {},
     "output_type": "execute_result"
    }
   ],
   "source": [
    "a[1:9:2]"
   ]
  },
  {
   "cell_type": "code",
   "execution_count": null,
   "id": "9b0fd992",
   "metadata": {},
   "outputs": [],
   "source": []
  }
 ],
 "metadata": {
  "kernelspec": {
   "display_name": "Python 3 (ipykernel)",
   "language": "python",
   "name": "python3"
  },
  "language_info": {
   "codemirror_mode": {
    "name": "ipython",
    "version": 3
   },
   "file_extension": ".py",
   "mimetype": "text/x-python",
   "name": "python",
   "nbconvert_exporter": "python",
   "pygments_lexer": "ipython3",
   "version": "3.11.4"
  }
 },
 "nbformat": 4,
 "nbformat_minor": 5
}
