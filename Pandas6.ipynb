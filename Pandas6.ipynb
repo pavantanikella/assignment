{
 "cells": [
  {
   "cell_type": "code",
   "execution_count": null,
   "id": "e9fe1570",
   "metadata": {},
   "outputs": [],
   "source": [
    "Customer ID - Unique identifier for each customer\n",
    "Age - Age of the customer\n",
    "Gender - Gender of the customer (Male/Female)\n",
    "Item Purchased - The item purchased by the customer\n",
    "Category - Category of the item purchased\n",
    "Purchase Amount (USD) - The amount of the purchase in USD\n",
    "Location - Location where the purchase was made\n",
    "Size - Size of the purchased item\n",
    "Color - Color of the purchased item\n",
    "Season - Season during which the purchase was made\n",
    "Review Rating - Rating given by the customer for the purchased item\n",
    "Subscription Status - Indicates if the customer has a subscription (Yes/No)\n",
    "Shipping Type - Type of shipping chosen by the customer\n",
    "Discount Applied - Indicates if a discount was applied to the purchase (Yes/No)\n",
    "Promo Code Used - Indicates if a promo code was used for the purchase (Yes/No)\n",
    "Previous Purchases - The total count of transactions concluded by the customer at the store, excluding the ongoing transaction\n",
    "Payment Method - Customer's most preferred payment method\n",
    "Frequency of Purchases - Frequency at which the customer makes purchases (e.g., Weekly, Fortnightly, Monthly)"
   ]
  },
  {
   "cell_type": "code",
   "execution_count": 3,
   "id": "fc399935",
   "metadata": {},
   "outputs": [],
   "source": [
    "import pandas as pd\n",
    "import numpy as np"
   ]
  },
  {
   "cell_type": "code",
   "execution_count": 4,
   "id": "462a3a3f",
   "metadata": {},
   "outputs": [],
   "source": [
    "df=pd.read_excel(r\"C:\\Users\\pavan\\Downloads\\shopping.xlsx\")"
   ]
  },
  {
   "cell_type": "markdown",
   "id": "b7fb2a13",
   "metadata": {},
   "source": [
    "### missing values"
   ]
  },
  {
   "cell_type": "code",
   "execution_count": 5,
   "id": "418f422a",
   "metadata": {},
   "outputs": [
    {
     "data": {
      "text/html": [
       "<div>\n",
       "<style scoped>\n",
       "    .dataframe tbody tr th:only-of-type {\n",
       "        vertical-align: middle;\n",
       "    }\n",
       "\n",
       "    .dataframe tbody tr th {\n",
       "        vertical-align: top;\n",
       "    }\n",
       "\n",
       "    .dataframe thead th {\n",
       "        text-align: right;\n",
       "    }\n",
       "</style>\n",
       "<table border=\"1\" class=\"dataframe\">\n",
       "  <thead>\n",
       "    <tr style=\"text-align: right;\">\n",
       "      <th></th>\n",
       "      <th>Customer ID</th>\n",
       "      <th>Age</th>\n",
       "      <th>Gender</th>\n",
       "      <th>Item Purchased</th>\n",
       "      <th>Category</th>\n",
       "      <th>Purchase Amount (USD)</th>\n",
       "      <th>Location</th>\n",
       "      <th>Size</th>\n",
       "      <th>Color</th>\n",
       "      <th>Season</th>\n",
       "      <th>Review Rating</th>\n",
       "      <th>Subscription Status</th>\n",
       "      <th>Shipping Type</th>\n",
       "      <th>Discount Applied</th>\n",
       "      <th>Promo Code Used</th>\n",
       "      <th>Previous Purchases</th>\n",
       "      <th>Payment Method</th>\n",
       "      <th>Frequency of Purchases</th>\n",
       "    </tr>\n",
       "  </thead>\n",
       "  <tbody>\n",
       "    <tr>\n",
       "      <th>0</th>\n",
       "      <td>1.0</td>\n",
       "      <td>55.0</td>\n",
       "      <td>Male</td>\n",
       "      <td>Blouse</td>\n",
       "      <td>Clothing</td>\n",
       "      <td>53</td>\n",
       "      <td>Kentucky</td>\n",
       "      <td>L</td>\n",
       "      <td>Gray</td>\n",
       "      <td>Winter</td>\n",
       "      <td>3.1</td>\n",
       "      <td>Yes</td>\n",
       "      <td>Express</td>\n",
       "      <td>Yes</td>\n",
       "      <td>Yes</td>\n",
       "      <td>14</td>\n",
       "      <td>Venmo</td>\n",
       "      <td>Fortnightly</td>\n",
       "    </tr>\n",
       "    <tr>\n",
       "      <th>1</th>\n",
       "      <td>2.0</td>\n",
       "      <td>19.0</td>\n",
       "      <td>Male</td>\n",
       "      <td>Sweater</td>\n",
       "      <td>Clothing</td>\n",
       "      <td>64</td>\n",
       "      <td>Maine</td>\n",
       "      <td>L</td>\n",
       "      <td>Maroon</td>\n",
       "      <td>Winter</td>\n",
       "      <td>13.1</td>\n",
       "      <td>Yes</td>\n",
       "      <td>Express</td>\n",
       "      <td>Yes</td>\n",
       "      <td>Yes</td>\n",
       "      <td>2</td>\n",
       "      <td>Cash</td>\n",
       "      <td>Fortnightly</td>\n",
       "    </tr>\n",
       "    <tr>\n",
       "      <th>2</th>\n",
       "      <td>3.0</td>\n",
       "      <td>50.0</td>\n",
       "      <td>Male</td>\n",
       "      <td>Jeans</td>\n",
       "      <td>Clothing</td>\n",
       "      <td>73</td>\n",
       "      <td>Massachusetts</td>\n",
       "      <td>S</td>\n",
       "      <td>Maroon</td>\n",
       "      <td>Spring</td>\n",
       "      <td>3.1</td>\n",
       "      <td>Yes</td>\n",
       "      <td>Free Shipping</td>\n",
       "      <td>Yes</td>\n",
       "      <td>Yes</td>\n",
       "      <td>23</td>\n",
       "      <td>Credit Card</td>\n",
       "      <td>Weekly</td>\n",
       "    </tr>\n",
       "    <tr>\n",
       "      <th>3</th>\n",
       "      <td>4.0</td>\n",
       "      <td>21.0</td>\n",
       "      <td>Male</td>\n",
       "      <td>Sandals</td>\n",
       "      <td>Footwear</td>\n",
       "      <td>90</td>\n",
       "      <td>Rhode Island</td>\n",
       "      <td>M</td>\n",
       "      <td>Maroon</td>\n",
       "      <td>Spring</td>\n",
       "      <td>3.5</td>\n",
       "      <td>Yes</td>\n",
       "      <td>Next Day Air</td>\n",
       "      <td>Yes</td>\n",
       "      <td>Yes</td>\n",
       "      <td>49</td>\n",
       "      <td>PayPal</td>\n",
       "      <td>Weekly</td>\n",
       "    </tr>\n",
       "    <tr>\n",
       "      <th>4</th>\n",
       "      <td>5.0</td>\n",
       "      <td>145.0</td>\n",
       "      <td>Male</td>\n",
       "      <td>Blouse</td>\n",
       "      <td>Clothing</td>\n",
       "      <td>49</td>\n",
       "      <td>Oregon</td>\n",
       "      <td>M</td>\n",
       "      <td>Turquoise</td>\n",
       "      <td>Spring</td>\n",
       "      <td>2.7</td>\n",
       "      <td>Yes</td>\n",
       "      <td>Free Shipping</td>\n",
       "      <td>Yes</td>\n",
       "      <td>Yes</td>\n",
       "      <td>31</td>\n",
       "      <td>PayPal</td>\n",
       "      <td>Annually</td>\n",
       "    </tr>\n",
       "  </tbody>\n",
       "</table>\n",
       "</div>"
      ],
      "text/plain": [
       "   Customer ID    Age Gender Item Purchased  Category  Purchase Amount (USD)  \\\n",
       "0          1.0   55.0   Male         Blouse  Clothing                     53   \n",
       "1          2.0   19.0   Male        Sweater  Clothing                     64   \n",
       "2          3.0   50.0   Male          Jeans  Clothing                     73   \n",
       "3          4.0   21.0   Male        Sandals  Footwear                     90   \n",
       "4          5.0  145.0   Male         Blouse  Clothing                     49   \n",
       "\n",
       "        Location Size      Color  Season  Review Rating Subscription Status  \\\n",
       "0       Kentucky    L       Gray  Winter            3.1                 Yes   \n",
       "1          Maine    L     Maroon  Winter           13.1                 Yes   \n",
       "2  Massachusetts    S     Maroon  Spring            3.1                 Yes   \n",
       "3   Rhode Island    M     Maroon  Spring            3.5                 Yes   \n",
       "4         Oregon    M  Turquoise  Spring            2.7                 Yes   \n",
       "\n",
       "   Shipping Type Discount Applied Promo Code Used  Previous Purchases  \\\n",
       "0        Express              Yes             Yes                  14   \n",
       "1        Express              Yes             Yes                   2   \n",
       "2  Free Shipping              Yes             Yes                  23   \n",
       "3   Next Day Air              Yes             Yes                  49   \n",
       "4  Free Shipping              Yes             Yes                  31   \n",
       "\n",
       "  Payment Method Frequency of Purchases  \n",
       "0          Venmo            Fortnightly  \n",
       "1           Cash            Fortnightly  \n",
       "2    Credit Card                 Weekly  \n",
       "3         PayPal                 Weekly  \n",
       "4         PayPal               Annually  "
      ]
     },
     "execution_count": 5,
     "metadata": {},
     "output_type": "execute_result"
    }
   ],
   "source": [
    "df.head()"
   ]
  },
  {
   "cell_type": "code",
   "execution_count": 6,
   "id": "4c105174",
   "metadata": {},
   "outputs": [
    {
     "data": {
      "text/plain": [
       "Customer ID               30\n",
       "Age                        2\n",
       "Gender                     5\n",
       "Item Purchased             4\n",
       "Category                   4\n",
       "Purchase Amount (USD)      0\n",
       "Location                   2\n",
       "Size                       0\n",
       "Color                      4\n",
       "Season                     3\n",
       "Review Rating              2\n",
       "Subscription Status        2\n",
       "Shipping Type              0\n",
       "Discount Applied           7\n",
       "Promo Code Used            7\n",
       "Previous Purchases         0\n",
       "Payment Method             4\n",
       "Frequency of Purchases     3\n",
       "dtype: int64"
      ]
     },
     "execution_count": 6,
     "metadata": {},
     "output_type": "execute_result"
    }
   ],
   "source": [
    "df.isnull().sum()"
   ]
  },
  {
   "cell_type": "code",
   "execution_count": 10,
   "id": "f9597fc3",
   "metadata": {},
   "outputs": [],
   "source": [
    "df.drop('Customer ID',axis=1,inplace=True)"
   ]
  },
  {
   "cell_type": "code",
   "execution_count": 11,
   "id": "53d33ba8",
   "metadata": {},
   "outputs": [],
   "source": [
    "df[\"Age\"].fillna(df[\"Age\"].median(),inplace=True)"
   ]
  },
  {
   "cell_type": "code",
   "execution_count": 12,
   "id": "c05e1c20",
   "metadata": {},
   "outputs": [],
   "source": [
    "df[\"Gender\"].fillna(df[\"Gender\"].mode()[0],inplace=True)"
   ]
  },
  {
   "cell_type": "code",
   "execution_count": 14,
   "id": "6585b584",
   "metadata": {},
   "outputs": [],
   "source": [
    "df[\"Item Purchased\"].fillna(df[\"Item Purchased\"].mode()[0],inplace=True)"
   ]
  },
  {
   "cell_type": "code",
   "execution_count": 16,
   "id": "d6447933",
   "metadata": {},
   "outputs": [],
   "source": [
    "df[\"Category\"].fillna(df[\"Category\"].mode()[0],inplace=True)"
   ]
  },
  {
   "cell_type": "code",
   "execution_count": 17,
   "id": "38302554",
   "metadata": {},
   "outputs": [],
   "source": [
    "df[\"Location\"].fillna(df[\"Location\"].mode()[0],inplace=True)"
   ]
  },
  {
   "cell_type": "code",
   "execution_count": 18,
   "id": "68c0af7d",
   "metadata": {},
   "outputs": [],
   "source": [
    "df[\"Color\"].fillna(df[\"Color\"].mode()[0],inplace=True)"
   ]
  },
  {
   "cell_type": "code",
   "execution_count": 19,
   "id": "3f888b7f",
   "metadata": {},
   "outputs": [],
   "source": [
    "df[\"Season\"].fillna(df[\"Season\"].mode()[0],inplace=True)"
   ]
  },
  {
   "cell_type": "code",
   "execution_count": 30,
   "id": "48f53c81",
   "metadata": {},
   "outputs": [],
   "source": [
    "df['Review Rating'].fillna(df[\"Review Rating\"].mean(),inplace=True)"
   ]
  },
  {
   "cell_type": "code",
   "execution_count": 21,
   "id": "21362334",
   "metadata": {},
   "outputs": [],
   "source": [
    "df[\"Subscription Status\"].fillna(df[\"Subscription Status\"].mode()[0],inplace=True)"
   ]
  },
  {
   "cell_type": "code",
   "execution_count": 23,
   "id": "2f83300d",
   "metadata": {},
   "outputs": [],
   "source": [
    "df[\"Discount Applied\"].fillna(df[\"Discount Applied\"].mode()[0],inplace=True)\n"
   ]
  },
  {
   "cell_type": "code",
   "execution_count": 25,
   "id": "603590e8",
   "metadata": {},
   "outputs": [],
   "source": [
    "df[\"Promo Code Used\"].fillna(df[\"Promo Code Used\"].mode()[0],inplace=True)\n"
   ]
  },
  {
   "cell_type": "code",
   "execution_count": 26,
   "id": "49f98d3e",
   "metadata": {},
   "outputs": [],
   "source": [
    "df[\"Payment Method\"].fillna(df[\"Payment Method\"].mode()[0],inplace=True)"
   ]
  },
  {
   "cell_type": "code",
   "execution_count": 27,
   "id": "f914a9ff",
   "metadata": {},
   "outputs": [],
   "source": [
    "df[\"Frequency of Purchases\"].fillna(df[\"Frequency of Purchases\"].mode()[0],inplace=True)"
   ]
  },
  {
   "cell_type": "code",
   "execution_count": 31,
   "id": "fbfcadca",
   "metadata": {},
   "outputs": [
    {
     "data": {
      "text/plain": [
       "Age                       0\n",
       "Gender                    0\n",
       "Item Purchased            0\n",
       "Category                  0\n",
       "Purchase Amount (USD)     0\n",
       "Location                  0\n",
       "Size                      0\n",
       "Color                     0\n",
       "Season                    0\n",
       "Review Rating             0\n",
       "Subscription Status       0\n",
       "Shipping Type             0\n",
       "Discount Applied          0\n",
       "Promo Code Used           0\n",
       "Previous Purchases        0\n",
       "Payment Method            0\n",
       "Frequency of Purchases    0\n",
       "dtype: int64"
      ]
     },
     "execution_count": 31,
     "metadata": {},
     "output_type": "execute_result"
    }
   ],
   "source": [
    "df.isnull().sum()"
   ]
  },
  {
   "cell_type": "code",
   "execution_count": 32,
   "id": "8219d116",
   "metadata": {},
   "outputs": [],
   "source": [
    "df.dropna(axis=0,inplace=True)"
   ]
  },
  {
   "cell_type": "code",
   "execution_count": 33,
   "id": "fab11e51",
   "metadata": {},
   "outputs": [
    {
     "name": "stdout",
     "output_type": "stream",
     "text": [
      "<class 'pandas.core.frame.DataFrame'>\n",
      "RangeIndex: 2682 entries, 0 to 2681\n",
      "Data columns (total 17 columns):\n",
      " #   Column                  Non-Null Count  Dtype  \n",
      "---  ------                  --------------  -----  \n",
      " 0   Age                     2682 non-null   float64\n",
      " 1   Gender                  2682 non-null   object \n",
      " 2   Item Purchased          2682 non-null   object \n",
      " 3   Category                2682 non-null   object \n",
      " 4   Purchase Amount (USD)   2682 non-null   int64  \n",
      " 5   Location                2682 non-null   object \n",
      " 6   Size                    2682 non-null   object \n",
      " 7   Color                   2682 non-null   object \n",
      " 8   Season                  2682 non-null   object \n",
      " 9   Review Rating           2682 non-null   float64\n",
      " 10  Subscription Status     2682 non-null   object \n",
      " 11  Shipping Type           2682 non-null   object \n",
      " 12  Discount Applied        2682 non-null   object \n",
      " 13  Promo Code Used         2682 non-null   object \n",
      " 14  Previous Purchases      2682 non-null   int64  \n",
      " 15  Payment Method          2682 non-null   object \n",
      " 16  Frequency of Purchases  2682 non-null   object \n",
      "dtypes: float64(2), int64(2), object(13)\n",
      "memory usage: 356.3+ KB\n"
     ]
    }
   ],
   "source": [
    "df.info()"
   ]
  },
  {
   "cell_type": "markdown",
   "id": "3b3f8b91",
   "metadata": {},
   "source": [
    "## Outliers"
   ]
  },
  {
   "cell_type": "code",
   "execution_count": 35,
   "id": "b233db56",
   "metadata": {},
   "outputs": [],
   "source": [
    "condition=df[(df[\"Age\"]>100) | (df[\"Age\"]<0)] "
   ]
  },
  {
   "cell_type": "code",
   "execution_count": 39,
   "id": "d1ff1754",
   "metadata": {},
   "outputs": [],
   "source": [
    "condition=40"
   ]
  },
  {
   "cell_type": "code",
   "execution_count": 41,
   "id": "d7883a11",
   "metadata": {},
   "outputs": [],
   "source": [
    "df.drop(df[(df[\"Review Rating\"]>5) | (df[\"Review Rating\"]<0)].index,inplace=True)"
   ]
  },
  {
   "cell_type": "markdown",
   "id": "50988868",
   "metadata": {},
   "source": [
    "## duplicates"
   ]
  },
  {
   "cell_type": "code",
   "execution_count": 43,
   "id": "da72ae7b",
   "metadata": {},
   "outputs": [],
   "source": [
    "df.drop_duplicates(inplace=True)"
   ]
  },
  {
   "cell_type": "code",
   "execution_count": 44,
   "id": "2f1ee475",
   "metadata": {},
   "outputs": [
    {
     "data": {
      "text/plain": [
       "0"
      ]
     },
     "execution_count": 44,
     "metadata": {},
     "output_type": "execute_result"
    }
   ],
   "source": [
    "df.duplicated().sum()"
   ]
  },
  {
   "cell_type": "markdown",
   "id": "6c403a25",
   "metadata": {},
   "source": [
    "## Type casting"
   ]
  },
  {
   "cell_type": "code",
   "execution_count": 45,
   "id": "4fcdc2c5",
   "metadata": {},
   "outputs": [
    {
     "name": "stdout",
     "output_type": "stream",
     "text": [
      "<class 'pandas.core.frame.DataFrame'>\n",
      "Index: 2646 entries, 0 to 2667\n",
      "Data columns (total 17 columns):\n",
      " #   Column                  Non-Null Count  Dtype  \n",
      "---  ------                  --------------  -----  \n",
      " 0   Age                     2646 non-null   float64\n",
      " 1   Gender                  2646 non-null   object \n",
      " 2   Item Purchased          2646 non-null   object \n",
      " 3   Category                2646 non-null   object \n",
      " 4   Purchase Amount (USD)   2646 non-null   int64  \n",
      " 5   Location                2646 non-null   object \n",
      " 6   Size                    2646 non-null   object \n",
      " 7   Color                   2646 non-null   object \n",
      " 8   Season                  2646 non-null   object \n",
      " 9   Review Rating           2646 non-null   float64\n",
      " 10  Subscription Status     2646 non-null   object \n",
      " 11  Shipping Type           2646 non-null   object \n",
      " 12  Discount Applied        2646 non-null   object \n",
      " 13  Promo Code Used         2646 non-null   object \n",
      " 14  Previous Purchases      2646 non-null   int64  \n",
      " 15  Payment Method          2646 non-null   object \n",
      " 16  Frequency of Purchases  2646 non-null   object \n",
      "dtypes: float64(2), int64(2), object(13)\n",
      "memory usage: 372.1+ KB\n"
     ]
    }
   ],
   "source": [
    "df.info()"
   ]
  },
  {
   "cell_type": "code",
   "execution_count": 47,
   "id": "88f33fa8",
   "metadata": {},
   "outputs": [],
   "source": [
    "df[\"Age\"] = df[\"Age\"].astype(\"float64\")\n",
    "\n",
    "df[\"Review Rating\"] = df[\"Review Rating\"].astype(\"float16\")\n",
    "\n",
    "df[\"Previous Purchases\"] = df[\"Previous Purchases\"].astype(\"int8\")\n",
    "\n",
    "df[\"Purchase Amount (USD)\"] = df[\"Purchase Amount (USD)\"].astype(\"int8\")"
   ]
  },
  {
   "cell_type": "markdown",
   "id": "f4876772",
   "metadata": {},
   "source": [
    "## Variance"
   ]
  },
  {
   "cell_type": "code",
   "execution_count": 48,
   "id": "27debde9",
   "metadata": {},
   "outputs": [
    {
     "data": {
      "text/html": [
       "<div>\n",
       "<style scoped>\n",
       "    .dataframe tbody tr th:only-of-type {\n",
       "        vertical-align: middle;\n",
       "    }\n",
       "\n",
       "    .dataframe tbody tr th {\n",
       "        vertical-align: top;\n",
       "    }\n",
       "\n",
       "    .dataframe thead th {\n",
       "        text-align: right;\n",
       "    }\n",
       "</style>\n",
       "<table border=\"1\" class=\"dataframe\">\n",
       "  <thead>\n",
       "    <tr style=\"text-align: right;\">\n",
       "      <th></th>\n",
       "      <th>Age</th>\n",
       "      <th>Gender</th>\n",
       "      <th>Item Purchased</th>\n",
       "      <th>Category</th>\n",
       "      <th>Purchase Amount (USD)</th>\n",
       "      <th>Location</th>\n",
       "      <th>Size</th>\n",
       "      <th>Color</th>\n",
       "      <th>Season</th>\n",
       "      <th>Review Rating</th>\n",
       "      <th>Subscription Status</th>\n",
       "      <th>Shipping Type</th>\n",
       "      <th>Discount Applied</th>\n",
       "      <th>Promo Code Used</th>\n",
       "      <th>Previous Purchases</th>\n",
       "      <th>Payment Method</th>\n",
       "      <th>Frequency of Purchases</th>\n",
       "    </tr>\n",
       "  </thead>\n",
       "  <tbody>\n",
       "    <tr>\n",
       "      <th>0</th>\n",
       "      <td>55.0</td>\n",
       "      <td>Male</td>\n",
       "      <td>Blouse</td>\n",
       "      <td>Clothing</td>\n",
       "      <td>53</td>\n",
       "      <td>Kentucky</td>\n",
       "      <td>L</td>\n",
       "      <td>Gray</td>\n",
       "      <td>Winter</td>\n",
       "      <td>3.099609</td>\n",
       "      <td>Yes</td>\n",
       "      <td>Express</td>\n",
       "      <td>Yes</td>\n",
       "      <td>Yes</td>\n",
       "      <td>14</td>\n",
       "      <td>Venmo</td>\n",
       "      <td>Fortnightly</td>\n",
       "    </tr>\n",
       "    <tr>\n",
       "      <th>2</th>\n",
       "      <td>50.0</td>\n",
       "      <td>Male</td>\n",
       "      <td>Jeans</td>\n",
       "      <td>Clothing</td>\n",
       "      <td>73</td>\n",
       "      <td>Massachusetts</td>\n",
       "      <td>S</td>\n",
       "      <td>Maroon</td>\n",
       "      <td>Spring</td>\n",
       "      <td>3.099609</td>\n",
       "      <td>Yes</td>\n",
       "      <td>Free Shipping</td>\n",
       "      <td>Yes</td>\n",
       "      <td>Yes</td>\n",
       "      <td>23</td>\n",
       "      <td>Credit Card</td>\n",
       "      <td>Weekly</td>\n",
       "    </tr>\n",
       "    <tr>\n",
       "      <th>3</th>\n",
       "      <td>21.0</td>\n",
       "      <td>Male</td>\n",
       "      <td>Sandals</td>\n",
       "      <td>Footwear</td>\n",
       "      <td>90</td>\n",
       "      <td>Rhode Island</td>\n",
       "      <td>M</td>\n",
       "      <td>Maroon</td>\n",
       "      <td>Spring</td>\n",
       "      <td>3.500000</td>\n",
       "      <td>Yes</td>\n",
       "      <td>Next Day Air</td>\n",
       "      <td>Yes</td>\n",
       "      <td>Yes</td>\n",
       "      <td>49</td>\n",
       "      <td>PayPal</td>\n",
       "      <td>Weekly</td>\n",
       "    </tr>\n",
       "    <tr>\n",
       "      <th>5</th>\n",
       "      <td>46.0</td>\n",
       "      <td>Male</td>\n",
       "      <td>Sneakers</td>\n",
       "      <td>Footwear</td>\n",
       "      <td>20</td>\n",
       "      <td>Wyoming</td>\n",
       "      <td>M</td>\n",
       "      <td>White</td>\n",
       "      <td>Summer</td>\n",
       "      <td>2.900391</td>\n",
       "      <td>Yes</td>\n",
       "      <td>Standard</td>\n",
       "      <td>Yes</td>\n",
       "      <td>Yes</td>\n",
       "      <td>14</td>\n",
       "      <td>Venmo</td>\n",
       "      <td>Weekly</td>\n",
       "    </tr>\n",
       "    <tr>\n",
       "      <th>6</th>\n",
       "      <td>63.0</td>\n",
       "      <td>Male</td>\n",
       "      <td>Shirt</td>\n",
       "      <td>Clothing</td>\n",
       "      <td>85</td>\n",
       "      <td>Montana</td>\n",
       "      <td>M</td>\n",
       "      <td>Gray</td>\n",
       "      <td>Fall</td>\n",
       "      <td>3.199219</td>\n",
       "      <td>Yes</td>\n",
       "      <td>Free Shipping</td>\n",
       "      <td>Yes</td>\n",
       "      <td>Yes</td>\n",
       "      <td>49</td>\n",
       "      <td>Cash</td>\n",
       "      <td>Quarterly</td>\n",
       "    </tr>\n",
       "  </tbody>\n",
       "</table>\n",
       "</div>"
      ],
      "text/plain": [
       "    Age Gender Item Purchased  Category  Purchase Amount (USD)       Location  \\\n",
       "0  55.0   Male         Blouse  Clothing                     53       Kentucky   \n",
       "2  50.0   Male          Jeans  Clothing                     73  Massachusetts   \n",
       "3  21.0   Male        Sandals  Footwear                     90   Rhode Island   \n",
       "5  46.0   Male       Sneakers  Footwear                     20        Wyoming   \n",
       "6  63.0   Male          Shirt  Clothing                     85        Montana   \n",
       "\n",
       "  Size   Color  Season  Review Rating Subscription Status  Shipping Type  \\\n",
       "0    L    Gray  Winter       3.099609                 Yes        Express   \n",
       "2    S  Maroon  Spring       3.099609                 Yes  Free Shipping   \n",
       "3    M  Maroon  Spring       3.500000                 Yes   Next Day Air   \n",
       "5    M   White  Summer       2.900391                 Yes       Standard   \n",
       "6    M    Gray    Fall       3.199219                 Yes  Free Shipping   \n",
       "\n",
       "  Discount Applied Promo Code Used  Previous Purchases Payment Method  \\\n",
       "0              Yes             Yes                  14          Venmo   \n",
       "2              Yes             Yes                  23    Credit Card   \n",
       "3              Yes             Yes                  49         PayPal   \n",
       "5              Yes             Yes                  14          Venmo   \n",
       "6              Yes             Yes                  49           Cash   \n",
       "\n",
       "  Frequency of Purchases  \n",
       "0            Fortnightly  \n",
       "2                 Weekly  \n",
       "3                 Weekly  \n",
       "5                 Weekly  \n",
       "6              Quarterly  "
      ]
     },
     "execution_count": 48,
     "metadata": {},
     "output_type": "execute_result"
    }
   ],
   "source": [
    "df.head()"
   ]
  },
  {
   "cell_type": "code",
   "execution_count": 51,
   "id": "da9a88c2",
   "metadata": {},
   "outputs": [
    {
     "data": {
      "text/plain": [
       "234.97800882167613"
      ]
     },
     "execution_count": 51,
     "metadata": {},
     "output_type": "execute_result"
    }
   ],
   "source": [
    "df.Age.var()"
   ]
  },
  {
   "cell_type": "code",
   "execution_count": 53,
   "id": "440bd914",
   "metadata": {},
   "outputs": [
    {
     "data": {
      "text/plain": [
       "1"
      ]
     },
     "execution_count": 53,
     "metadata": {},
     "output_type": "execute_result"
    }
   ],
   "source": [
    "df.Gender.nunique()"
   ]
  },
  {
   "cell_type": "code",
   "execution_count": 75,
   "id": "f050f9b4",
   "metadata": {},
   "outputs": [],
   "source": [
    "df.drop('Gender',axis=1,inplace=True)"
   ]
  },
  {
   "cell_type": "code",
   "execution_count": 56,
   "id": "c0bebc48",
   "metadata": {},
   "outputs": [
    {
     "data": {
      "text/plain": [
       "25"
      ]
     },
     "execution_count": 56,
     "metadata": {},
     "output_type": "execute_result"
    }
   ],
   "source": [
    "df['Item Purchased'].nunique()"
   ]
  },
  {
   "cell_type": "code",
   "execution_count": 57,
   "id": "18e41cfa",
   "metadata": {},
   "outputs": [
    {
     "data": {
      "text/plain": [
       "4"
      ]
     },
     "execution_count": 57,
     "metadata": {},
     "output_type": "execute_result"
    }
   ],
   "source": [
    "df['Category'].nunique()"
   ]
  },
  {
   "cell_type": "code",
   "execution_count": 59,
   "id": "383b1a2c",
   "metadata": {},
   "outputs": [
    {
     "data": {
      "text/plain": [
       "568.002425175069"
      ]
     },
     "execution_count": 59,
     "metadata": {},
     "output_type": "execute_result"
    }
   ],
   "source": [
    "df['Purchase Amount (USD)'].var()"
   ]
  },
  {
   "cell_type": "code",
   "execution_count": 60,
   "id": "e794ec63",
   "metadata": {},
   "outputs": [
    {
     "data": {
      "text/plain": [
       "50"
      ]
     },
     "execution_count": 60,
     "metadata": {},
     "output_type": "execute_result"
    }
   ],
   "source": [
    "df.Location.nunique()"
   ]
  },
  {
   "cell_type": "code",
   "execution_count": 61,
   "id": "90601920",
   "metadata": {},
   "outputs": [
    {
     "data": {
      "text/plain": [
       "4"
      ]
     },
     "execution_count": 61,
     "metadata": {},
     "output_type": "execute_result"
    }
   ],
   "source": [
    "df.Size.nunique()"
   ]
  },
  {
   "cell_type": "code",
   "execution_count": 64,
   "id": "cb429406",
   "metadata": {},
   "outputs": [
    {
     "data": {
      "text/plain": [
       "25"
      ]
     },
     "execution_count": 64,
     "metadata": {},
     "output_type": "execute_result"
    }
   ],
   "source": [
    "df.Color.nunique()"
   ]
  },
  {
   "cell_type": "code",
   "execution_count": 65,
   "id": "516b5ed0",
   "metadata": {},
   "outputs": [
    {
     "data": {
      "text/plain": [
       "4"
      ]
     },
     "execution_count": 65,
     "metadata": {},
     "output_type": "execute_result"
    }
   ],
   "source": [
    "df.Season.nunique()"
   ]
  },
  {
   "cell_type": "code",
   "execution_count": 67,
   "id": "72333cf9",
   "metadata": {},
   "outputs": [
    {
     "data": {
      "text/plain": [
       "0.5093"
      ]
     },
     "execution_count": 67,
     "metadata": {},
     "output_type": "execute_result"
    }
   ],
   "source": [
    "df['Review Rating'].var()"
   ]
  },
  {
   "cell_type": "code",
   "execution_count": 68,
   "id": "0d21a905",
   "metadata": {},
   "outputs": [
    {
     "data": {
      "text/plain": [
       "2"
      ]
     },
     "execution_count": 68,
     "metadata": {},
     "output_type": "execute_result"
    }
   ],
   "source": [
    "df['Subscription Status'].nunique()"
   ]
  },
  {
   "cell_type": "code",
   "execution_count": 69,
   "id": "c4f4b320",
   "metadata": {},
   "outputs": [
    {
     "data": {
      "text/plain": [
       "6"
      ]
     },
     "execution_count": 69,
     "metadata": {},
     "output_type": "execute_result"
    }
   ],
   "source": [
    "df['Shipping Type'].nunique()"
   ]
  },
  {
   "cell_type": "code",
   "execution_count": 70,
   "id": "2021a07d",
   "metadata": {},
   "outputs": [
    {
     "data": {
      "text/plain": [
       "2"
      ]
     },
     "execution_count": 70,
     "metadata": {},
     "output_type": "execute_result"
    }
   ],
   "source": [
    "df['Discount Applied'].nunique()"
   ]
  },
  {
   "cell_type": "code",
   "execution_count": 71,
   "id": "39519f98",
   "metadata": {},
   "outputs": [
    {
     "data": {
      "text/plain": [
       "206.3113368682907"
      ]
     },
     "execution_count": 71,
     "metadata": {},
     "output_type": "execute_result"
    }
   ],
   "source": [
    "df['Previous Purchases'].var()"
   ]
  },
  {
   "cell_type": "code",
   "execution_count": 72,
   "id": "60e61fcf",
   "metadata": {},
   "outputs": [
    {
     "data": {
      "text/plain": [
       "6"
      ]
     },
     "execution_count": 72,
     "metadata": {},
     "output_type": "execute_result"
    }
   ],
   "source": [
    "df['Payment Method'].nunique()"
   ]
  },
  {
   "cell_type": "code",
   "execution_count": 73,
   "id": "44efd30a",
   "metadata": {},
   "outputs": [
    {
     "data": {
      "text/plain": [
       "7"
      ]
     },
     "execution_count": 73,
     "metadata": {},
     "output_type": "execute_result"
    }
   ],
   "source": [
    "df['Frequency of Purchases'].nunique()"
   ]
  },
  {
   "cell_type": "code",
   "execution_count": 77,
   "id": "730ec721",
   "metadata": {},
   "outputs": [
    {
     "data": {
      "text/html": [
       "<div>\n",
       "<style scoped>\n",
       "    .dataframe tbody tr th:only-of-type {\n",
       "        vertical-align: middle;\n",
       "    }\n",
       "\n",
       "    .dataframe tbody tr th {\n",
       "        vertical-align: top;\n",
       "    }\n",
       "\n",
       "    .dataframe thead th {\n",
       "        text-align: right;\n",
       "    }\n",
       "</style>\n",
       "<table border=\"1\" class=\"dataframe\">\n",
       "  <thead>\n",
       "    <tr style=\"text-align: right;\">\n",
       "      <th></th>\n",
       "      <th>Age</th>\n",
       "      <th>Item Purchased</th>\n",
       "      <th>Category</th>\n",
       "      <th>Purchase Amount (USD)</th>\n",
       "      <th>Location</th>\n",
       "      <th>Size</th>\n",
       "      <th>Color</th>\n",
       "      <th>Season</th>\n",
       "      <th>Review Rating</th>\n",
       "      <th>Subscription Status</th>\n",
       "      <th>Shipping Type</th>\n",
       "      <th>Discount Applied</th>\n",
       "      <th>Promo Code Used</th>\n",
       "      <th>Previous Purchases</th>\n",
       "      <th>Payment Method</th>\n",
       "      <th>Frequency of Purchases</th>\n",
       "    </tr>\n",
       "  </thead>\n",
       "  <tbody>\n",
       "    <tr>\n",
       "      <th>0</th>\n",
       "      <td>55.0</td>\n",
       "      <td>Blouse</td>\n",
       "      <td>Clothing</td>\n",
       "      <td>53</td>\n",
       "      <td>Kentucky</td>\n",
       "      <td>L</td>\n",
       "      <td>Gray</td>\n",
       "      <td>Winter</td>\n",
       "      <td>3.099609</td>\n",
       "      <td>Yes</td>\n",
       "      <td>Express</td>\n",
       "      <td>Yes</td>\n",
       "      <td>Yes</td>\n",
       "      <td>14</td>\n",
       "      <td>Venmo</td>\n",
       "      <td>Fortnightly</td>\n",
       "    </tr>\n",
       "    <tr>\n",
       "      <th>2</th>\n",
       "      <td>50.0</td>\n",
       "      <td>Jeans</td>\n",
       "      <td>Clothing</td>\n",
       "      <td>73</td>\n",
       "      <td>Massachusetts</td>\n",
       "      <td>S</td>\n",
       "      <td>Maroon</td>\n",
       "      <td>Spring</td>\n",
       "      <td>3.099609</td>\n",
       "      <td>Yes</td>\n",
       "      <td>Free Shipping</td>\n",
       "      <td>Yes</td>\n",
       "      <td>Yes</td>\n",
       "      <td>23</td>\n",
       "      <td>Credit Card</td>\n",
       "      <td>Weekly</td>\n",
       "    </tr>\n",
       "    <tr>\n",
       "      <th>3</th>\n",
       "      <td>21.0</td>\n",
       "      <td>Sandals</td>\n",
       "      <td>Footwear</td>\n",
       "      <td>90</td>\n",
       "      <td>Rhode Island</td>\n",
       "      <td>M</td>\n",
       "      <td>Maroon</td>\n",
       "      <td>Spring</td>\n",
       "      <td>3.500000</td>\n",
       "      <td>Yes</td>\n",
       "      <td>Next Day Air</td>\n",
       "      <td>Yes</td>\n",
       "      <td>Yes</td>\n",
       "      <td>49</td>\n",
       "      <td>PayPal</td>\n",
       "      <td>Weekly</td>\n",
       "    </tr>\n",
       "    <tr>\n",
       "      <th>5</th>\n",
       "      <td>46.0</td>\n",
       "      <td>Sneakers</td>\n",
       "      <td>Footwear</td>\n",
       "      <td>20</td>\n",
       "      <td>Wyoming</td>\n",
       "      <td>M</td>\n",
       "      <td>White</td>\n",
       "      <td>Summer</td>\n",
       "      <td>2.900391</td>\n",
       "      <td>Yes</td>\n",
       "      <td>Standard</td>\n",
       "      <td>Yes</td>\n",
       "      <td>Yes</td>\n",
       "      <td>14</td>\n",
       "      <td>Venmo</td>\n",
       "      <td>Weekly</td>\n",
       "    </tr>\n",
       "    <tr>\n",
       "      <th>6</th>\n",
       "      <td>63.0</td>\n",
       "      <td>Shirt</td>\n",
       "      <td>Clothing</td>\n",
       "      <td>85</td>\n",
       "      <td>Montana</td>\n",
       "      <td>M</td>\n",
       "      <td>Gray</td>\n",
       "      <td>Fall</td>\n",
       "      <td>3.199219</td>\n",
       "      <td>Yes</td>\n",
       "      <td>Free Shipping</td>\n",
       "      <td>Yes</td>\n",
       "      <td>Yes</td>\n",
       "      <td>49</td>\n",
       "      <td>Cash</td>\n",
       "      <td>Quarterly</td>\n",
       "    </tr>\n",
       "  </tbody>\n",
       "</table>\n",
       "</div>"
      ],
      "text/plain": [
       "    Age Item Purchased  Category  Purchase Amount (USD)       Location Size  \\\n",
       "0  55.0         Blouse  Clothing                     53       Kentucky    L   \n",
       "2  50.0          Jeans  Clothing                     73  Massachusetts    S   \n",
       "3  21.0        Sandals  Footwear                     90   Rhode Island    M   \n",
       "5  46.0       Sneakers  Footwear                     20        Wyoming    M   \n",
       "6  63.0          Shirt  Clothing                     85        Montana    M   \n",
       "\n",
       "    Color  Season  Review Rating Subscription Status  Shipping Type  \\\n",
       "0    Gray  Winter       3.099609                 Yes        Express   \n",
       "2  Maroon  Spring       3.099609                 Yes  Free Shipping   \n",
       "3  Maroon  Spring       3.500000                 Yes   Next Day Air   \n",
       "5   White  Summer       2.900391                 Yes       Standard   \n",
       "6    Gray    Fall       3.199219                 Yes  Free Shipping   \n",
       "\n",
       "  Discount Applied Promo Code Used  Previous Purchases Payment Method  \\\n",
       "0              Yes             Yes                  14          Venmo   \n",
       "2              Yes             Yes                  23    Credit Card   \n",
       "3              Yes             Yes                  49         PayPal   \n",
       "5              Yes             Yes                  14          Venmo   \n",
       "6              Yes             Yes                  49           Cash   \n",
       "\n",
       "  Frequency of Purchases  \n",
       "0            Fortnightly  \n",
       "2                 Weekly  \n",
       "3                 Weekly  \n",
       "5                 Weekly  \n",
       "6              Quarterly  "
      ]
     },
     "execution_count": 77,
     "metadata": {},
     "output_type": "execute_result"
    }
   ],
   "source": [
    "df.head()"
   ]
  },
  {
   "cell_type": "markdown",
   "id": "f12ed6cf",
   "metadata": {},
   "source": [
    "## Dummy Variables"
   ]
  },
  {
   "cell_type": "markdown",
   "id": "817b1ef0",
   "metadata": {},
   "source": [
    "### one Heart Coding"
   ]
  },
  {
   "cell_type": "code",
   "execution_count": 79,
   "id": "19bc2003",
   "metadata": {},
   "outputs": [
    {
     "data": {
      "text/html": [
       "<div>\n",
       "<style scoped>\n",
       "    .dataframe tbody tr th:only-of-type {\n",
       "        vertical-align: middle;\n",
       "    }\n",
       "\n",
       "    .dataframe tbody tr th {\n",
       "        vertical-align: top;\n",
       "    }\n",
       "\n",
       "    .dataframe thead th {\n",
       "        text-align: right;\n",
       "    }\n",
       "</style>\n",
       "<table border=\"1\" class=\"dataframe\">\n",
       "  <thead>\n",
       "    <tr style=\"text-align: right;\">\n",
       "      <th></th>\n",
       "      <th>Accessories</th>\n",
       "      <th>Clothing</th>\n",
       "      <th>Footwear</th>\n",
       "      <th>Outerwear</th>\n",
       "    </tr>\n",
       "  </thead>\n",
       "  <tbody>\n",
       "    <tr>\n",
       "      <th>0</th>\n",
       "      <td>0</td>\n",
       "      <td>1</td>\n",
       "      <td>0</td>\n",
       "      <td>0</td>\n",
       "    </tr>\n",
       "    <tr>\n",
       "      <th>2</th>\n",
       "      <td>0</td>\n",
       "      <td>1</td>\n",
       "      <td>0</td>\n",
       "      <td>0</td>\n",
       "    </tr>\n",
       "    <tr>\n",
       "      <th>3</th>\n",
       "      <td>0</td>\n",
       "      <td>0</td>\n",
       "      <td>1</td>\n",
       "      <td>0</td>\n",
       "    </tr>\n",
       "    <tr>\n",
       "      <th>5</th>\n",
       "      <td>0</td>\n",
       "      <td>0</td>\n",
       "      <td>1</td>\n",
       "      <td>0</td>\n",
       "    </tr>\n",
       "    <tr>\n",
       "      <th>6</th>\n",
       "      <td>0</td>\n",
       "      <td>1</td>\n",
       "      <td>0</td>\n",
       "      <td>0</td>\n",
       "    </tr>\n",
       "    <tr>\n",
       "      <th>...</th>\n",
       "      <td>...</td>\n",
       "      <td>...</td>\n",
       "      <td>...</td>\n",
       "      <td>...</td>\n",
       "    </tr>\n",
       "    <tr>\n",
       "      <th>2663</th>\n",
       "      <td>0</td>\n",
       "      <td>0</td>\n",
       "      <td>1</td>\n",
       "      <td>0</td>\n",
       "    </tr>\n",
       "    <tr>\n",
       "      <th>2664</th>\n",
       "      <td>0</td>\n",
       "      <td>1</td>\n",
       "      <td>0</td>\n",
       "      <td>0</td>\n",
       "    </tr>\n",
       "    <tr>\n",
       "      <th>2665</th>\n",
       "      <td>1</td>\n",
       "      <td>0</td>\n",
       "      <td>0</td>\n",
       "      <td>0</td>\n",
       "    </tr>\n",
       "    <tr>\n",
       "      <th>2666</th>\n",
       "      <td>0</td>\n",
       "      <td>1</td>\n",
       "      <td>0</td>\n",
       "      <td>0</td>\n",
       "    </tr>\n",
       "    <tr>\n",
       "      <th>2667</th>\n",
       "      <td>0</td>\n",
       "      <td>0</td>\n",
       "      <td>1</td>\n",
       "      <td>0</td>\n",
       "    </tr>\n",
       "  </tbody>\n",
       "</table>\n",
       "<p>2646 rows × 4 columns</p>\n",
       "</div>"
      ],
      "text/plain": [
       "      Accessories  Clothing  Footwear  Outerwear\n",
       "0               0         1         0          0\n",
       "2               0         1         0          0\n",
       "3               0         0         1          0\n",
       "5               0         0         1          0\n",
       "6               0         1         0          0\n",
       "...           ...       ...       ...        ...\n",
       "2663            0         0         1          0\n",
       "2664            0         1         0          0\n",
       "2665            1         0         0          0\n",
       "2666            0         1         0          0\n",
       "2667            0         0         1          0\n",
       "\n",
       "[2646 rows x 4 columns]"
      ]
     },
     "execution_count": 79,
     "metadata": {},
     "output_type": "execute_result"
    }
   ],
   "source": [
    "pd.get_dummies(df['Category'],dtype=int)"
   ]
  },
  {
   "cell_type": "code",
   "execution_count": 80,
   "id": "a766de90",
   "metadata": {},
   "outputs": [
    {
     "data": {
      "text/html": [
       "<div>\n",
       "<style scoped>\n",
       "    .dataframe tbody tr th:only-of-type {\n",
       "        vertical-align: middle;\n",
       "    }\n",
       "\n",
       "    .dataframe tbody tr th {\n",
       "        vertical-align: top;\n",
       "    }\n",
       "\n",
       "    .dataframe thead th {\n",
       "        text-align: right;\n",
       "    }\n",
       "</style>\n",
       "<table border=\"1\" class=\"dataframe\">\n",
       "  <thead>\n",
       "    <tr style=\"text-align: right;\">\n",
       "      <th></th>\n",
       "      <th>Fall</th>\n",
       "      <th>Spring</th>\n",
       "      <th>Summer</th>\n",
       "      <th>Winter</th>\n",
       "    </tr>\n",
       "  </thead>\n",
       "  <tbody>\n",
       "    <tr>\n",
       "      <th>0</th>\n",
       "      <td>0</td>\n",
       "      <td>0</td>\n",
       "      <td>0</td>\n",
       "      <td>1</td>\n",
       "    </tr>\n",
       "    <tr>\n",
       "      <th>2</th>\n",
       "      <td>0</td>\n",
       "      <td>1</td>\n",
       "      <td>0</td>\n",
       "      <td>0</td>\n",
       "    </tr>\n",
       "    <tr>\n",
       "      <th>3</th>\n",
       "      <td>0</td>\n",
       "      <td>1</td>\n",
       "      <td>0</td>\n",
       "      <td>0</td>\n",
       "    </tr>\n",
       "    <tr>\n",
       "      <th>5</th>\n",
       "      <td>0</td>\n",
       "      <td>0</td>\n",
       "      <td>1</td>\n",
       "      <td>0</td>\n",
       "    </tr>\n",
       "    <tr>\n",
       "      <th>6</th>\n",
       "      <td>1</td>\n",
       "      <td>0</td>\n",
       "      <td>0</td>\n",
       "      <td>0</td>\n",
       "    </tr>\n",
       "    <tr>\n",
       "      <th>...</th>\n",
       "      <td>...</td>\n",
       "      <td>...</td>\n",
       "      <td>...</td>\n",
       "      <td>...</td>\n",
       "    </tr>\n",
       "    <tr>\n",
       "      <th>2663</th>\n",
       "      <td>0</td>\n",
       "      <td>0</td>\n",
       "      <td>1</td>\n",
       "      <td>0</td>\n",
       "    </tr>\n",
       "    <tr>\n",
       "      <th>2664</th>\n",
       "      <td>0</td>\n",
       "      <td>1</td>\n",
       "      <td>0</td>\n",
       "      <td>0</td>\n",
       "    </tr>\n",
       "    <tr>\n",
       "      <th>2665</th>\n",
       "      <td>1</td>\n",
       "      <td>0</td>\n",
       "      <td>0</td>\n",
       "      <td>0</td>\n",
       "    </tr>\n",
       "    <tr>\n",
       "      <th>2666</th>\n",
       "      <td>0</td>\n",
       "      <td>0</td>\n",
       "      <td>1</td>\n",
       "      <td>0</td>\n",
       "    </tr>\n",
       "    <tr>\n",
       "      <th>2667</th>\n",
       "      <td>0</td>\n",
       "      <td>0</td>\n",
       "      <td>1</td>\n",
       "      <td>0</td>\n",
       "    </tr>\n",
       "  </tbody>\n",
       "</table>\n",
       "<p>2646 rows × 4 columns</p>\n",
       "</div>"
      ],
      "text/plain": [
       "      Fall  Spring  Summer  Winter\n",
       "0        0       0       0       1\n",
       "2        0       1       0       0\n",
       "3        0       1       0       0\n",
       "5        0       0       1       0\n",
       "6        1       0       0       0\n",
       "...    ...     ...     ...     ...\n",
       "2663     0       0       1       0\n",
       "2664     0       1       0       0\n",
       "2665     1       0       0       0\n",
       "2666     0       0       1       0\n",
       "2667     0       0       1       0\n",
       "\n",
       "[2646 rows x 4 columns]"
      ]
     },
     "execution_count": 80,
     "metadata": {},
     "output_type": "execute_result"
    }
   ],
   "source": [
    "pd.get_dummies(df['Season'],dtype=int)"
   ]
  },
  {
   "cell_type": "code",
   "execution_count": 82,
   "id": "0249287f",
   "metadata": {},
   "outputs": [
    {
     "data": {
      "text/html": [
       "<div>\n",
       "<style scoped>\n",
       "    .dataframe tbody tr th:only-of-type {\n",
       "        vertical-align: middle;\n",
       "    }\n",
       "\n",
       "    .dataframe tbody tr th {\n",
       "        vertical-align: top;\n",
       "    }\n",
       "\n",
       "    .dataframe thead th {\n",
       "        text-align: right;\n",
       "    }\n",
       "</style>\n",
       "<table border=\"1\" class=\"dataframe\">\n",
       "  <thead>\n",
       "    <tr style=\"text-align: right;\">\n",
       "      <th></th>\n",
       "      <th>2-Day Shipping</th>\n",
       "      <th>Express</th>\n",
       "      <th>Free Shipping</th>\n",
       "      <th>Next Day Air</th>\n",
       "      <th>Standard</th>\n",
       "      <th>Store Pickup</th>\n",
       "    </tr>\n",
       "  </thead>\n",
       "  <tbody>\n",
       "    <tr>\n",
       "      <th>0</th>\n",
       "      <td>0</td>\n",
       "      <td>1</td>\n",
       "      <td>0</td>\n",
       "      <td>0</td>\n",
       "      <td>0</td>\n",
       "      <td>0</td>\n",
       "    </tr>\n",
       "    <tr>\n",
       "      <th>2</th>\n",
       "      <td>0</td>\n",
       "      <td>0</td>\n",
       "      <td>1</td>\n",
       "      <td>0</td>\n",
       "      <td>0</td>\n",
       "      <td>0</td>\n",
       "    </tr>\n",
       "    <tr>\n",
       "      <th>3</th>\n",
       "      <td>0</td>\n",
       "      <td>0</td>\n",
       "      <td>0</td>\n",
       "      <td>1</td>\n",
       "      <td>0</td>\n",
       "      <td>0</td>\n",
       "    </tr>\n",
       "    <tr>\n",
       "      <th>5</th>\n",
       "      <td>0</td>\n",
       "      <td>0</td>\n",
       "      <td>0</td>\n",
       "      <td>0</td>\n",
       "      <td>1</td>\n",
       "      <td>0</td>\n",
       "    </tr>\n",
       "    <tr>\n",
       "      <th>6</th>\n",
       "      <td>0</td>\n",
       "      <td>0</td>\n",
       "      <td>1</td>\n",
       "      <td>0</td>\n",
       "      <td>0</td>\n",
       "      <td>0</td>\n",
       "    </tr>\n",
       "    <tr>\n",
       "      <th>...</th>\n",
       "      <td>...</td>\n",
       "      <td>...</td>\n",
       "      <td>...</td>\n",
       "      <td>...</td>\n",
       "      <td>...</td>\n",
       "      <td>...</td>\n",
       "    </tr>\n",
       "    <tr>\n",
       "      <th>2663</th>\n",
       "      <td>1</td>\n",
       "      <td>0</td>\n",
       "      <td>0</td>\n",
       "      <td>0</td>\n",
       "      <td>0</td>\n",
       "      <td>0</td>\n",
       "    </tr>\n",
       "    <tr>\n",
       "      <th>2664</th>\n",
       "      <td>0</td>\n",
       "      <td>0</td>\n",
       "      <td>0</td>\n",
       "      <td>1</td>\n",
       "      <td>0</td>\n",
       "      <td>0</td>\n",
       "    </tr>\n",
       "    <tr>\n",
       "      <th>2665</th>\n",
       "      <td>0</td>\n",
       "      <td>0</td>\n",
       "      <td>0</td>\n",
       "      <td>0</td>\n",
       "      <td>0</td>\n",
       "      <td>1</td>\n",
       "    </tr>\n",
       "    <tr>\n",
       "      <th>2666</th>\n",
       "      <td>0</td>\n",
       "      <td>0</td>\n",
       "      <td>0</td>\n",
       "      <td>0</td>\n",
       "      <td>1</td>\n",
       "      <td>0</td>\n",
       "    </tr>\n",
       "    <tr>\n",
       "      <th>2667</th>\n",
       "      <td>0</td>\n",
       "      <td>0</td>\n",
       "      <td>0</td>\n",
       "      <td>0</td>\n",
       "      <td>0</td>\n",
       "      <td>1</td>\n",
       "    </tr>\n",
       "  </tbody>\n",
       "</table>\n",
       "<p>2646 rows × 6 columns</p>\n",
       "</div>"
      ],
      "text/plain": [
       "      2-Day Shipping  Express  Free Shipping  Next Day Air  Standard  \\\n",
       "0                  0        1              0             0         0   \n",
       "2                  0        0              1             0         0   \n",
       "3                  0        0              0             1         0   \n",
       "5                  0        0              0             0         1   \n",
       "6                  0        0              1             0         0   \n",
       "...              ...      ...            ...           ...       ...   \n",
       "2663               1        0              0             0         0   \n",
       "2664               0        0              0             1         0   \n",
       "2665               0        0              0             0         0   \n",
       "2666               0        0              0             0         1   \n",
       "2667               0        0              0             0         0   \n",
       "\n",
       "      Store Pickup  \n",
       "0                0  \n",
       "2                0  \n",
       "3                0  \n",
       "5                0  \n",
       "6                0  \n",
       "...            ...  \n",
       "2663             0  \n",
       "2664             0  \n",
       "2665             1  \n",
       "2666             0  \n",
       "2667             1  \n",
       "\n",
       "[2646 rows x 6 columns]"
      ]
     },
     "execution_count": 82,
     "metadata": {},
     "output_type": "execute_result"
    }
   ],
   "source": [
    "pd.get_dummies(df['Shipping Type'],dtype=int)"
   ]
  },
  {
   "cell_type": "markdown",
   "id": "032da064",
   "metadata": {},
   "source": [
    "## Normalisation/Scaling"
   ]
  },
  {
   "cell_type": "code",
   "execution_count": 89,
   "id": "dd4e713b",
   "metadata": {},
   "outputs": [
    {
     "data": {
      "text/plain": [
       "Index(['Age', 'Item Purchased', 'Category', 'Purchase Amount (USD)',\n",
       "       'Location', 'Size', 'Color', 'Season', 'Review Rating',\n",
       "       'Subscription Status', 'Shipping Type', 'Discount Applied',\n",
       "       'Promo Code Used', 'Previous Purchases', 'Payment Method',\n",
       "       'Frequency of Purchases'],\n",
       "      dtype='object')"
      ]
     },
     "execution_count": 89,
     "metadata": {},
     "output_type": "execute_result"
    }
   ],
   "source": [
    "df.columns"
   ]
  },
  {
   "cell_type": "code",
   "execution_count": 84,
   "id": "db418dac",
   "metadata": {},
   "outputs": [
    {
     "data": {
      "text/plain": [
       "44.1031746031746"
      ]
     },
     "execution_count": 84,
     "metadata": {},
     "output_type": "execute_result"
    }
   ],
   "source": [
    "df.Age.mean()"
   ]
  },
  {
   "cell_type": "code",
   "execution_count": 85,
   "id": "e0830edf",
   "metadata": {},
   "outputs": [
    {
     "data": {
      "text/plain": [
       "44.0"
      ]
     },
     "execution_count": 85,
     "metadata": {},
     "output_type": "execute_result"
    }
   ],
   "source": [
    "df.Age.median()"
   ]
  },
  {
   "cell_type": "code",
   "execution_count": 86,
   "id": "276e3c15",
   "metadata": {},
   "outputs": [],
   "source": [
    "def normalization(x):\n",
    "    n = (x-df[\"Age\"].min())/(df[\"Age\"].max()-df[\"Age\"].min())\n",
    "    return n"
   ]
  },
  {
   "cell_type": "code",
   "execution_count": 87,
   "id": "5b01a480",
   "metadata": {},
   "outputs": [
    {
     "data": {
      "text/plain": [
       "0       0.711538\n",
       "2       0.615385\n",
       "3       0.057692\n",
       "5       0.538462\n",
       "6       0.865385\n",
       "          ...   \n",
       "2663    0.807692\n",
       "2664    0.634615\n",
       "2665    0.096154\n",
       "2666    0.038462\n",
       "2667    0.634615\n",
       "Name: Age, Length: 2646, dtype: float64"
      ]
     },
     "execution_count": 87,
     "metadata": {},
     "output_type": "execute_result"
    }
   ],
   "source": [
    "df[\"Age\"].apply(normalization)"
   ]
  },
  {
   "cell_type": "code",
   "execution_count": 90,
   "id": "9386bba3",
   "metadata": {},
   "outputs": [
    {
     "data": {
      "text/plain": [
       "59.54383975812547"
      ]
     },
     "execution_count": 90,
     "metadata": {},
     "output_type": "execute_result"
    }
   ],
   "source": [
    "df['Purchase Amount (USD)'].mean()"
   ]
  },
  {
   "cell_type": "code",
   "execution_count": 91,
   "id": "f0b71f9a",
   "metadata": {},
   "outputs": [
    {
     "data": {
      "text/plain": [
       "60.0"
      ]
     },
     "execution_count": 91,
     "metadata": {},
     "output_type": "execute_result"
    }
   ],
   "source": [
    "df['Purchase Amount (USD)'].median()"
   ]
  },
  {
   "cell_type": "code",
   "execution_count": 92,
   "id": "6cd0fe31",
   "metadata": {},
   "outputs": [],
   "source": [
    "def normalization(x):\n",
    "    n=(x-df['Purchase Amount (USD)'].min())/(df['Purchase Amount (USD)'].max()-df['Purchase Amount (USD)'].min())\n",
    "    return n"
   ]
  },
  {
   "cell_type": "code",
   "execution_count": 93,
   "id": "842e54d5",
   "metadata": {},
   "outputs": [
    {
     "data": {
      "text/plain": [
       "0       0.4125\n",
       "2       0.6625\n",
       "3       0.8750\n",
       "5       0.0000\n",
       "6       0.8125\n",
       "         ...  \n",
       "2663    0.4750\n",
       "2664    0.8000\n",
       "2665    0.0125\n",
       "2666    0.1875\n",
       "2667    0.2875\n",
       "Name: Purchase Amount (USD), Length: 2646, dtype: float64"
      ]
     },
     "execution_count": 93,
     "metadata": {},
     "output_type": "execute_result"
    }
   ],
   "source": [
    "df['Purchase Amount (USD)'].apply(normalization)"
   ]
  },
  {
   "cell_type": "code",
   "execution_count": 94,
   "id": "f95c7ba3",
   "metadata": {},
   "outputs": [
    {
     "data": {
      "text/plain": [
       "3.756"
      ]
     },
     "execution_count": 94,
     "metadata": {},
     "output_type": "execute_result"
    }
   ],
   "source": [
    "df['Review Rating'].mean()"
   ]
  },
  {
   "cell_type": "code",
   "execution_count": 95,
   "id": "04585742",
   "metadata": {},
   "outputs": [
    {
     "data": {
      "text/plain": [
       "3.8"
      ]
     },
     "execution_count": 95,
     "metadata": {},
     "output_type": "execute_result"
    }
   ],
   "source": [
    "df['Review Rating'].median()"
   ]
  },
  {
   "cell_type": "code",
   "execution_count": 96,
   "id": "7b5aada4",
   "metadata": {},
   "outputs": [],
   "source": [
    "def normalization(x):\n",
    "    n=(x-df['Review Rating'].min())/(df['Review Rating'].max()-df['Review Rating'].min())\n",
    "    return n"
   ]
  },
  {
   "cell_type": "code",
   "execution_count": 97,
   "id": "caeb44f5",
   "metadata": {},
   "outputs": [
    {
     "data": {
      "text/plain": [
       "0       0.239844\n",
       "2       0.239844\n",
       "3       0.400000\n",
       "5       0.160156\n",
       "6       0.279687\n",
       "          ...   \n",
       "2663    0.320312\n",
       "2664    0.560156\n",
       "2665    0.560156\n",
       "2666    0.679688\n",
       "2667    0.840625\n",
       "Name: Review Rating, Length: 2646, dtype: float64"
      ]
     },
     "execution_count": 97,
     "metadata": {},
     "output_type": "execute_result"
    }
   ],
   "source": [
    "df['Review Rating'].apply(normalization)"
   ]
  },
  {
   "cell_type": "code",
   "execution_count": 98,
   "id": "ec7b9674",
   "metadata": {},
   "outputs": [
    {
     "data": {
      "text/plain": [
       "25.73167044595616"
      ]
     },
     "execution_count": 98,
     "metadata": {},
     "output_type": "execute_result"
    }
   ],
   "source": [
    "df['Previous Purchases'].mean()"
   ]
  },
  {
   "cell_type": "code",
   "execution_count": 99,
   "id": "1447eff0",
   "metadata": {},
   "outputs": [
    {
     "data": {
      "text/plain": [
       "26.0"
      ]
     },
     "execution_count": 99,
     "metadata": {},
     "output_type": "execute_result"
    }
   ],
   "source": [
    "df['Previous Purchases'].median()"
   ]
  },
  {
   "cell_type": "code",
   "execution_count": 100,
   "id": "23d09ecb",
   "metadata": {},
   "outputs": [],
   "source": [
    "def normalization(x):\n",
    "    n=(x-df['Previous Purchases'].min())/(df['Previous Purchases'].max()-df['Previous Purchases'].min())\n",
    "    return n"
   ]
  },
  {
   "cell_type": "code",
   "execution_count": 101,
   "id": "5af7ed4f",
   "metadata": {},
   "outputs": [
    {
     "data": {
      "text/plain": [
       "0       0.265306\n",
       "2       0.448980\n",
       "3       0.979592\n",
       "5       0.265306\n",
       "6       0.979592\n",
       "          ...   \n",
       "2663    0.489796\n",
       "2664    0.265306\n",
       "2665    0.265306\n",
       "2666    0.918367\n",
       "2667    0.530612\n",
       "Name: Previous Purchases, Length: 2646, dtype: float64"
      ]
     },
     "execution_count": 101,
     "metadata": {},
     "output_type": "execute_result"
    }
   ],
   "source": [
    "df['Previous Purchases'].apply(normalization)"
   ]
  },
  {
   "cell_type": "code",
   "execution_count": 102,
   "id": "37b6e224",
   "metadata": {},
   "outputs": [
    {
     "data": {
      "text/html": [
       "<div>\n",
       "<style scoped>\n",
       "    .dataframe tbody tr th:only-of-type {\n",
       "        vertical-align: middle;\n",
       "    }\n",
       "\n",
       "    .dataframe tbody tr th {\n",
       "        vertical-align: top;\n",
       "    }\n",
       "\n",
       "    .dataframe thead th {\n",
       "        text-align: right;\n",
       "    }\n",
       "</style>\n",
       "<table border=\"1\" class=\"dataframe\">\n",
       "  <thead>\n",
       "    <tr style=\"text-align: right;\">\n",
       "      <th></th>\n",
       "      <th>Age</th>\n",
       "      <th>Purchase Amount (USD)</th>\n",
       "      <th>Review Rating</th>\n",
       "      <th>Previous Purchases</th>\n",
       "    </tr>\n",
       "  </thead>\n",
       "  <tbody>\n",
       "    <tr>\n",
       "      <th>count</th>\n",
       "      <td>2646.000000</td>\n",
       "      <td>2646.000000</td>\n",
       "      <td>2646.000000</td>\n",
       "      <td>2646.000000</td>\n",
       "    </tr>\n",
       "    <tr>\n",
       "      <th>mean</th>\n",
       "      <td>44.103175</td>\n",
       "      <td>59.543840</td>\n",
       "      <td>3.755859</td>\n",
       "      <td>25.731670</td>\n",
       "    </tr>\n",
       "    <tr>\n",
       "      <th>std</th>\n",
       "      <td>15.328992</td>\n",
       "      <td>23.832801</td>\n",
       "      <td>0.713867</td>\n",
       "      <td>14.363542</td>\n",
       "    </tr>\n",
       "    <tr>\n",
       "      <th>min</th>\n",
       "      <td>18.000000</td>\n",
       "      <td>20.000000</td>\n",
       "      <td>2.500000</td>\n",
       "      <td>1.000000</td>\n",
       "    </tr>\n",
       "    <tr>\n",
       "      <th>25%</th>\n",
       "      <td>31.000000</td>\n",
       "      <td>38.000000</td>\n",
       "      <td>3.099609</td>\n",
       "      <td>14.000000</td>\n",
       "    </tr>\n",
       "    <tr>\n",
       "      <th>50%</th>\n",
       "      <td>44.000000</td>\n",
       "      <td>60.000000</td>\n",
       "      <td>3.800781</td>\n",
       "      <td>26.000000</td>\n",
       "    </tr>\n",
       "    <tr>\n",
       "      <th>75%</th>\n",
       "      <td>57.000000</td>\n",
       "      <td>80.000000</td>\n",
       "      <td>4.398438</td>\n",
       "      <td>38.000000</td>\n",
       "    </tr>\n",
       "    <tr>\n",
       "      <th>max</th>\n",
       "      <td>70.000000</td>\n",
       "      <td>100.000000</td>\n",
       "      <td>5.000000</td>\n",
       "      <td>50.000000</td>\n",
       "    </tr>\n",
       "  </tbody>\n",
       "</table>\n",
       "</div>"
      ],
      "text/plain": [
       "               Age  Purchase Amount (USD)  Review Rating  Previous Purchases\n",
       "count  2646.000000            2646.000000    2646.000000         2646.000000\n",
       "mean     44.103175              59.543840       3.755859           25.731670\n",
       "std      15.328992              23.832801       0.713867           14.363542\n",
       "min      18.000000              20.000000       2.500000            1.000000\n",
       "25%      31.000000              38.000000       3.099609           14.000000\n",
       "50%      44.000000              60.000000       3.800781           26.000000\n",
       "75%      57.000000              80.000000       4.398438           38.000000\n",
       "max      70.000000             100.000000       5.000000           50.000000"
      ]
     },
     "execution_count": 102,
     "metadata": {},
     "output_type": "execute_result"
    }
   ],
   "source": [
    "df.describe()"
   ]
  },
  {
   "cell_type": "code",
   "execution_count": 104,
   "id": "dfcee227",
   "metadata": {},
   "outputs": [
    {
     "data": {
      "text/html": [
       "<div>\n",
       "<style scoped>\n",
       "    .dataframe tbody tr th:only-of-type {\n",
       "        vertical-align: middle;\n",
       "    }\n",
       "\n",
       "    .dataframe tbody tr th {\n",
       "        vertical-align: top;\n",
       "    }\n",
       "\n",
       "    .dataframe thead th {\n",
       "        text-align: right;\n",
       "    }\n",
       "</style>\n",
       "<table border=\"1\" class=\"dataframe\">\n",
       "  <thead>\n",
       "    <tr style=\"text-align: right;\">\n",
       "      <th></th>\n",
       "      <th>Age</th>\n",
       "      <th>Item Purchased</th>\n",
       "      <th>Category</th>\n",
       "      <th>Purchase Amount (USD)</th>\n",
       "      <th>Location</th>\n",
       "      <th>Size</th>\n",
       "      <th>Color</th>\n",
       "      <th>Season</th>\n",
       "      <th>Review Rating</th>\n",
       "      <th>Subscription Status</th>\n",
       "      <th>Shipping Type</th>\n",
       "      <th>Discount Applied</th>\n",
       "      <th>Promo Code Used</th>\n",
       "      <th>Previous Purchases</th>\n",
       "      <th>Payment Method</th>\n",
       "      <th>Frequency of Purchases</th>\n",
       "    </tr>\n",
       "  </thead>\n",
       "  <tbody>\n",
       "    <tr>\n",
       "      <th>0</th>\n",
       "      <td>55.0</td>\n",
       "      <td>Blouse</td>\n",
       "      <td>Clothing</td>\n",
       "      <td>53</td>\n",
       "      <td>Kentucky</td>\n",
       "      <td>L</td>\n",
       "      <td>Gray</td>\n",
       "      <td>Winter</td>\n",
       "      <td>3.099609</td>\n",
       "      <td>Yes</td>\n",
       "      <td>Express</td>\n",
       "      <td>Yes</td>\n",
       "      <td>Yes</td>\n",
       "      <td>14</td>\n",
       "      <td>Venmo</td>\n",
       "      <td>Fortnightly</td>\n",
       "    </tr>\n",
       "    <tr>\n",
       "      <th>2</th>\n",
       "      <td>50.0</td>\n",
       "      <td>Jeans</td>\n",
       "      <td>Clothing</td>\n",
       "      <td>73</td>\n",
       "      <td>Massachusetts</td>\n",
       "      <td>S</td>\n",
       "      <td>Maroon</td>\n",
       "      <td>Spring</td>\n",
       "      <td>3.099609</td>\n",
       "      <td>Yes</td>\n",
       "      <td>Free Shipping</td>\n",
       "      <td>Yes</td>\n",
       "      <td>Yes</td>\n",
       "      <td>23</td>\n",
       "      <td>Credit Card</td>\n",
       "      <td>Weekly</td>\n",
       "    </tr>\n",
       "    <tr>\n",
       "      <th>3</th>\n",
       "      <td>21.0</td>\n",
       "      <td>Sandals</td>\n",
       "      <td>Footwear</td>\n",
       "      <td>90</td>\n",
       "      <td>Rhode Island</td>\n",
       "      <td>M</td>\n",
       "      <td>Maroon</td>\n",
       "      <td>Spring</td>\n",
       "      <td>3.500000</td>\n",
       "      <td>Yes</td>\n",
       "      <td>Next Day Air</td>\n",
       "      <td>Yes</td>\n",
       "      <td>Yes</td>\n",
       "      <td>49</td>\n",
       "      <td>PayPal</td>\n",
       "      <td>Weekly</td>\n",
       "    </tr>\n",
       "    <tr>\n",
       "      <th>5</th>\n",
       "      <td>46.0</td>\n",
       "      <td>Sneakers</td>\n",
       "      <td>Footwear</td>\n",
       "      <td>20</td>\n",
       "      <td>Wyoming</td>\n",
       "      <td>M</td>\n",
       "      <td>White</td>\n",
       "      <td>Summer</td>\n",
       "      <td>2.900391</td>\n",
       "      <td>Yes</td>\n",
       "      <td>Standard</td>\n",
       "      <td>Yes</td>\n",
       "      <td>Yes</td>\n",
       "      <td>14</td>\n",
       "      <td>Venmo</td>\n",
       "      <td>Weekly</td>\n",
       "    </tr>\n",
       "    <tr>\n",
       "      <th>6</th>\n",
       "      <td>63.0</td>\n",
       "      <td>Shirt</td>\n",
       "      <td>Clothing</td>\n",
       "      <td>85</td>\n",
       "      <td>Montana</td>\n",
       "      <td>M</td>\n",
       "      <td>Gray</td>\n",
       "      <td>Fall</td>\n",
       "      <td>3.199219</td>\n",
       "      <td>Yes</td>\n",
       "      <td>Free Shipping</td>\n",
       "      <td>Yes</td>\n",
       "      <td>Yes</td>\n",
       "      <td>49</td>\n",
       "      <td>Cash</td>\n",
       "      <td>Quarterly</td>\n",
       "    </tr>\n",
       "    <tr>\n",
       "      <th>...</th>\n",
       "      <td>...</td>\n",
       "      <td>...</td>\n",
       "      <td>...</td>\n",
       "      <td>...</td>\n",
       "      <td>...</td>\n",
       "      <td>...</td>\n",
       "      <td>...</td>\n",
       "      <td>...</td>\n",
       "      <td>...</td>\n",
       "      <td>...</td>\n",
       "      <td>...</td>\n",
       "      <td>...</td>\n",
       "      <td>...</td>\n",
       "      <td>...</td>\n",
       "      <td>...</td>\n",
       "      <td>...</td>\n",
       "    </tr>\n",
       "    <tr>\n",
       "      <th>2663</th>\n",
       "      <td>60.0</td>\n",
       "      <td>Shoes</td>\n",
       "      <td>Footwear</td>\n",
       "      <td>58</td>\n",
       "      <td>South Carolina</td>\n",
       "      <td>M</td>\n",
       "      <td>Red</td>\n",
       "      <td>Summer</td>\n",
       "      <td>3.300781</td>\n",
       "      <td>No</td>\n",
       "      <td>2-Day Shipping</td>\n",
       "      <td>No</td>\n",
       "      <td>No</td>\n",
       "      <td>25</td>\n",
       "      <td>Debit Card</td>\n",
       "      <td>Annually</td>\n",
       "    </tr>\n",
       "    <tr>\n",
       "      <th>2664</th>\n",
       "      <td>51.0</td>\n",
       "      <td>Pants</td>\n",
       "      <td>Clothing</td>\n",
       "      <td>84</td>\n",
       "      <td>Illinois</td>\n",
       "      <td>M</td>\n",
       "      <td>Gray</td>\n",
       "      <td>Spring</td>\n",
       "      <td>3.900391</td>\n",
       "      <td>No</td>\n",
       "      <td>Next Day Air</td>\n",
       "      <td>No</td>\n",
       "      <td>No</td>\n",
       "      <td>14</td>\n",
       "      <td>PayPal</td>\n",
       "      <td>Bi-Weekly</td>\n",
       "    </tr>\n",
       "    <tr>\n",
       "      <th>2665</th>\n",
       "      <td>23.0</td>\n",
       "      <td>Gloves</td>\n",
       "      <td>Accessories</td>\n",
       "      <td>21</td>\n",
       "      <td>Minnesota</td>\n",
       "      <td>M</td>\n",
       "      <td>Magenta</td>\n",
       "      <td>Fall</td>\n",
       "      <td>3.900391</td>\n",
       "      <td>No</td>\n",
       "      <td>Store Pickup</td>\n",
       "      <td>No</td>\n",
       "      <td>No</td>\n",
       "      <td>14</td>\n",
       "      <td>Bank Transfer</td>\n",
       "      <td>Fortnightly</td>\n",
       "    </tr>\n",
       "    <tr>\n",
       "      <th>2666</th>\n",
       "      <td>20.0</td>\n",
       "      <td>Socks</td>\n",
       "      <td>Clothing</td>\n",
       "      <td>35</td>\n",
       "      <td>Oregon</td>\n",
       "      <td>L</td>\n",
       "      <td>Maroon</td>\n",
       "      <td>Summer</td>\n",
       "      <td>4.199219</td>\n",
       "      <td>No</td>\n",
       "      <td>Standard</td>\n",
       "      <td>No</td>\n",
       "      <td>No</td>\n",
       "      <td>46</td>\n",
       "      <td>Credit Card</td>\n",
       "      <td>Every 3 Months</td>\n",
       "    </tr>\n",
       "    <tr>\n",
       "      <th>2667</th>\n",
       "      <td>51.0</td>\n",
       "      <td>Sneakers</td>\n",
       "      <td>Footwear</td>\n",
       "      <td>43</td>\n",
       "      <td>Tennessee</td>\n",
       "      <td>M</td>\n",
       "      <td>Cyan</td>\n",
       "      <td>Summer</td>\n",
       "      <td>4.601562</td>\n",
       "      <td>No</td>\n",
       "      <td>Store Pickup</td>\n",
       "      <td>No</td>\n",
       "      <td>No</td>\n",
       "      <td>27</td>\n",
       "      <td>PayPal</td>\n",
       "      <td>Quarterly</td>\n",
       "    </tr>\n",
       "  </tbody>\n",
       "</table>\n",
       "<p>2646 rows × 16 columns</p>\n",
       "</div>"
      ],
      "text/plain": [
       "       Age Item Purchased     Category  Purchase Amount (USD)        Location  \\\n",
       "0     55.0         Blouse     Clothing                     53        Kentucky   \n",
       "2     50.0          Jeans     Clothing                     73   Massachusetts   \n",
       "3     21.0        Sandals     Footwear                     90    Rhode Island   \n",
       "5     46.0       Sneakers     Footwear                     20         Wyoming   \n",
       "6     63.0          Shirt     Clothing                     85         Montana   \n",
       "...    ...            ...          ...                    ...             ...   \n",
       "2663  60.0          Shoes     Footwear                     58  South Carolina   \n",
       "2664  51.0          Pants     Clothing                     84        Illinois   \n",
       "2665  23.0         Gloves  Accessories                     21       Minnesota   \n",
       "2666  20.0          Socks     Clothing                     35          Oregon   \n",
       "2667  51.0       Sneakers     Footwear                     43       Tennessee   \n",
       "\n",
       "     Size    Color  Season  Review Rating Subscription Status   Shipping Type  \\\n",
       "0       L     Gray  Winter       3.099609                 Yes         Express   \n",
       "2       S   Maroon  Spring       3.099609                 Yes   Free Shipping   \n",
       "3       M   Maroon  Spring       3.500000                 Yes    Next Day Air   \n",
       "5       M    White  Summer       2.900391                 Yes        Standard   \n",
       "6       M     Gray    Fall       3.199219                 Yes   Free Shipping   \n",
       "...   ...      ...     ...            ...                 ...             ...   \n",
       "2663    M      Red  Summer       3.300781                  No  2-Day Shipping   \n",
       "2664    M     Gray  Spring       3.900391                  No    Next Day Air   \n",
       "2665    M  Magenta    Fall       3.900391                  No    Store Pickup   \n",
       "2666    L   Maroon  Summer       4.199219                  No        Standard   \n",
       "2667    M     Cyan  Summer       4.601562                  No    Store Pickup   \n",
       "\n",
       "     Discount Applied Promo Code Used  Previous Purchases Payment Method  \\\n",
       "0                 Yes             Yes                  14          Venmo   \n",
       "2                 Yes             Yes                  23    Credit Card   \n",
       "3                 Yes             Yes                  49         PayPal   \n",
       "5                 Yes             Yes                  14          Venmo   \n",
       "6                 Yes             Yes                  49           Cash   \n",
       "...               ...             ...                 ...            ...   \n",
       "2663               No              No                  25     Debit Card   \n",
       "2664               No              No                  14         PayPal   \n",
       "2665               No              No                  14  Bank Transfer   \n",
       "2666               No              No                  46    Credit Card   \n",
       "2667               No              No                  27         PayPal   \n",
       "\n",
       "     Frequency of Purchases  \n",
       "0               Fortnightly  \n",
       "2                    Weekly  \n",
       "3                    Weekly  \n",
       "5                    Weekly  \n",
       "6                 Quarterly  \n",
       "...                     ...  \n",
       "2663               Annually  \n",
       "2664              Bi-Weekly  \n",
       "2665            Fortnightly  \n",
       "2666         Every 3 Months  \n",
       "2667              Quarterly  \n",
       "\n",
       "[2646 rows x 16 columns]"
      ]
     },
     "execution_count": 104,
     "metadata": {},
     "output_type": "execute_result"
    }
   ],
   "source": [
    "df"
   ]
  },
  {
   "cell_type": "markdown",
   "id": "d45f939a",
   "metadata": {},
   "source": [
    "## Bining"
   ]
  },
  {
   "cell_type": "code",
   "execution_count": 105,
   "id": "f8a5ef2b",
   "metadata": {},
   "outputs": [],
   "source": [
    "def report(n):\n",
    "    if n=='Yes':\n",
    "        return 1\n",
    "    else:\n",
    "        return 0"
   ]
  },
  {
   "cell_type": "code",
   "execution_count": 106,
   "id": "da9d1101",
   "metadata": {},
   "outputs": [
    {
     "data": {
      "text/plain": [
       "0       1\n",
       "2       1\n",
       "3       1\n",
       "5       1\n",
       "6       1\n",
       "       ..\n",
       "2663    0\n",
       "2664    0\n",
       "2665    0\n",
       "2666    0\n",
       "2667    0\n",
       "Name: Discount Applied, Length: 2646, dtype: int64"
      ]
     },
     "execution_count": 106,
     "metadata": {},
     "output_type": "execute_result"
    }
   ],
   "source": [
    "df['Discount Applied'].apply(report)"
   ]
  },
  {
   "cell_type": "code",
   "execution_count": null,
   "id": "272caa7a",
   "metadata": {},
   "outputs": [],
   "source": []
  }
 ],
 "metadata": {
  "kernelspec": {
   "display_name": "Python 3 (ipykernel)",
   "language": "python",
   "name": "python3"
  },
  "language_info": {
   "codemirror_mode": {
    "name": "ipython",
    "version": 3
   },
   "file_extension": ".py",
   "mimetype": "text/x-python",
   "name": "python",
   "nbconvert_exporter": "python",
   "pygments_lexer": "ipython3",
   "version": "3.11.4"
  }
 },
 "nbformat": 4,
 "nbformat_minor": 5
}
