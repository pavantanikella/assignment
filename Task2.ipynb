{
 "cells": [
  {
   "cell_type": "markdown",
   "id": "b8536ea7",
   "metadata": {},
   "source": [
    "* Write a program that calculates the `sum, difference, product, and quotient` of two numbers: 10 and 5.\n",
    "\n",
    "* Create a program that calculates the `area of a circle` with a radius of 4.5 units."
   ]
  },
  {
   "cell_type": "markdown",
   "id": "3f81b9d8",
   "metadata": {},
   "source": [
    "*  Write a program that `swaps` the values of two variables: x with a value of 5 and \"y\" with a value of 10.\n",
    "* Create a program that calculates `compound interest` for a principal amount of $1000, an interest rate of 5%, and a time period of 3 years."
   ]
  },
  {
   "cell_type": "markdown",
   "id": "768483d0",
   "metadata": {},
   "source": [
    "* Write a program that `compares` two numbers: 7 and 12, and determines whether the first number is greater than, less than, or equal to the second number.\n",
    "* Create a program that `checks` if a person of age 18 is eligible to vote based on the voting age requirement.(True/False)"
   ]
  },
  {
   "cell_type": "markdown",
   "id": "7881a204",
   "metadata": {},
   "source": [
    "* Create a program that `swaps` the values of two integers: `a` with a value of 10 and `b` with a value of 20 using\n",
    " *  bitwise XOR (^) operator.\n",
    " * Logical AND\n",
    " * Logical OR\n",
    " * Logical NOT"
   ]
  },
  {
   "cell_type": "markdown",
   "id": "1844e65c",
   "metadata": {},
   "source": [
    "*  Create a Python program that calculates the `area of a rectangle`. Prompt the `user to enter` the length and width of the rectangle, `store them` in variables, and compute the area using the formula:area length width.Finally, `print the calculated area.\n",
    "\n",
    "* Create a Python program that calculates the `average` of three exam scores. Prompt the user to enter the scores, `store them` in variables, calculate the average, and print the result.\n",
    "\n",
    "* Write a Python program that `converts` temperature from Celsius to Fahrenheit. Prompt the user to enter a temperature in Celsius, store it in a variable, and convert it to Fahrenheit using the formula: `Fahrenheit = (Celsius* 9/5)+32`, and print the converted temperature.\n",
    "\n",
    "* What are the `logical operators` in Python? Explain `each one` with an example.\n",
    "\n",
    "* What are the `membership` operators in Python? Explain their usage with examples\n",
    "\n",
    "* List and briefly explain the `basic data types` available in Python.\n",
    "\n",
    "* Write a Python code snippet that `assigns a value to a variable `and determines its `data type` using the type() function."
   ]
  },
  {
   "cell_type": "markdown",
   "id": "95ed62b5",
   "metadata": {},
   "source": [
    "Assignment: Basic Python Operators\n",
    "\n",
    "**Task 1: Arithmetic Operators**\n",
    "1. Write a Python program that takes two user-input numbers and displays their sum using the addition operator.\n",
    "2. Create a program to calculate the area of a rectangle. Prompt the user for the length and width, then use multiplication to find the area.\n",
    "3. Implement a program that converts temperature from Celsius to Fahrenheit using the formula: Fahrenheit = (Celsius * 9/5) + 32.\n",
    "\n",
    "**Task 2: Comparison Operators**\n",
    "1. Write a program that compares two user-input numbers and prints whether the first number is greater than the second number or not.\n",
    "2. Create a program that determines whether a user-input year is a leap year or not. A leap year is divisible by 4 and not divisible by 100, unless it is also divisible by 400.\n",
    "3. Implement a simple guessing game. Generate a random number between 1 and 100 and have the user guess the number. Provide feedback if their guess is too high or too low, and let them know when they've guessed correctly.\n",
    "\n",
    "**Task 3: Logical Operators**\n",
    "1. Write a program that checks whether a user-input number is positive and even using logical AND (`and`) operator.\n",
    "2. Create a login system where you define a correct username and password. Ask the user for their input and compare it with the correct credentials using logical OR (`or`) operator. Provide access if either the username or password is correct.\n",
    "3. Implement a program that determines whether a given year is a leap year and divisible by 7 using logical NOT (`not`) operator.\n",
    "\n",
    "**Task 4: Assignment Operators**\n",
    "1. Write a program to calculate the square of a number using the exponentiation operator (`**`) and assign it back to the same variable.\n",
    "2. Create a program that keeps track of the total score in a game. Prompt the user for their latest score and update the total score using the addition assignment operator (`+=`).\n",
    "3. Implement a program to convert seconds into hours, minutes, and remaining seconds using both division and modulo operators, and then assign each value using assignment operators.\n",
    "\n",
    "**Task 5: Bitwise Operators**\n",
    "1. Write a program that performs a bitwise AND operation between two user-input numbers and displays the result.\n",
    "2. Create a program to toggle the nth bit of a given number. Ask the user for the number and the value of n, then use bitwise XOR (^) operator to toggle the bit.\n",
    "3. Implement a program to swap the values of two variables without using a temporary variable, only using bitwise XOR (^) operator.\n",
    "\n"
   ]
  },
  {
   "cell_type": "markdown",
   "id": "f8f56bc0",
   "metadata": {},
   "source": [
    "## sum,difference,product,quotient of 10 and 5"
   ]
  },
  {
   "cell_type": "code",
   "execution_count": 1,
   "id": "10bb353b",
   "metadata": {},
   "outputs": [
    {
     "name": "stdout",
     "output_type": "stream",
     "text": [
      "15\n"
     ]
    }
   ],
   "source": [
    "a=10\n",
    "b=5\n",
    "# sum of a and b\n",
    "c=a+b\n",
    "print(c)"
   ]
  },
  {
   "cell_type": "code",
   "execution_count": 2,
   "id": "d965bece",
   "metadata": {},
   "outputs": [
    {
     "name": "stdout",
     "output_type": "stream",
     "text": [
      "50\n"
     ]
    }
   ],
   "source": [
    "# product of a and b\n",
    "prod=a*b\n",
    "print(prod)"
   ]
  },
  {
   "cell_type": "code",
   "execution_count": 4,
   "id": "692c848e",
   "metadata": {},
   "outputs": [
    {
     "name": "stdout",
     "output_type": "stream",
     "text": [
      "5\n"
     ]
    }
   ],
   "source": [
    "# difference of a and b\n",
    "diff=a-b\n",
    "print(diff)"
   ]
  },
  {
   "cell_type": "code",
   "execution_count": 8,
   "id": "bb38e878",
   "metadata": {},
   "outputs": [
    {
     "name": "stdout",
     "output_type": "stream",
     "text": [
      "2\n"
     ]
    }
   ],
   "source": [
    "# quotient of a and b\n",
    "quo=a//b\n",
    "print(quo)"
   ]
  },
  {
   "cell_type": "markdown",
   "id": "4168d203",
   "metadata": {},
   "source": [
    "## Area of circle ,r=4.5"
   ]
  },
  {
   "cell_type": "code",
   "execution_count": 10,
   "id": "bf3943be",
   "metadata": {},
   "outputs": [
    {
     "name": "stdout",
     "output_type": "stream",
     "text": [
      "63.585\n"
     ]
    }
   ],
   "source": [
    "pi=3.14\n",
    "r=4.5\n",
    "area=pi*r**2\n",
    "print(area)"
   ]
  },
  {
   "cell_type": "markdown",
   "id": "37defb3d",
   "metadata": {},
   "source": [
    "## swaping of numbers"
   ]
  },
  {
   "cell_type": "code",
   "execution_count": 13,
   "id": "bd00b0ce",
   "metadata": {},
   "outputs": [
    {
     "name": "stdout",
     "output_type": "stream",
     "text": [
      "x= 10\n",
      "y= 5\n"
     ]
    }
   ],
   "source": [
    "x=5\n",
    "y=10\n",
    "x,y=y,x\n",
    "print(\"x=\",x)\n",
    "print(\"y=\",y)"
   ]
  },
  {
   "cell_type": "markdown",
   "id": "d702e792",
   "metadata": {},
   "source": [
    "## compound interest "
   ]
  },
  {
   "cell_type": "code",
   "execution_count": 20,
   "id": "86587b60",
   "metadata": {},
   "outputs": [
    {
     "name": "stdout",
     "output_type": "stream",
     "text": [
      "157.62500000000023\n"
     ]
    }
   ],
   "source": [
    "p=1000 #principal\n",
    "r=5    #rate of interest\n",
    "t=3    # time \n",
    "a=p*(1+(r/100))**t # amount\n",
    "ci=a-p #compound interest\n",
    "print(ci)"
   ]
  },
  {
   "cell_type": "markdown",
   "id": "4d9fa782",
   "metadata": {},
   "source": [
    "## Write a program that compares two numbers: 7 and 12, and determines whether the first number is greater than, less than, or equal to the second number."
   ]
  },
  {
   "cell_type": "code",
   "execution_count": 28,
   "id": "7703c907",
   "metadata": {},
   "outputs": [
    {
     "data": {
      "text/plain": [
       "False"
      ]
     },
     "execution_count": 28,
     "metadata": {},
     "output_type": "execute_result"
    }
   ],
   "source": [
    "a=7\n",
    "b=8\n",
    "a>b"
   ]
  },
  {
   "cell_type": "code",
   "execution_count": 22,
   "id": "e0c12015",
   "metadata": {},
   "outputs": [
    {
     "data": {
      "text/plain": [
       "False"
      ]
     },
     "execution_count": 22,
     "metadata": {},
     "output_type": "execute_result"
    }
   ],
   "source": [
    "a>=b"
   ]
  },
  {
   "cell_type": "code",
   "execution_count": 23,
   "id": "11daec70",
   "metadata": {},
   "outputs": [
    {
     "data": {
      "text/plain": [
       "True"
      ]
     },
     "execution_count": 23,
     "metadata": {},
     "output_type": "execute_result"
    }
   ],
   "source": [
    "a<b"
   ]
  },
  {
   "cell_type": "code",
   "execution_count": 24,
   "id": "b06b9029",
   "metadata": {},
   "outputs": [
    {
     "data": {
      "text/plain": [
       "True"
      ]
     },
     "execution_count": 24,
     "metadata": {},
     "output_type": "execute_result"
    }
   ],
   "source": [
    "a<=b"
   ]
  },
  {
   "cell_type": "markdown",
   "id": "606d0ec4",
   "metadata": {},
   "source": [
    "## Create a program that checks if a person of age 18 is eligible to vote based on the voting age requirement.(True/False)"
   ]
  },
  {
   "cell_type": "code",
   "execution_count": 30,
   "id": "2a1f389c",
   "metadata": {},
   "outputs": [
    {
     "name": "stdout",
     "output_type": "stream",
     "text": [
      "enter age of a person18\n",
      "true\n"
     ]
    }
   ],
   "source": [
    "age=int(input(\"enter age of a person\"))\n",
    "if age>=18:\n",
    "    print(\"true\")\n",
    "else:\n",
    "    print(\"false\")"
   ]
  },
  {
   "cell_type": "markdown",
   "id": "6ade312e",
   "metadata": {},
   "source": [
    "## Create a program that swaps the values of two integers: a with a value of 10 and b with a value of 20 using\n",
    "* bitwise XOR (^) operator.\n",
    "* Logical AND\n",
    "* Logical OR\n",
    "* Logical NOT"
   ]
  },
  {
   "cell_type": "code",
   "execution_count": 35,
   "id": "34ed0748",
   "metadata": {},
   "outputs": [
    {
     "name": "stdout",
     "output_type": "stream",
     "text": [
      "20\n",
      "10\n"
     ]
    }
   ],
   "source": [
    "x = 10\n",
    "y = 20\n",
    "x = x^y\n",
    "y = x^y\n",
    "x = x^y\n",
    "print(x)\n",
    "print(y)"
   ]
  },
  {
   "cell_type": "code",
   "execution_count": 39,
   "id": "37542eb3",
   "metadata": {},
   "outputs": [
    {
     "data": {
      "text/plain": [
       "20"
      ]
     },
     "execution_count": 39,
     "metadata": {},
     "output_type": "execute_result"
    }
   ],
   "source": [
    "x=10\n",
    "y=20\n",
    "x and y"
   ]
  },
  {
   "cell_type": "code",
   "execution_count": 40,
   "id": "f4cae083",
   "metadata": {},
   "outputs": [
    {
     "data": {
      "text/plain": [
       "10"
      ]
     },
     "execution_count": 40,
     "metadata": {},
     "output_type": "execute_result"
    }
   ],
   "source": [
    "x or y"
   ]
  },
  {
   "cell_type": "markdown",
   "id": "fdac6183",
   "metadata": {},
   "source": [
    "## Create a Python program that calculates the area of a rectangle. Prompt the user to enter the length and width of the rectangle, store them in variables, and compute the area using the formula:area length width.Finally, `print the calculated area."
   ]
  },
  {
   "cell_type": "code",
   "execution_count": 43,
   "id": "cd8d3796",
   "metadata": {},
   "outputs": [
    {
     "name": "stdout",
     "output_type": "stream",
     "text": [
      "enter length of rectangle: 10\n",
      "enter width of rectangle:  5\n",
      "area =  50\n"
     ]
    }
   ],
   "source": [
    "length=int(input(\"enter length of rectangle: \"))\n",
    "width= int(input(\"enter width of rectangle:  \"))\n",
    "area=length * width\n",
    "print(\"area = \",area)"
   ]
  },
  {
   "cell_type": "markdown",
   "id": "25f2cd4f",
   "metadata": {},
   "source": [
    "## Create a Python program that calculates the average of three exam scores. Prompt the user to enter the scores, store them in variables, calculate the average, and print the result."
   ]
  },
  {
   "cell_type": "code",
   "execution_count": 45,
   "id": "56950285",
   "metadata": {},
   "outputs": [
    {
     "name": "stdout",
     "output_type": "stream",
     "text": [
      "enter first exam score: 50\n",
      "enter second exam score: 52\n",
      "enter third exam score: 53\n",
      "51.666666666666664\n"
     ]
    }
   ],
   "source": [
    "score1=int(input(\"enter first exam score: \"))\n",
    "score2=int(input(\"enter second exam score: \"))\n",
    "score3=int(input(\"enter third exam score: \"))\n",
    "total_score=score1+score2+score3\n",
    "average=total_score/3\n",
    "print(average)\n"
   ]
  },
  {
   "cell_type": "markdown",
   "id": "682f6527",
   "metadata": {},
   "source": [
    "## Write a Python program that converts temperature from Celsius to Fahrenheit. Prompt the user to enter a temperature in Celsius, store it in a variable, and convert it to Fahrenheit using the formula: Fahrenheit = (Celsius* 9/5)+32, and print the converted temperature."
   ]
  },
  {
   "cell_type": "code",
   "execution_count": 49,
   "id": "08fb9d46",
   "metadata": {},
   "outputs": [
    {
     "name": "stdout",
     "output_type": "stream",
     "text": [
      "enter any value of celsius scale: 100\n",
      "212.0\n"
     ]
    }
   ],
   "source": [
    "celsius=float(input(\"enter any value of celsius scale: \"))\n",
    "fahrenheit=(celsius*9/5)+32\n",
    "print(fahrenheit)"
   ]
  },
  {
   "cell_type": "markdown",
   "id": "2d5648ab",
   "metadata": {},
   "source": [
    "## What are the logical operators in Python? Explain each one with an example."
   ]
  },
  {
   "cell_type": "markdown",
   "id": "432afdbb",
   "metadata": {},
   "source": [
    "* There are 3 logical or Boolean operators in python \n",
    "* 1.and\n",
    "* 2.or\n",
    "* 3.not\n",
    "## AND\n",
    "* If both operands are true then it returns true \n",
    "* i,e-a=2,b=2,c=4\n",
    "* a+b=c AND b+a=c\n",
    "## or\n",
    "* if either of the operand is true it returns true\n",
    "* i,e a=2,b=3,c=1\n",
    "* a+b=c OR b-a=c\n",
    "## Not\n",
    "* true if operand is false \n",
    "* i,e a=2,b=3\n",
    "* a+b is NOT 6"
   ]
  },
  {
   "cell_type": "markdown",
   "id": "43bc17f0",
   "metadata": {},
   "source": [
    "## List and briefly explain the basic data types available in Python"
   ]
  },
  {
   "cell_type": "markdown",
   "id": "bc985bd7",
   "metadata": {},
   "source": [
    "* strings -Text between \" \" will consider as string--\"HELLO\",\"123\"\n",
    "* integers-all the whole numbers will come under integers--1998\n",
    "* floats  -all decimal values come under floats--2.25\n",
    "* Booleans-True or False will come under boolean\n",
    "* Lists- A collection of data between[] come under list--[1,2,3,4,5]\n",
    "* tuple-A collection of data between () come under tuple--(1,2,3,4,5)\n",
    "* sets- A collection of data between {} come under sets---{1,2,3,4,5}\n",
    "* dictionaries---A collection of data between{} ----{\"a\":1,\"b\":2,\"c\":3}"
   ]
  },
  {
   "cell_type": "markdown",
   "id": "d1b699dc",
   "metadata": {},
   "source": [
    "`Write a Python code snippet that assigns a value to a variable and determines its data type using the type() function."
   ]
  },
  {
   "cell_type": "code",
   "execution_count": 50,
   "id": "2ca51905",
   "metadata": {},
   "outputs": [
    {
     "data": {
      "text/plain": [
       "int"
      ]
     },
     "execution_count": 50,
     "metadata": {},
     "output_type": "execute_result"
    }
   ],
   "source": [
    "a=10\n",
    "type(a)"
   ]
  },
  {
   "cell_type": "code",
   "execution_count": 51,
   "id": "c63c1376",
   "metadata": {},
   "outputs": [
    {
     "data": {
      "text/plain": [
       "float"
      ]
     },
     "execution_count": 51,
     "metadata": {},
     "output_type": "execute_result"
    }
   ],
   "source": [
    "b=10.2\n",
    "type(b)"
   ]
  },
  {
   "cell_type": "code",
   "execution_count": 52,
   "id": "2fd18a4d",
   "metadata": {},
   "outputs": [
    {
     "data": {
      "text/plain": [
       "str"
      ]
     },
     "execution_count": 52,
     "metadata": {},
     "output_type": "execute_result"
    }
   ],
   "source": [
    "c=\"123\"\n",
    "type(c)"
   ]
  },
  {
   "cell_type": "code",
   "execution_count": 53,
   "id": "924172e5",
   "metadata": {},
   "outputs": [
    {
     "data": {
      "text/plain": [
       "bool"
      ]
     },
     "execution_count": 53,
     "metadata": {},
     "output_type": "execute_result"
    }
   ],
   "source": [
    "d=True\n",
    "type(d)"
   ]
  },
  {
   "cell_type": "code",
   "execution_count": 54,
   "id": "2bf26730",
   "metadata": {},
   "outputs": [
    {
     "data": {
      "text/plain": [
       "list"
      ]
     },
     "execution_count": 54,
     "metadata": {},
     "output_type": "execute_result"
    }
   ],
   "source": [
    "lis=[1,2,3,4]\n",
    "type(lis)"
   ]
  },
  {
   "cell_type": "code",
   "execution_count": 55,
   "id": "06aedefd",
   "metadata": {},
   "outputs": [
    {
     "data": {
      "text/plain": [
       "tuple"
      ]
     },
     "execution_count": 55,
     "metadata": {},
     "output_type": "execute_result"
    }
   ],
   "source": [
    "tup=(1,2,3,4)\n",
    "type(tup)"
   ]
  },
  {
   "cell_type": "code",
   "execution_count": 56,
   "id": "601338c3",
   "metadata": {},
   "outputs": [
    {
     "data": {
      "text/plain": [
       "set"
      ]
     },
     "execution_count": 56,
     "metadata": {},
     "output_type": "execute_result"
    }
   ],
   "source": [
    "se={1,2,3,4,5}\n",
    "type(se)"
   ]
  },
  {
   "cell_type": "code",
   "execution_count": 58,
   "id": "4909c199",
   "metadata": {},
   "outputs": [
    {
     "data": {
      "text/plain": [
       "dict"
      ]
     },
     "execution_count": 58,
     "metadata": {},
     "output_type": "execute_result"
    }
   ],
   "source": [
    "dic={\"a\":2,\"b\":3}\n",
    "type(dic)"
   ]
  },
  {
   "cell_type": "markdown",
   "id": "676a6867",
   "metadata": {},
   "source": [
    "## Task 1: Arithmetic Operators\n",
    "\n",
    "* 1. Write a Python program that takes two user-input numbers and displays their sum using the addition operator.\n",
    "* 2.Create a program to calculate the area of a rectangle. Prompt the user for the length and width, then use multiplication to find the area.\n",
    "* 3.Implement a program that converts temperature from Celsius to Fahrenheit using the formula: Fahrenheit = (Celsius * 9/5) + 32."
   ]
  },
  {
   "cell_type": "code",
   "execution_count": 61,
   "id": "5ab38ae2",
   "metadata": {
    "scrolled": true
   },
   "outputs": [
    {
     "name": "stdout",
     "output_type": "stream",
     "text": [
      "enter any number: 5\n",
      "enter any number: 6\n",
      "sum = 11\n"
     ]
    }
   ],
   "source": [
    "1.\n",
    "a=int(input(\"enter any number: \"))\n",
    "b=int(input(\"enter any number: \"))\n",
    "sum=a+b\n",
    "print(\"sum =\",sum)"
   ]
  },
  {
   "cell_type": "code",
   "execution_count": 62,
   "id": "b2f2a578",
   "metadata": {},
   "outputs": [
    {
     "name": "stdout",
     "output_type": "stream",
     "text": [
      "enter length of rectangle: 10\n",
      "enter width of rectangle:  5\n",
      "area =  50\n"
     ]
    }
   ],
   "source": [
    "2.\n",
    "length=int(input(\"enter length of rectangle: \"))\n",
    "width= int(input(\"enter width of rectangle:  \"))\n",
    "area=length * width\n",
    "print(\"area = \",area)"
   ]
  },
  {
   "cell_type": "code",
   "execution_count": 63,
   "id": "3365d5f5",
   "metadata": {},
   "outputs": [
    {
     "name": "stdout",
     "output_type": "stream",
     "text": [
      "enter any value of celsius scale: 98.5\n",
      "209.3\n"
     ]
    }
   ],
   "source": [
    "3.\n",
    "celsius=float(input(\"enter any value of celsius scale: \"))\n",
    "fahrenheit=(celsius*9/5)+32\n",
    "print(fahrenheit)"
   ]
  },
  {
   "cell_type": "markdown",
   "id": "7d07788b",
   "metadata": {},
   "source": [
    "Task 2: Comparison Operators\n",
    "\n",
    "* 1.Write a program that compares two user-input numbers and prints whether the first number is greater than the second number or not.\n",
    "* 2.Create a program that determines whether a user-input year is a leap year or not. A leap year is divisible by 4 and not divisible by 100, unless it is also divisible by 400.\n",
    "* 3.Implement a simple guessing game. Generate a random number between 1 and 100 and have the user guess the number. Provide feedback if their guess is too high or too low, and let them know when they've guessed correctly."
   ]
  },
  {
   "cell_type": "code",
   "execution_count": 65,
   "id": "eb8b23d3",
   "metadata": {},
   "outputs": [
    {
     "name": "stdout",
     "output_type": "stream",
     "text": [
      "enter any number: 10\n",
      "enter any number: 20\n",
      "b is greater than a\n"
     ]
    }
   ],
   "source": [
    "1.\n",
    "a=int(input(\"enter any number: \"))\n",
    "b=int(input(\"enter any number: \"))\n",
    "if a>b:\n",
    "    print(\"a is greater than b\")\n",
    "elif b>a:\n",
    "    print(\"b is greater than a\")\n",
    "else:\n",
    "    print(\"a and b are equal\")"
   ]
  },
  {
   "cell_type": "code",
   "execution_count": 66,
   "id": "1840faee",
   "metadata": {},
   "outputs": [
    {
     "name": "stdout",
     "output_type": "stream",
     "text": [
      "enter any year: 2005\n",
      "not leap year\n"
     ]
    }
   ],
   "source": [
    "2.\n",
    "year=int(input(\"enter any year: \"))\n",
    "if(year%4 == 0 and year % 100 !=0 or (year % 400 ==0)):\n",
    "    print(\"leap year\")\n",
    "else:\n",
    "    print(\"not leap year\")"
   ]
  },
  {
   "cell_type": "code",
   "execution_count": 67,
   "id": "e4797154",
   "metadata": {},
   "outputs": [],
   "source": [
    "3.import random\n",
    "number=random.randint(1,100)"
   ]
  },
  {
   "cell_type": "markdown",
   "id": "909baca1",
   "metadata": {},
   "source": [
    "Task 3: Logical Operators\n",
    "\n",
    "* 1.Write a program that checks whether a user-input number is positive and even using logical AND (and) operator.\n",
    "* 2.Create a login system where you define a correct username and password. Ask the user for their input and compare it with the * * correct credentials using logical OR (or) operator. Provide access if either the username or password is correct.\n",
    "* 3.Implement a program that determines whether a given year is a leap year and divisible by 7 using logical NOT (not) operator."
   ]
  },
  {
   "cell_type": "code",
   "execution_count": 69,
   "id": "cfa17b80",
   "metadata": {},
   "outputs": [
    {
     "name": "stdout",
     "output_type": "stream",
     "text": [
      "enter any number: 2\n",
      "number is even and positive\n"
     ]
    }
   ],
   "source": [
    "1.number=int(input(\"enter any number: \"))\n",
    "if(number%2==0 and number>0):\n",
    "    print(\"number is even and positive\")\n",
    "else:\n",
    "    print(\"number is not positive and not even\")"
   ]
  },
  {
   "cell_type": "code",
   "execution_count": 2,
   "id": "a7557c09",
   "metadata": {},
   "outputs": [
    {
     "name": "stdout",
     "output_type": "stream",
     "text": [
      "enter username: \"pavan\"\n",
      "enter the password: 1234\n",
      "access provided\n"
     ]
    }
   ],
   "source": [
    "2.\n",
    "username=\"pavan\"\n",
    "password=1234\n",
    "\n",
    "username1=input(\"enter username: \")\n",
    "password1=int(input(\"enter the password: \"))\n",
    "if(username1==username)or(password1==password):\n",
    "              print(\"access provided\")\n",
    "else:\n",
    "              print(\"access denied\")"
   ]
  },
  {
   "cell_type": "code",
   "execution_count": 74,
   "id": "10597c0e",
   "metadata": {},
   "outputs": [
    {
     "name": "stdout",
     "output_type": "stream",
     "text": [
      "enter any year: 2004\n",
      "leap year and divisible by 7\n"
     ]
    }
   ],
   "source": [
    "3.\n",
    "year=int(input(\"enter any year: \"))\n",
    "if(year%4 == 0 and year % 100 !=0 or (year % 400 ==0)and not(year%7!=0)):\n",
    "    print(\"leap year and divisible by 7\")\n",
    "else:\n",
    "    print(\"not leap year and not divisible 7\")"
   ]
  },
  {
   "cell_type": "markdown",
   "id": "e1128da9",
   "metadata": {},
   "source": [
    "Task 4: Assignment Operators\n",
    "\n",
    "* 1.Write a program to calculate the square of a number using the exponentiation operator (**) and assign it back to the same variable.\n",
    "* 2.Create a program that keeps track of the total score in a game. Prompt the user for their latest score and update the total score using the addition assignment operator (+=).\n",
    "* 3.Implement a program to convert seconds into hours, minutes, and remaining seconds using both division and modulo operators, and then assign each value using assignment operators."
   ]
  },
  {
   "cell_type": "code",
   "execution_count": 75,
   "id": "e390978d",
   "metadata": {},
   "outputs": [
    {
     "name": "stdout",
     "output_type": "stream",
     "text": [
      "enter any number: 2\n",
      "4\n"
     ]
    }
   ],
   "source": [
    "1.\n",
    "number=int(input(\"enter any number: \"))\n",
    "a=number**2\n",
    "print(a)"
   ]
  },
  {
   "cell_type": "code",
   "execution_count": 80,
   "id": "280e9342",
   "metadata": {},
   "outputs": [
    {
     "name": "stdout",
     "output_type": "stream",
     "text": [
      "enter any number of seconds: 5000\n",
      "hours in second:  1\n",
      "minutes in seconds  23\n",
      "seconds in seconds:  20\n",
      "seconds in seconds:  83.33333333333333\n"
     ]
    }
   ],
   "source": [
    "3.\n",
    "seconds=int(input(\"enter any number of seconds: \"))\n",
    "\n",
    "hours=seconds//3600\n",
    "minutes=(seconds%3600)//60\n",
    "remaining_seconds=seconds%60\n",
    "remainingtime=seconds/60\n",
    "\n",
    "print(\"hours in second: \",hours)\n",
    "print(\"minutes in seconds \",minutes)\n",
    "print(\"seconds in seconds: \",remaining_seconds)\n",
    "print(\"seconds in seconds: \",remainingtime)"
   ]
  },
  {
   "cell_type": "markdown",
   "id": "a020fd23",
   "metadata": {},
   "source": [
    "Task 5: Bitwise Operators\n",
    "\n",
    "* 1. Write a program that performs a bitwise AND operation between two user-input numbers and displays the result.\n",
    "* 2.Create a program to toggle the nth bit of a given number. Ask the user for the number and the value of n, then use bitwise XOR (^) operator to toggle the bit.\n",
    "* 3.Implement a program to swap the values of two variables without using a temporary variable, only using bitwise XOR (^) operator."
   ]
  },
  {
   "cell_type": "code",
   "execution_count": 82,
   "id": "30111553",
   "metadata": {},
   "outputs": [
    {
     "name": "stdout",
     "output_type": "stream",
     "text": [
      "enter any number15\n",
      "enter any number12\n",
      "12\n"
     ]
    }
   ],
   "source": [
    "1.\n",
    "a=int(input(\"enter any number\"))\n",
    "b=int(input(\"enter any number\"))\n",
    "c=a&b\n",
    "print(c)"
   ]
  },
  {
   "cell_type": "markdown",
   "id": "39fa6b8c",
   "metadata": {},
   "source": []
  },
  {
   "cell_type": "code",
   "execution_count": 83,
   "id": "44725655",
   "metadata": {},
   "outputs": [
    {
     "name": "stdout",
     "output_type": "stream",
     "text": [
      "20\n",
      "10\n"
     ]
    }
   ],
   "source": [
    "3.\n",
    "x = 10\n",
    "y = 20\n",
    "x = x^y\n",
    "y = x^y\n",
    "x = x^y\n",
    "print(x)\n",
    "print(y)"
   ]
  },
  {
   "cell_type": "code",
   "execution_count": null,
   "id": "d26b38e0",
   "metadata": {},
   "outputs": [],
   "source": []
  }
 ],
 "metadata": {
  "kernelspec": {
   "display_name": "Python 3 (ipykernel)",
   "language": "python",
   "name": "python3"
  },
  "language_info": {
   "codemirror_mode": {
    "name": "ipython",
    "version": 3
   },
   "file_extension": ".py",
   "mimetype": "text/x-python",
   "name": "python",
   "nbconvert_exporter": "python",
   "pygments_lexer": "ipython3",
   "version": "3.11.4"
  }
 },
 "nbformat": 4,
 "nbformat_minor": 5
}
