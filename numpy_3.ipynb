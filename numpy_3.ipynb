{
 "cells": [
  {
   "cell_type": "markdown",
   "id": "1b26abdb",
   "metadata": {},
   "source": [
    "## Data Cleaning using numpy\n",
    "\n",
    "### The following are the student marks of a class [44,24,np.nan,59,32,96,188,52,62,58,52,120,np.nan,np.nan,3,56,81,59,,122,92,np.nan,87,96,97,1,19,2,53, 44]\n",
    "\n",
    "\n",
    "* 1.Find the no of outliers and missing values?\n",
    "* 2.replace the outliers with 45 and missing value with 87.\n",
    "* 3.what is the average marks of students after 2nd step?\n",
    "* 4.How many students got less than 60 marks?\n",
    "* 5.what is the maximum marks?\n",
    "* 6.Convert the marks to float32.\n",
    "\n",
    "## Solving Linear Equations\n",
    "\n",
    "1. 2x + 3y - z = 10\n",
    "\n",
    "   x - y + 2z = 5\n",
    "\n",
    "   3x + 2y + z = 12\n",
    "\n",
    "\n",
    "2. 2x + y - z + 3w = 8\n",
    "\n",
    "   3x - 2y + 2z + 2w = 1\n",
    "\n",
    "   x + 3y - 2z + w = 7\n",
    "\n",
    "   4x - y + z - 2w = 3\n",
    "\n",
    "\n",
    "3. 4x + 2y - 3z = 10\n",
    "\n",
    "   -2x + 3y + z = -3\n",
    "\n",
    "    x - y + 2z = 4\n",
    "\n",
    "Solve the system of equations using NumPy's linalg.solve function.\n",
    "\n",
    "## Conditional Selection with np.where()\n",
    "\n",
    "1.Generate a random 1D array A of 10 integers between 1 and 100.\n",
    "\n",
    "2.Use np.where() to find the indices where the elements of A are greater than 50.\n",
    "\n",
    "3.Create a new array B that contains elements from A where the condition is met.\n",
    "\n",
    "4.Calculate the mean of array B and print it along with arrays A and B.\n",
    "\n",
    "## Replace Values with np.where()\n",
    "\n",
    "1.Create a 4x4 random integer matrix C with values between -10 and 10.\n",
    "\n",
    "2.Use np.where() to replace all negative values in matrix C with 0.\n",
    "\n",
    "3.Print the original matrix C and the modified matrix.\n",
    "\n",
    " "
   ]
  },
  {
   "cell_type": "code",
   "execution_count": 7,
   "id": "618f8340",
   "metadata": {},
   "outputs": [],
   "source": [
    "import numpy as np\n"
   ]
  },
  {
   "cell_type": "markdown",
   "id": "be953f1c",
   "metadata": {},
   "source": [
    "## Data Cleaning using numpy"
   ]
  },
  {
   "cell_type": "code",
   "execution_count": 17,
   "id": "101acca5",
   "metadata": {},
   "outputs": [
    {
     "data": {
      "text/plain": [
       "array([ 44.,  24.,  nan,  59.,  32.,  96., 188.,  52.,  62.,  58.,  52.,\n",
       "       120.,  nan,  nan,   3.,  56.,  81.,  59., 122.,  92.,  nan,  87.,\n",
       "        96.,  97.,   1.,  19.,   2.,  53.,  44.])"
      ]
     },
     "execution_count": 17,
     "metadata": {},
     "output_type": "execute_result"
    }
   ],
   "source": [
    "marks=np.array([44,24,np.nan,59,32,96,188,52,62,58,52,120,np.nan,np.nan,3,56,81,59,122,92,np.nan,87,96,97,1,19,2,53, 44])\n",
    "marks"
   ]
  },
  {
   "cell_type": "code",
   "execution_count": 11,
   "id": "1cc98250",
   "metadata": {},
   "outputs": [
    {
     "data": {
      "text/plain": [
       "array([False, False,  True, False, False, False, False, False, False,\n",
       "       False, False, False,  True,  True, False, False, False, False,\n",
       "       False, False,  True, False, False, False, False, False, False,\n",
       "       False, False])"
      ]
     },
     "execution_count": 11,
     "metadata": {},
     "output_type": "execute_result"
    }
   ],
   "source": [
    "np.isnan(marks)"
   ]
  },
  {
   "cell_type": "code",
   "execution_count": 24,
   "id": "ca802d25",
   "metadata": {},
   "outputs": [
    {
     "data": {
      "text/plain": [
       "array([ 44.,  24.,  45.,  59.,  32.,  96., 188.,  52.,  62.,  58.,  52.,\n",
       "       120.,  45.,  45.,   3.,  56.,  81.,  59., 122.,  92.,  45.,  87.,\n",
       "        96.,  97.,   1.,  19.,   2.,  53.,  44.], dtype=float32)"
      ]
     },
     "execution_count": 24,
     "metadata": {},
     "output_type": "execute_result"
    }
   ],
   "source": [
    "marks=np.where(np.isnan(marks),45,marks)\n",
    "marks"
   ]
  },
  {
   "cell_type": "code",
   "execution_count": 25,
   "id": "9feee993",
   "metadata": {},
   "outputs": [
    {
     "data": {
      "text/plain": [
       "dtype('float32')"
      ]
     },
     "execution_count": 25,
     "metadata": {},
     "output_type": "execute_result"
    }
   ],
   "source": [
    "marks.dtype"
   ]
  },
  {
   "cell_type": "code",
   "execution_count": 26,
   "id": "db27c5b1",
   "metadata": {},
   "outputs": [
    {
     "data": {
      "text/plain": [
       "61.344826"
      ]
     },
     "execution_count": 26,
     "metadata": {},
     "output_type": "execute_result"
    }
   ],
   "source": [
    "average=marks.mean()\n",
    "average"
   ]
  },
  {
   "cell_type": "code",
   "execution_count": 27,
   "id": "a71b3187",
   "metadata": {},
   "outputs": [
    {
     "data": {
      "text/plain": [
       "array([44., 24., 45., 59., 32., 52., 58., 52., 45., 45.,  3., 56., 59.,\n",
       "       45.,  1., 19.,  2., 53., 44.], dtype=float32)"
      ]
     },
     "execution_count": 27,
     "metadata": {},
     "output_type": "execute_result"
    }
   ],
   "source": [
    "marks[marks<60]"
   ]
  },
  {
   "cell_type": "code",
   "execution_count": 28,
   "id": "d0f49215",
   "metadata": {},
   "outputs": [
    {
     "data": {
      "text/plain": [
       "19"
      ]
     },
     "execution_count": 28,
     "metadata": {},
     "output_type": "execute_result"
    }
   ],
   "source": [
    "len(marks[marks<60])"
   ]
  },
  {
   "cell_type": "code",
   "execution_count": 29,
   "id": "c3bd84fc",
   "metadata": {},
   "outputs": [
    {
     "data": {
      "text/plain": [
       "188.0"
      ]
     },
     "execution_count": 29,
     "metadata": {},
     "output_type": "execute_result"
    }
   ],
   "source": [
    "marks.max()"
   ]
  },
  {
   "cell_type": "code",
   "execution_count": 32,
   "id": "eeded0c5",
   "metadata": {},
   "outputs": [],
   "source": [
    "marks=np.array(marks).astype('float32')"
   ]
  },
  {
   "cell_type": "code",
   "execution_count": 33,
   "id": "a7a88941",
   "metadata": {},
   "outputs": [
    {
     "data": {
      "text/plain": [
       "dtype('float32')"
      ]
     },
     "execution_count": 33,
     "metadata": {},
     "output_type": "execute_result"
    }
   ],
   "source": [
    "marks.dtype"
   ]
  },
  {
   "cell_type": "markdown",
   "id": "95f1c135",
   "metadata": {},
   "source": [
    "## Solving Linear Equations\n"
   ]
  },
  {
   "cell_type": "code",
   "execution_count": null,
   "id": "851d9fd8",
   "metadata": {},
   "outputs": [],
   "source": [
    "1.2x + 3y - z = 10\n",
    "\n",
    "  x - y + 2z = 5\n",
    "\n",
    "  3x + 2y + z = 12\n",
    "\n",
    "2.2x + y - z + 3w = 8\n",
    "\n",
    "  3x - 2y + 2z + 2w = 1\n",
    "\n",
    "  x + 3y - 2z + w = 7\n",
    "\n",
    "  4x - y + z - 2w = 3\n",
    "\n",
    "3.4x + 2y - 3z = 10\n",
    "\n",
    "  -2x + 3y + z = -3\n",
    "\n",
    "  x - y + 2z = 4"
   ]
  },
  {
   "cell_type": "code",
   "execution_count": 34,
   "id": "1a9099a4",
   "metadata": {},
   "outputs": [],
   "source": [
    "#1\n",
    "a=np.array([[2,3,-1],[1,-1,2],[3,2,1]])\n",
    "b=np.array([10,5,12])"
   ]
  },
  {
   "cell_type": "code",
   "execution_count": 35,
   "id": "2b32f146",
   "metadata": {},
   "outputs": [
    {
     "data": {
      "text/plain": [
       "array([-6.75539944e+15,  6.75539944e+15,  6.75539944e+15])"
      ]
     },
     "execution_count": 35,
     "metadata": {},
     "output_type": "execute_result"
    }
   ],
   "source": [
    "np.linalg.solve(a,b)"
   ]
  },
  {
   "cell_type": "code",
   "execution_count": 36,
   "id": "3763519a",
   "metadata": {},
   "outputs": [],
   "source": [
    "#2\n",
    "a=np.array([[2,1,-1,3],[3,-2,2,2],[1,3,-2,1],[4,-1,1,-2]])\n",
    "b=np.array([8,1,7,3])"
   ]
  },
  {
   "cell_type": "code",
   "execution_count": 37,
   "id": "31878770",
   "metadata": {},
   "outputs": [
    {
     "data": {
      "text/plain": [
       "array([ 1.73170732, -0.75609756, -3.46341463,  0.6097561 ])"
      ]
     },
     "execution_count": 37,
     "metadata": {},
     "output_type": "execute_result"
    }
   ],
   "source": [
    "np.linalg.solve(a,b)"
   ]
  },
  {
   "cell_type": "code",
   "execution_count": 38,
   "id": "e76eb374",
   "metadata": {},
   "outputs": [],
   "source": [
    "#3\n",
    "a=np.array([[4,2,-3],[-2,3,1],[1,-1,2]])\n",
    "b=np.array([10,-3,4])"
   ]
  },
  {
   "cell_type": "code",
   "execution_count": 39,
   "id": "16fda878",
   "metadata": {},
   "outputs": [
    {
     "data": {
      "text/plain": [
       "array([2.85365854, 0.6097561 , 0.87804878])"
      ]
     },
     "execution_count": 39,
     "metadata": {},
     "output_type": "execute_result"
    }
   ],
   "source": [
    "np.linalg.solve(a,b)"
   ]
  },
  {
   "cell_type": "code",
   "execution_count": null,
   "id": "ac4d4879",
   "metadata": {},
   "outputs": [],
   "source": []
  },
  {
   "cell_type": "markdown",
   "id": "dc938d8b",
   "metadata": {},
   "source": [
    "## Conditional Selection with np.where()"
   ]
  },
  {
   "cell_type": "code",
   "execution_count": 52,
   "id": "4c941cc8",
   "metadata": {},
   "outputs": [],
   "source": [
    "A=np.random.randint(1,101,10)"
   ]
  },
  {
   "cell_type": "code",
   "execution_count": 53,
   "id": "453d3a8d",
   "metadata": {},
   "outputs": [
    {
     "data": {
      "text/plain": [
       "array([35, 75, 83, 34, 65, 33, 81,  7, 14, 40])"
      ]
     },
     "execution_count": 53,
     "metadata": {},
     "output_type": "execute_result"
    }
   ],
   "source": [
    "A"
   ]
  },
  {
   "cell_type": "code",
   "execution_count": 55,
   "id": "e5932d4b",
   "metadata": {},
   "outputs": [
    {
     "data": {
      "text/plain": [
       "array([35, 75, 83, 34, 65, 33, 81,  7, 14, 40])"
      ]
     },
     "execution_count": 55,
     "metadata": {},
     "output_type": "execute_result"
    }
   ],
   "source": [
    "a=np.array([35, 75, 83, 34, 65, 33, 81,  7, 14, 40])\n",
    "a"
   ]
  },
  {
   "cell_type": "code",
   "execution_count": 56,
   "id": "d12ab257",
   "metadata": {},
   "outputs": [
    {
     "data": {
      "text/plain": [
       "array([75, 83, 65, 81])"
      ]
     },
     "execution_count": 56,
     "metadata": {},
     "output_type": "execute_result"
    }
   ],
   "source": [
    "indices=a[a>50]\n",
    "indices"
   ]
  },
  {
   "cell_type": "code",
   "execution_count": 57,
   "id": "88dc459d",
   "metadata": {},
   "outputs": [
    {
     "data": {
      "text/plain": [
       "[array([75, 83, 65, 81])]"
      ]
     },
     "execution_count": 57,
     "metadata": {},
     "output_type": "execute_result"
    }
   ],
   "source": [
    "b=[indices]\n",
    "b"
   ]
  },
  {
   "cell_type": "code",
   "execution_count": 59,
   "id": "39b5a520",
   "metadata": {},
   "outputs": [
    {
     "data": {
      "text/plain": [
       "76.0"
      ]
     },
     "execution_count": 59,
     "metadata": {},
     "output_type": "execute_result"
    }
   ],
   "source": [
    "B=np.mean(b)\n",
    "B"
   ]
  },
  {
   "cell_type": "code",
   "execution_count": 60,
   "id": "05b29f9d",
   "metadata": {},
   "outputs": [
    {
     "data": {
      "text/plain": [
       "array([35, 75, 83, 34, 65, 33, 81,  7, 14, 40])"
      ]
     },
     "execution_count": 60,
     "metadata": {},
     "output_type": "execute_result"
    }
   ],
   "source": [
    "a"
   ]
  },
  {
   "cell_type": "code",
   "execution_count": 61,
   "id": "98817a8b",
   "metadata": {},
   "outputs": [
    {
     "data": {
      "text/plain": [
       "[array([75, 83, 65, 81])]"
      ]
     },
     "execution_count": 61,
     "metadata": {},
     "output_type": "execute_result"
    }
   ],
   "source": [
    "b"
   ]
  },
  {
   "cell_type": "code",
   "execution_count": 62,
   "id": "1f7deaa8",
   "metadata": {},
   "outputs": [
    {
     "data": {
      "text/plain": [
       "76.0"
      ]
     },
     "execution_count": 62,
     "metadata": {},
     "output_type": "execute_result"
    }
   ],
   "source": [
    "B"
   ]
  },
  {
   "cell_type": "code",
   "execution_count": null,
   "id": "9470230b",
   "metadata": {},
   "outputs": [],
   "source": []
  },
  {
   "cell_type": "markdown",
   "id": "e74f7c1a",
   "metadata": {},
   "source": [
    "## Replace Values with np.where()"
   ]
  },
  {
   "cell_type": "code",
   "execution_count": 72,
   "id": "47413d17",
   "metadata": {},
   "outputs": [
    {
     "data": {
      "text/plain": [
       "array([[ 3, -6, -2,  1],\n",
       "       [ 9, -9,  5,  8],\n",
       "       [ 4,  4,  4,  0],\n",
       "       [-2,  4, -4,  6]])"
      ]
     },
     "execution_count": 72,
     "metadata": {},
     "output_type": "execute_result"
    }
   ],
   "source": [
    "matc=np.random.randint(-10,10,size=(4,4))\n",
    "matc"
   ]
  },
  {
   "cell_type": "code",
   "execution_count": 78,
   "id": "08d40145",
   "metadata": {},
   "outputs": [
    {
     "data": {
      "text/plain": [
       "array([[[[ 3, -6, -2,  1],\n",
       "         [ 9, -9,  5,  8],\n",
       "         [ 4,  4,  4,  0],\n",
       "         [-2,  4, -4,  6]]]])"
      ]
     },
     "execution_count": 78,
     "metadata": {},
     "output_type": "execute_result"
    }
   ],
   "source": [
    "c=np.array([[ 3, -6, -2,  1],\n",
    "       [ 9, -9,  5,  8],\n",
    "       [ 4,  4,  4,  0],\n",
    "       [-2,  4, -4,  6]],ndmin=4)\n",
    "c"
   ]
  },
  {
   "cell_type": "code",
   "execution_count": 80,
   "id": "29594aeb",
   "metadata": {},
   "outputs": [
    {
     "data": {
      "text/plain": [
       "4"
      ]
     },
     "execution_count": 80,
     "metadata": {},
     "output_type": "execute_result"
    }
   ],
   "source": [
    "c.ndim"
   ]
  },
  {
   "cell_type": "code",
   "execution_count": 81,
   "id": "371e5302",
   "metadata": {},
   "outputs": [
    {
     "data": {
      "text/plain": [
       "array([[[[3, 0, 0, 1],\n",
       "         [9, 0, 5, 8],\n",
       "         [4, 4, 4, 0],\n",
       "         [0, 4, 0, 6]]]])"
      ]
     },
     "execution_count": 81,
     "metadata": {},
     "output_type": "execute_result"
    }
   ],
   "source": [
    "c=np.where(c<0,0,c)\n",
    "c"
   ]
  },
  {
   "cell_type": "code",
   "execution_count": null,
   "id": "e07453ee",
   "metadata": {},
   "outputs": [],
   "source": []
  }
 ],
 "metadata": {
  "kernelspec": {
   "display_name": "Python 3 (ipykernel)",
   "language": "python",
   "name": "python3"
  },
  "language_info": {
   "codemirror_mode": {
    "name": "ipython",
    "version": 3
   },
   "file_extension": ".py",
   "mimetype": "text/x-python",
   "name": "python",
   "nbconvert_exporter": "python",
   "pygments_lexer": "ipython3",
   "version": "3.11.4"
  }
 },
 "nbformat": 4,
 "nbformat_minor": 5
}
