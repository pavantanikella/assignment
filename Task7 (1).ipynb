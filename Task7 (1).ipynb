{
 "cells": [
  {
   "cell_type": "markdown",
   "id": "f02710a3",
   "metadata": {},
   "source": [
    "\n",
    "**Task 1: Dictionary Basics**\n",
    "Create a Python program that defines a dictionary to store information about your `favorite book`. Include the title, author, publication year, and genre as key-value pairs. Print out the dictionary.and do atleast 5 dictionary methods on it.\n",
    "\n",
    "**Task 2: Dictionary Lookup**\n",
    "Write a Python program that simulates a simple dictionary for translating `English words to Spanish`. Define a dictionary containing a few English words as `keys` and their corresponding Spanish translations as `values`. Allow `users to enter` an English word, and then display its Spanish translation `if it exists` in the dictionary.(use google for English to Spanish translator)\n",
    "\n",
    "**Task 3: Student Grades**\n",
    "Create a Python program that stores the `grades of five students` in a dictionary. Allow users to input the names of the students and their respective grades. Calculate and display the `average grade` of the students.\n",
    "\n",
    "**Task 4: Contact List**\n",
    "Build a basic contact list using a dictionary. Initially, the dictionary can be `empty`. Allow users to `add new contacts` with `names and phone numbers`. Users should also be able to search for contacts by name and display their phone numbers(use in operator).\n",
    "\n",
    "**Task 5: Dictionary Iteration**\n",
    "Write a Python program that defines a dictionary containing the names of `fruits as keys` and their corresponding `colors as values` (e.g., 'apple': 'red').Do atleast 5 dictionary methods on it.\n"
   ]
  },
  {
   "cell_type": "code",
   "execution_count": null,
   "id": "ffad96c0",
   "metadata": {},
   "outputs": [],
   "source": []
  },
  {
   "cell_type": "markdown",
   "id": "5afc42fb",
   "metadata": {},
   "source": [
    "## Task 1: Dictionary Basics Create a Python program that defines a dictionary to store information about your favorite book. Include the title, author, publication year, and genre as key-value pairs. Print out the dictionary.and do atleast 5 dictionary methods on it."
   ]
  },
  {
   "cell_type": "code",
   "execution_count": 11,
   "id": "1094c288",
   "metadata": {},
   "outputs": [
    {
     "data": {
      "text/plain": [
       "{'Title': 'RAMAYANA',\n",
       " 'Author': 'Valmiki',\n",
       " 'Publication_year': 1980,\n",
       " 'gener': 'mythological'}"
      ]
     },
     "execution_count": 11,
     "metadata": {},
     "output_type": "execute_result"
    }
   ],
   "source": [
    "books={\"Title\":\"RAMAYANA\",\"Author\":\"Valmiki\",\"Publication_year\":1980,\"gener\":\"mythological\"}\n",
    "books"
   ]
  },
  {
   "cell_type": "code",
   "execution_count": 2,
   "id": "41d66078",
   "metadata": {},
   "outputs": [
    {
     "data": {
      "text/plain": [
       "dict"
      ]
     },
     "execution_count": 2,
     "metadata": {},
     "output_type": "execute_result"
    }
   ],
   "source": [
    "type(books)"
   ]
  },
  {
   "cell_type": "code",
   "execution_count": 12,
   "id": "9a263ee5",
   "metadata": {},
   "outputs": [
    {
     "data": {
      "text/plain": [
       "dict_items([('Title', 'RAMAYANA'), ('Author', 'Valmiki'), ('Publication_year', 1980), ('gener', 'mythological')])"
      ]
     },
     "execution_count": 12,
     "metadata": {},
     "output_type": "execute_result"
    }
   ],
   "source": [
    "books.items()"
   ]
  },
  {
   "cell_type": "code",
   "execution_count": 15,
   "id": "5842841e",
   "metadata": {},
   "outputs": [
    {
     "data": {
      "text/plain": [
       "'Valmiki'"
      ]
     },
     "execution_count": 15,
     "metadata": {},
     "output_type": "execute_result"
    }
   ],
   "source": [
    "books.get(\"Author\")"
   ]
  },
  {
   "cell_type": "code",
   "execution_count": 16,
   "id": "14d49439",
   "metadata": {},
   "outputs": [
    {
     "data": {
      "text/plain": [
       "dict_keys(['Title', 'Author', 'Publication_year', 'gener'])"
      ]
     },
     "execution_count": 16,
     "metadata": {},
     "output_type": "execute_result"
    }
   ],
   "source": [
    "books.keys()"
   ]
  },
  {
   "cell_type": "code",
   "execution_count": 17,
   "id": "8faf18e6",
   "metadata": {},
   "outputs": [
    {
     "data": {
      "text/plain": [
       "{'Title': 'RAMAYANA',\n",
       " 'Author': 'Valmiki',\n",
       " 'Publication_year': 1980,\n",
       " 'gener': 'mythological',\n",
       " 'langauge': 'telugu'}"
      ]
     },
     "execution_count": 17,
     "metadata": {},
     "output_type": "execute_result"
    }
   ],
   "source": [
    "books.update({\"langauge\":\"telugu\"})\n",
    "books"
   ]
  },
  {
   "cell_type": "code",
   "execution_count": 18,
   "id": "1c47c9c1",
   "metadata": {},
   "outputs": [
    {
     "data": {
      "text/plain": [
       "dict_values(['RAMAYANA', 'Valmiki', 1980, 'mythological', 'telugu'])"
      ]
     },
     "execution_count": 18,
     "metadata": {},
     "output_type": "execute_result"
    }
   ],
   "source": [
    "books.values()"
   ]
  },
  {
   "cell_type": "code",
   "execution_count": null,
   "id": "505b2ab7",
   "metadata": {},
   "outputs": [],
   "source": []
  },
  {
   "cell_type": "markdown",
   "id": "d21b64fc",
   "metadata": {},
   "source": [
    "## Task 2: Dictionary Lookup Write a Python program that simulates a simple dictionary for translating English words to Spanish. Define a dictionary containing a few English words as keys and their corresponding Spanish translations as values. Allow users to enter an English word, and then display its Spanish translation if it exists in the dictionary.(use google for English to Spanish translator)"
   ]
  },
  {
   "cell_type": "code",
   "execution_count": 19,
   "id": "69523504",
   "metadata": {},
   "outputs": [
    {
     "data": {
      "text/plain": [
       "{'hello': 'hola',\n",
       " 'goodbye': 'adios',\n",
       " 'cat': 'gato',\n",
       " 'dog': 'perro',\n",
       " 'apple': 'manzana'}"
      ]
     },
     "execution_count": 19,
     "metadata": {},
     "output_type": "execute_result"
    }
   ],
   "source": [
    "entosp={\"hello\":\"hola\",\"goodbye\":\"adios\",\"cat\":\"gato\",\"dog\":\"perro\",\"apple\":\"manzana\"}\n",
    "entosp"
   ]
  },
  {
   "cell_type": "code",
   "execution_count": 20,
   "id": "2dca1ae2",
   "metadata": {},
   "outputs": [
    {
     "data": {
      "text/plain": [
       "'hola'"
      ]
     },
     "execution_count": 20,
     "metadata": {},
     "output_type": "execute_result"
    }
   ],
   "source": [
    "entosp[\"hello\"]"
   ]
  },
  {
   "cell_type": "code",
   "execution_count": 22,
   "id": "b5336422",
   "metadata": {},
   "outputs": [
    {
     "data": {
      "text/plain": [
       "'adios'"
      ]
     },
     "execution_count": 22,
     "metadata": {},
     "output_type": "execute_result"
    }
   ],
   "source": [
    "entosp[\"goodbye\"]"
   ]
  },
  {
   "cell_type": "code",
   "execution_count": null,
   "id": "ec19d0d6",
   "metadata": {},
   "outputs": [],
   "source": []
  },
  {
   "cell_type": "markdown",
   "id": "7af5c5c6",
   "metadata": {},
   "source": [
    "## Task 3: Student Grades Create a Python program that stores the grades of five students in a dictionary. Allow users to input the names of the students and their respective grades. Calculate and display the average grade of the students."
   ]
  },
  {
   "cell_type": "code",
   "execution_count": 24,
   "id": "43ca2418",
   "metadata": {},
   "outputs": [
    {
     "name": "stdout",
     "output_type": "stream",
     "text": [
      "enter first name: mahesh\n",
      "enter second name: suresh\n",
      "enter third name: ramesh\n",
      "enter fourth name: dhanush\n",
      "enter fifth name: mukhes\n",
      "enter 1stgrade: 90\n",
      "enter 2ndgrade: 85\n",
      "enter 3rdgrade: 60\n",
      "enter 4thgrade: 70\n",
      "enter 5thgrade: 94\n"
     ]
    },
    {
     "data": {
      "text/plain": [
       "{'mahesh': 90, 'suresh': 85, 'ramesh': 60, 'dhanush': 70, 'mukhes': 94}"
      ]
     },
     "execution_count": 24,
     "metadata": {},
     "output_type": "execute_result"
    }
   ],
   "source": [
    "name=input(\"enter first name: \")\n",
    "name1=input(\"enter second name: \")\n",
    "name2=input(\"enter third name: \")\n",
    "name3=input(\"enter fourth name: \")\n",
    "name4=input(\"enter fifth name: \")\n",
    "grade=int(input(\"enter 1stgrade: \"))\n",
    "grade1=int(input(\"enter 2ndgrade: \"))\n",
    "grade2=int(input(\"enter 3rdgrade: \"))\n",
    "grade3=int(input(\"enter 4thgrade: \"))\n",
    "grade4=int(input(\"enter 5thgrade: \"))\n",
    "\n",
    "names=[name,name1,name2,name3,name4]\n",
    "grades=[grade,grade1,grade2,grade3,grade4]\n",
    "students=dict(zip(names,grades))\n",
    "students\n"
   ]
  },
  {
   "cell_type": "code",
   "execution_count": 28,
   "id": "e9702418",
   "metadata": {},
   "outputs": [
    {
     "data": {
      "text/plain": [
       "79"
      ]
     },
     "execution_count": 28,
     "metadata": {},
     "output_type": "execute_result"
    }
   ],
   "source": [
    "total=sum(grades)\n",
    "average=total//len(grades)\n",
    "average"
   ]
  },
  {
   "cell_type": "code",
   "execution_count": null,
   "id": "92f09161",
   "metadata": {},
   "outputs": [],
   "source": []
  },
  {
   "cell_type": "markdown",
   "id": "ccd7ac54",
   "metadata": {},
   "source": [
    "## Task 4: Contact List Build a basic contact list using a dictionary. Initially, the dictionary can be empty. Allow users to add new contacts with names and phone numbers. Users should also be able to search for contacts by name and display their phone numbers(use in operator)."
   ]
  },
  {
   "cell_type": "code",
   "execution_count": 36,
   "id": "8f071d04",
   "metadata": {},
   "outputs": [
    {
     "name": "stdout",
     "output_type": "stream",
     "text": [
      "enter 1st name: sunil\n",
      "enter 2nd name: anil\n",
      "enter 3rd name: praveen\n",
      "enter phone number: 9848022338\n",
      "enter phone number: 9949291345\n",
      "enter phone number: 9702415873\n"
     ]
    },
    {
     "data": {
      "text/plain": [
       "{'sunil': 9848022338, 'anil': 9949291345, 'praveen': 9702415873}"
      ]
     },
     "execution_count": 36,
     "metadata": {},
     "output_type": "execute_result"
    }
   ],
   "source": [
    "contacts={}\n",
    "name=input(\"enter 1st name: \")\n",
    "name2=input(\"enter 2nd name: \")\n",
    "name3=input(\"enter 3rd name: \")\n",
    "phno1=int(input(\"enter phone number: \"))\n",
    "phno2=int(input(\"enter phone number: \"))\n",
    "phno3=int(input(\"enter phone number: \"))\n",
    "contacts.update({name:phno1,name2:phno2,name3:phno3})\n",
    "contacts"
   ]
  },
  {
   "cell_type": "code",
   "execution_count": 41,
   "id": "b0a18c3c",
   "metadata": {},
   "outputs": [
    {
     "name": "stdout",
     "output_type": "stream",
     "text": [
      "enter name: sunil\n"
     ]
    },
    {
     "data": {
      "text/plain": [
       "9848022338"
      ]
     },
     "execution_count": 41,
     "metadata": {},
     "output_type": "execute_result"
    }
   ],
   "source": [
    "contact=input(\"enter name: \")\n",
    "contacts[contact]"
   ]
  },
  {
   "cell_type": "code",
   "execution_count": 43,
   "id": "4d8195ec",
   "metadata": {},
   "outputs": [
    {
     "data": {
      "text/plain": [
       "True"
      ]
     },
     "execution_count": 43,
     "metadata": {},
     "output_type": "execute_result"
    }
   ],
   "source": [
    "\"sunil\" in contacts"
   ]
  },
  {
   "cell_type": "code",
   "execution_count": null,
   "id": "4d90d373",
   "metadata": {},
   "outputs": [],
   "source": []
  },
  {
   "cell_type": "markdown",
   "id": "26d297b4",
   "metadata": {},
   "source": [
    "## Task 5: Dictionary Iteration Write a Python program that defines a dictionary containing the names of fruits as keys and their corresponding colors as values (e.g., 'apple': 'red').Do atleast 5 dictionary methods on it."
   ]
  },
  {
   "cell_type": "code",
   "execution_count": 44,
   "id": "88f7b668",
   "metadata": {},
   "outputs": [
    {
     "data": {
      "text/plain": [
       "{'apple': 'red',\n",
       " 'banana': 'yellow',\n",
       " 'mango': 'darkyellow',\n",
       " 'watermelo': 'greenred',\n",
       " 'guava': 'green'}"
      ]
     },
     "execution_count": 44,
     "metadata": {},
     "output_type": "execute_result"
    }
   ],
   "source": [
    "fruit=[\"apple\",\"banana\",\"mango\",\"watermelo\",\"guava\"]\n",
    "color=[\"red\",\"yellow\",\"darkyellow\",\"greenred\",\"green\"]\n",
    "fruits=dict(zip(fruit,color))\n",
    "fruits"
   ]
  },
  {
   "cell_type": "code",
   "execution_count": 45,
   "id": "afcc0d93",
   "metadata": {},
   "outputs": [
    {
     "data": {
      "text/plain": [
       "dict_items([('apple', 'red'), ('banana', 'yellow'), ('mango', 'darkyellow'), ('watermelo', 'greenred'), ('guava', 'green')])"
      ]
     },
     "execution_count": 45,
     "metadata": {},
     "output_type": "execute_result"
    }
   ],
   "source": [
    "fruits.items()"
   ]
  },
  {
   "cell_type": "code",
   "execution_count": 46,
   "id": "1a7c64b4",
   "metadata": {},
   "outputs": [
    {
     "data": {
      "text/plain": [
       "'red'"
      ]
     },
     "execution_count": 46,
     "metadata": {},
     "output_type": "execute_result"
    }
   ],
   "source": [
    "fruits.get(\"apple\")"
   ]
  },
  {
   "cell_type": "code",
   "execution_count": 47,
   "id": "0a8359e0",
   "metadata": {},
   "outputs": [
    {
     "data": {
      "text/plain": [
       "{'apple': 'red',\n",
       " 'banana': 'yellow',\n",
       " 'mango': 'darkyellow',\n",
       " 'watermelo': 'greenred',\n",
       " 'guava': 'green',\n",
       " 'kiwi': 'black'}"
      ]
     },
     "execution_count": 47,
     "metadata": {},
     "output_type": "execute_result"
    }
   ],
   "source": [
    "fruits.update({\"kiwi\":\"black\"})\n",
    "fruits"
   ]
  },
  {
   "cell_type": "code",
   "execution_count": 48,
   "id": "1d505bc2",
   "metadata": {},
   "outputs": [
    {
     "data": {
      "text/plain": [
       "dict_values(['red', 'yellow', 'darkyellow', 'greenred', 'green', 'black'])"
      ]
     },
     "execution_count": 48,
     "metadata": {},
     "output_type": "execute_result"
    }
   ],
   "source": [
    "fruits.values()"
   ]
  },
  {
   "cell_type": "code",
   "execution_count": 50,
   "id": "68800108",
   "metadata": {},
   "outputs": [
    {
     "data": {
      "text/plain": [
       "'black'"
      ]
     },
     "execution_count": 50,
     "metadata": {},
     "output_type": "execute_result"
    }
   ],
   "source": [
    "fruits.pop(\"kiwi\")"
   ]
  },
  {
   "cell_type": "code",
   "execution_count": 51,
   "id": "28bc0c1d",
   "metadata": {},
   "outputs": [
    {
     "data": {
      "text/plain": [
       "{'apple': 'red',\n",
       " 'banana': 'yellow',\n",
       " 'mango': 'darkyellow',\n",
       " 'watermelo': 'greenred',\n",
       " 'guava': 'green'}"
      ]
     },
     "execution_count": 51,
     "metadata": {},
     "output_type": "execute_result"
    }
   ],
   "source": [
    "fruits"
   ]
  },
  {
   "cell_type": "code",
   "execution_count": null,
   "id": "9b99ce89",
   "metadata": {},
   "outputs": [],
   "source": []
  }
 ],
 "metadata": {
  "kernelspec": {
   "display_name": "Python 3 (ipykernel)",
   "language": "python",
   "name": "python3"
  },
  "language_info": {
   "codemirror_mode": {
    "name": "ipython",
    "version": 3
   },
   "file_extension": ".py",
   "mimetype": "text/x-python",
   "name": "python",
   "nbconvert_exporter": "python",
   "pygments_lexer": "ipython3",
   "version": "3.11.4"
  }
 },
 "nbformat": 4,
 "nbformat_minor": 5
}
