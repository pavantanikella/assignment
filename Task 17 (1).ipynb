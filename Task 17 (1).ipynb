{
 "cells": [
  {
   "cell_type": "markdown",
   "id": "8dc8a778",
   "metadata": {},
   "source": [
    "\n",
    "`use context manager`\n",
    "\n",
    "**Create a file**\n",
    "Write a Python program that creates a text file named \"data.txt\" and add data about python programming (should contain at least 5 lines)\n",
    "\n",
    "**Read and Display File Contents**\n",
    "Write a Python program that reads a text file named \"data.txt\" and displays its contents on the screen.\n",
    "\n",
    "**Count Words in a File**\n",
    "Write a Python program that reads a text file named \"data.txt\" and counts the total number of words in the file. Display the word count on the screen.\n",
    "\n",
    "**Search and Replace**\n",
    "Create a Python program that reads a text file named \"data.txt\" and asks the user to enter a word to search for. If the word is found in the file, replace all occurrences of the word with a new word provided by the user.\n",
    "\n",
    "**Append to a File**\n",
    "Write a Python program that prompts the user to enter a sentence. Append this sentence to an existing file named \"notes.txt\". Make sure the newly added sentence starts on a new line.\n",
    "\n",
    "\n"
   ]
  },
  {
   "cell_type": "markdown",
   "id": "56877817",
   "metadata": {},
   "source": [
    "## Create a file Write a Python program that creates a text file named \"data.txt\" and add data about python programming (should contain at least 5 lines)"
   ]
  },
  {
   "cell_type": "code",
   "execution_count": null,
   "id": "29cfa829",
   "metadata": {},
   "outputs": [],
   "source": [
    "f1=open(\"data.txt\",\"x\")"
   ]
  },
  {
   "cell_type": "code",
   "execution_count": 4,
   "id": "3a3ac521",
   "metadata": {},
   "outputs": [],
   "source": [
    "f1=open(\"data.txt\",\"r+\")"
   ]
  },
  {
   "cell_type": "code",
   "execution_count": 5,
   "id": "8b7ef8d9",
   "metadata": {},
   "outputs": [
    {
     "data": {
      "text/plain": [
       "759"
      ]
     },
     "execution_count": 5,
     "metadata": {},
     "output_type": "execute_result"
    }
   ],
   "source": [
    "f1.write(\"Python was conceived in the late 1980s by Guido van Rossum at Centrum Wiskunde & Informatica (CWI) in the Netherlands as a successor to the ABC programming language, which was inspired by SETL, capable of exception handling and interfacing with the Amoeba operating system. Its implementation began in December 1989.[45] Van Rossum shouldered sole responsibility for the project, as the lead developer, until 12 July 2018, when he announced his permanent vacation from his responsibilities as Python's benevolent dictator for life, a title the Python community bestowed upon him to reflect his long-term commitment as the project's chief decision-maker. In January 2019, active Python core developers elected a five-member Steering Council to lead the project\")"
   ]
  },
  {
   "cell_type": "markdown",
   "id": "4b05e5df",
   "metadata": {},
   "source": [
    "## Read and Display File Contents Write a Python program that reads a text file named \"data.txt\" and displays its contents on the screen."
   ]
  },
  {
   "cell_type": "code",
   "execution_count": 6,
   "id": "add5f1a6",
   "metadata": {},
   "outputs": [
    {
     "data": {
      "text/plain": [
       "\"Python was conceived in the late 1980s by Guido van Rossum at Centrum Wiskunde & Informatica (CWI) in the Netherlands as a successor to the ABC programming language, which was inspired by SETL, capable of exception handling and interfacing with the Amoeba operating system. Its implementation began in December 1989.[45] Van Rossum shouldered sole responsibility for the project, as the lead developer, until 12 July 2018, when he announced his permanent vacation from his responsibilities as Python's benevolent dictator for life, a title the Python community bestowed upon him to reflect his long-term commitment as the project's chief decision-maker. In January 2019, active Python core developers elected a five-member Steering Council to lead the project\""
      ]
     },
     "execution_count": 6,
     "metadata": {},
     "output_type": "execute_result"
    }
   ],
   "source": [
    "f1.seek(0)\n",
    "f1.read()"
   ]
  },
  {
   "cell_type": "code",
   "execution_count": null,
   "id": "fc5febe1",
   "metadata": {},
   "outputs": [],
   "source": []
  },
  {
   "cell_type": "markdown",
   "id": "a8977492",
   "metadata": {},
   "source": [
    "## Count Words in a File Write a Python program that reads a text file named \"data.txt\" and counts the total number of words in the file. Display the word count on the screen."
   ]
  },
  {
   "cell_type": "code",
   "execution_count": 8,
   "id": "dc07f1e0",
   "metadata": {},
   "outputs": [],
   "source": [
    "new=f1.read()"
   ]
  },
  {
   "cell_type": "code",
   "execution_count": 9,
   "id": "409a3ccd",
   "metadata": {},
   "outputs": [],
   "source": [
    "coun=new.split()"
   ]
  },
  {
   "cell_type": "code",
   "execution_count": 10,
   "id": "4dc9a4de",
   "metadata": {},
   "outputs": [],
   "source": [
    "lenwords=len(coun)"
   ]
  },
  {
   "cell_type": "code",
   "execution_count": 11,
   "id": "25facc22",
   "metadata": {},
   "outputs": [
    {
     "name": "stdout",
     "output_type": "stream",
     "text": [
      "0\n"
     ]
    }
   ],
   "source": [
    "print(lenwords)"
   ]
  },
  {
   "cell_type": "markdown",
   "id": "8755b139",
   "metadata": {},
   "source": [
    "## Search and Replace Create a Python program that reads a text file named \"data.txt\" and asks the user to enter a word to search for. If the word is found in the file, replace all occurrences of the word with a new word provided by the user."
   ]
  },
  {
   "cell_type": "code",
   "execution_count": 12,
   "id": "c4b04726",
   "metadata": {},
   "outputs": [
    {
     "name": "stdout",
     "output_type": "stream",
     "text": [
      "enter any word to search: Netherlands\n",
      "enter word to replace it: newzland\n",
      "Netherlands is replced with newzland\n"
     ]
    }
   ],
   "source": [
    "with open(\"data.txt\",\"r\") as f2:\n",
    "    cont=f2.read()\n",
    "\n",
    "search_word=input(\"enter any word to search: \")\n",
    "\n",
    "if search_word in cont:\n",
    "    replace_word =input(\"enter word to replace it: \")\n",
    "    \n",
    "    new_cont=cont.replace(search_word,replace_word)\n",
    "    \n",
    "    with open(\"data.txt\",\"w\") as f2:\n",
    "        f2.write(new_cont)\n",
    "        \n",
    "    print(f\"{search_word} is replced with {replace_word}\")\n",
    "else:\n",
    "    print(f\"{search_word} is not found\")\n"
   ]
  },
  {
   "cell_type": "markdown",
   "id": "f7ac3d56",
   "metadata": {},
   "source": [
    "## Append to a File Write a Python program that prompts the user to enter a sentence. Append this sentence to an existing file named \"notes.txt\". Make sure the newly added sentence starts on a new line."
   ]
  },
  {
   "cell_type": "code",
   "execution_count": 16,
   "id": "ca7a64f5",
   "metadata": {},
   "outputs": [
    {
     "name": "stdout",
     "output_type": "stream",
     "text": [
      "enter any name you like: im learning python\n",
      "sentence has been appended to 'notes.text'.\n"
     ]
    }
   ],
   "source": [
    "name=input(\"enter any name you like: \")\n",
    "\n",
    "with open(\"notes.txt\",\"a\") as f3:\n",
    "    f3.write(\"\\n\" + name)\n",
    "print(\"sentence has been appended to 'notes.text'.\")"
   ]
  },
  {
   "cell_type": "code",
   "execution_count": null,
   "id": "257ec459",
   "metadata": {},
   "outputs": [],
   "source": []
  }
 ],
 "metadata": {
  "kernelspec": {
   "display_name": "Python 3 (ipykernel)",
   "language": "python",
   "name": "python3"
  },
  "language_info": {
   "codemirror_mode": {
    "name": "ipython",
    "version": 3
   },
   "file_extension": ".py",
   "mimetype": "text/x-python",
   "name": "python",
   "nbconvert_exporter": "python",
   "pygments_lexer": "ipython3",
   "version": "3.11.4"
  }
 },
 "nbformat": 4,
 "nbformat_minor": 5
}
