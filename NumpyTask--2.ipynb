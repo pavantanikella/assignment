{
 "cells": [
  {
   "cell_type": "markdown",
   "id": "402f1d20",
   "metadata": {},
   "source": [
    "\n",
    "## Creation of ndarray\n",
    "\n",
    "* 1.Write python code to create 3d array in different ways with 15 elements.\n",
    "* 2.Array Creation:\n",
    "* a. Create a 4D NumPy array containing the first 12 positive integers as arr1. b. Create a 3D NumPy array1 with 20 random elements containing integers between 0 and 1. 3. Find all attributes of array1 and array2 4. Apply measure and describe the data (attributes and descriptive statistics) to above arrays using NumPy.\n",
    "\n",
    "## Array Slicing and Indexing:\n",
    "\n",
    "a. Creating Arrays: - Create a 1-dimensional NumPy array arr1 with the values [0, 11, 26, 73, 42, 51, 6,77, 8,29]. - Create a 2-dimensional NumPy array arr2 with the values [[0, 1, 2], [3, 4, 5], [6, 7, 8]].\n",
    "\n",
    "b.Basic Indexing: - Print the element at index 3 of arr1. - Print the element at row 2, column 1 of arr2\n",
    "\n",
    "c. Array Slicing: - Print the first five elements of arr1. - Print the subarray of arr2 consisting of the last two rows and the first two columns. - Print every second element starting from index 1 up to index 7 of arr1.\n",
    "\n",
    "Data Type Manipulation\n",
    "\n",
    "a. Creating Arrays with Specific Data Types: - Create a 1-dimensional NumPy array int_array with the values [1, 2, 3, 4, 5] and the data type int16. - Create a 1-dimensional NumPy array float_array with the values [0.1, 0.2, 0.3, 0.4, 0.5] and the data type float64.\n",
    "\n",
    "b. Data Type Conversion: - Convert the float_array to an array with data type int32. Print the result. - Convert the int_array to an array with data type float32. Print the result.\n",
    "\n",
    "## Generating Random Numbers:\n",
    "\n",
    "1.Use numpy.random.randint() to create an array rand_integers containing 10 random integers between 0 and 100 (inclusive).\n",
    "\n",
    "2.Use numpy.random.uniform() to create an array rand_uniform containing 5 random numbers sampled from a uniform distribution between -1 and 1.\n",
    "\n",
    "3.Create an array rand_matrix with random integers between 50 and 100 (inclusive).and reshape it to 2-dimensional (4 x 4) matrix\n",
    "\n",
    "4.Apply descriptive statistics for rand_matrix.\n",
    "\n",
    "## Analyze the Data:\n",
    "\n",
    "#### Salaries = [87877, 54494, 54804, 85051, 52453, 31250, 94868, 66349, 39828, 60501, 58570, 74906, 41671, 51428, 56414, 98446, 56819, 82833, 50477, 62898, 99658, 89224, 34225, 79172, 32199, 63795, 90947, 55723, 64557, 3113638]\n",
    "\n",
    "1.Describe the data using numpy array. Measure the following:\n",
    "\n",
    "2.How many employees are getting more less than 50000?\n",
    "\n",
    "3.Is it following Normal Distribution?\n",
    "\n",
    "4.What is the median salary?\n",
    "\n",
    "5.What is the range of salaries for this company?\n",
    "\n",
    "6.Find the salaries between average salary and 75% of salaries?\n",
    "\n",
    "7.How many employees are getting less than 25 % of salaries ?\n",
    "\n",
    " "
   ]
  },
  {
   "cell_type": "code",
   "execution_count": 2,
   "id": "076f0cc0",
   "metadata": {},
   "outputs": [],
   "source": [
    "import numpy as np "
   ]
  },
  {
   "cell_type": "markdown",
   "id": "1f276402",
   "metadata": {},
   "source": [
    "## 1.Write python code to create 3d array in different ways with 15 elements."
   ]
  },
  {
   "cell_type": "code",
   "execution_count": 6,
   "id": "46f4a6a2",
   "metadata": {},
   "outputs": [
    {
     "data": {
      "text/plain": [
       "array([[[ 1,  2,  3,  4,  5,  6,  7,  8,  9, 10, 11, 12, 13, 14, 15]]])"
      ]
     },
     "execution_count": 6,
     "metadata": {},
     "output_type": "execute_result"
    }
   ],
   "source": [
    "array=np.array([[[1,2,3,4,5,6,7,8,9,10,11,12,13,14,15]]])\n",
    "array"
   ]
  },
  {
   "cell_type": "code",
   "execution_count": 7,
   "id": "70fc498b",
   "metadata": {},
   "outputs": [
    {
     "data": {
      "text/plain": [
       "3"
      ]
     },
     "execution_count": 7,
     "metadata": {},
     "output_type": "execute_result"
    }
   ],
   "source": [
    "array.ndim"
   ]
  },
  {
   "cell_type": "code",
   "execution_count": 8,
   "id": "68adbd8f",
   "metadata": {},
   "outputs": [
    {
     "data": {
      "text/plain": [
       "array([[[ 1,  2,  3,  4,  5,  6,  7,  8,  9, 10, 11, 12, 13, 14, 15]]])"
      ]
     },
     "execution_count": 8,
     "metadata": {},
     "output_type": "execute_result"
    }
   ],
   "source": [
    "array=np.array([1,2,3,4,5,6,7,8,9,10,11,12,13,14,15],ndmin=3)\n",
    "array"
   ]
  },
  {
   "cell_type": "code",
   "execution_count": 9,
   "id": "dea2bdbb",
   "metadata": {},
   "outputs": [
    {
     "data": {
      "text/plain": [
       "3"
      ]
     },
     "execution_count": 9,
     "metadata": {},
     "output_type": "execute_result"
    }
   ],
   "source": [
    "array.ndim"
   ]
  },
  {
   "cell_type": "code",
   "execution_count": 18,
   "id": "3d7a871c",
   "metadata": {},
   "outputs": [
    {
     "data": {
      "text/plain": [
       "[array([[[ 0,  1,  2,  3,  4]],\n",
       " \n",
       "        [[ 5,  6,  7,  8,  9]],\n",
       " \n",
       "        [[10, 11, 12, 13, 14]]])]"
      ]
     },
     "execution_count": 18,
     "metadata": {},
     "output_type": "execute_result"
    }
   ],
   "source": [
    "array=[np.arange(0,15).reshape(3,1,5)]\n",
    "array"
   ]
  },
  {
   "cell_type": "markdown",
   "id": "a3d9a454",
   "metadata": {},
   "source": [
    "## 2.Array Creation:\n",
    "* a. Create a 4D NumPy array containing the first 12 positive integers as arr1. \n",
    "* b. Create a 3D NumPy array1 with 20 random elements containing integers between 0 and 1.\n",
    "* c. Find all attributes of array1 and array2 \n",
    "* d. Apply measure and describe the data (attributes and descriptive statistics) to above arrays using NumPy."
   ]
  },
  {
   "cell_type": "code",
   "execution_count": 35,
   "id": "f9e2a728",
   "metadata": {},
   "outputs": [],
   "source": [
    "arr1=np.arange(1,13).reshape(3,2,1,2)\n",
    "array1=np.random.randint(0,1,20).reshape(2,2,5)"
   ]
  },
  {
   "cell_type": "code",
   "execution_count": 36,
   "id": "1e57d24e",
   "metadata": {},
   "outputs": [
    {
     "data": {
      "text/plain": [
       "array([[[[ 1,  2]],\n",
       "\n",
       "        [[ 3,  4]]],\n",
       "\n",
       "\n",
       "       [[[ 5,  6]],\n",
       "\n",
       "        [[ 7,  8]]],\n",
       "\n",
       "\n",
       "       [[[ 9, 10]],\n",
       "\n",
       "        [[11, 12]]]])"
      ]
     },
     "execution_count": 36,
     "metadata": {},
     "output_type": "execute_result"
    }
   ],
   "source": [
    "arr1"
   ]
  },
  {
   "cell_type": "code",
   "execution_count": 37,
   "id": "76065a8c",
   "metadata": {},
   "outputs": [
    {
     "data": {
      "text/plain": [
       "array([[[0, 0, 0, 0, 0],\n",
       "        [0, 0, 0, 0, 0]],\n",
       "\n",
       "       [[0, 0, 0, 0, 0],\n",
       "        [0, 0, 0, 0, 0]]])"
      ]
     },
     "execution_count": 37,
     "metadata": {},
     "output_type": "execute_result"
    }
   ],
   "source": [
    "array1"
   ]
  },
  {
   "cell_type": "markdown",
   "id": "386aff1f",
   "metadata": {},
   "source": [
    "## attributes"
   ]
  },
  {
   "cell_type": "code",
   "execution_count": 38,
   "id": "2bd0bc05",
   "metadata": {},
   "outputs": [
    {
     "data": {
      "text/plain": [
       "dtype('int32')"
      ]
     },
     "execution_count": 38,
     "metadata": {},
     "output_type": "execute_result"
    }
   ],
   "source": [
    "arr1.dtype"
   ]
  },
  {
   "cell_type": "code",
   "execution_count": 39,
   "id": "7be25aca",
   "metadata": {},
   "outputs": [
    {
     "data": {
      "text/plain": [
       "4"
      ]
     },
     "execution_count": 39,
     "metadata": {},
     "output_type": "execute_result"
    }
   ],
   "source": [
    "arr1.ndim"
   ]
  },
  {
   "cell_type": "code",
   "execution_count": 40,
   "id": "6f7fd95c",
   "metadata": {},
   "outputs": [
    {
     "data": {
      "text/plain": [
       "12"
      ]
     },
     "execution_count": 40,
     "metadata": {},
     "output_type": "execute_result"
    }
   ],
   "source": [
    "arr1.max()"
   ]
  },
  {
   "cell_type": "code",
   "execution_count": 41,
   "id": "31e22873",
   "metadata": {},
   "outputs": [
    {
     "data": {
      "text/plain": [
       "1"
      ]
     },
     "execution_count": 41,
     "metadata": {},
     "output_type": "execute_result"
    }
   ],
   "source": [
    "arr1.min()"
   ]
  },
  {
   "cell_type": "code",
   "execution_count": 42,
   "id": "7aab4350",
   "metadata": {},
   "outputs": [
    {
     "data": {
      "text/plain": [
       "12"
      ]
     },
     "execution_count": 42,
     "metadata": {},
     "output_type": "execute_result"
    }
   ],
   "source": [
    "arr1.size"
   ]
  },
  {
   "cell_type": "code",
   "execution_count": 43,
   "id": "5f0321dd",
   "metadata": {},
   "outputs": [
    {
     "data": {
      "text/plain": [
       "4"
      ]
     },
     "execution_count": 43,
     "metadata": {},
     "output_type": "execute_result"
    }
   ],
   "source": [
    "arr1.itemsize"
   ]
  },
  {
   "cell_type": "code",
   "execution_count": 44,
   "id": "e6e00199",
   "metadata": {},
   "outputs": [
    {
     "data": {
      "text/plain": [
       "48"
      ]
     },
     "execution_count": 44,
     "metadata": {},
     "output_type": "execute_result"
    }
   ],
   "source": [
    "arr1.nbytes"
   ]
  },
  {
   "cell_type": "code",
   "execution_count": 45,
   "id": "aba4585f",
   "metadata": {},
   "outputs": [
    {
     "data": {
      "text/plain": [
       "dtype('int32')"
      ]
     },
     "execution_count": 45,
     "metadata": {},
     "output_type": "execute_result"
    }
   ],
   "source": [
    "array1.dtype"
   ]
  },
  {
   "cell_type": "code",
   "execution_count": 46,
   "id": "eb7af681",
   "metadata": {},
   "outputs": [
    {
     "data": {
      "text/plain": [
       "3"
      ]
     },
     "execution_count": 46,
     "metadata": {},
     "output_type": "execute_result"
    }
   ],
   "source": [
    "array1.ndim"
   ]
  },
  {
   "cell_type": "code",
   "execution_count": 47,
   "id": "b3840ac5",
   "metadata": {},
   "outputs": [
    {
     "data": {
      "text/plain": [
       "0"
      ]
     },
     "execution_count": 47,
     "metadata": {},
     "output_type": "execute_result"
    }
   ],
   "source": [
    "array1.max()"
   ]
  },
  {
   "cell_type": "code",
   "execution_count": 48,
   "id": "3aa3580e",
   "metadata": {},
   "outputs": [
    {
     "data": {
      "text/plain": [
       "0"
      ]
     },
     "execution_count": 48,
     "metadata": {},
     "output_type": "execute_result"
    }
   ],
   "source": [
    "array1.min()"
   ]
  },
  {
   "cell_type": "code",
   "execution_count": 49,
   "id": "4c3a8533",
   "metadata": {},
   "outputs": [
    {
     "data": {
      "text/plain": [
       "20"
      ]
     },
     "execution_count": 49,
     "metadata": {},
     "output_type": "execute_result"
    }
   ],
   "source": [
    "array1.size"
   ]
  },
  {
   "cell_type": "code",
   "execution_count": 50,
   "id": "f914f050",
   "metadata": {},
   "outputs": [
    {
     "data": {
      "text/plain": [
       "4"
      ]
     },
     "execution_count": 50,
     "metadata": {},
     "output_type": "execute_result"
    }
   ],
   "source": [
    "array1.itemsize"
   ]
  },
  {
   "cell_type": "code",
   "execution_count": 51,
   "id": "c80c2b4e",
   "metadata": {},
   "outputs": [
    {
     "data": {
      "text/plain": [
       "80"
      ]
     },
     "execution_count": 51,
     "metadata": {},
     "output_type": "execute_result"
    }
   ],
   "source": [
    "array1.nbytes"
   ]
  },
  {
   "cell_type": "markdown",
   "id": "6a9ae985",
   "metadata": {},
   "source": [
    "## statistical measures"
   ]
  },
  {
   "cell_type": "markdown",
   "id": "8fdf7e27",
   "metadata": {},
   "source": [
    "### measure of central tendency"
   ]
  },
  {
   "cell_type": "markdown",
   "id": "7400454d",
   "metadata": {},
   "source": [
    "## arr1"
   ]
  },
  {
   "cell_type": "code",
   "execution_count": 52,
   "id": "28e8a0c7",
   "metadata": {},
   "outputs": [
    {
     "data": {
      "text/plain": [
       "6.5"
      ]
     },
     "execution_count": 52,
     "metadata": {},
     "output_type": "execute_result"
    }
   ],
   "source": [
    "arr1.mean()"
   ]
  },
  {
   "cell_type": "code",
   "execution_count": 54,
   "id": "ffbead9b",
   "metadata": {},
   "outputs": [
    {
     "data": {
      "text/plain": [
       "6.5"
      ]
     },
     "execution_count": 54,
     "metadata": {},
     "output_type": "execute_result"
    }
   ],
   "source": [
    "np.median(arr1)"
   ]
  },
  {
   "cell_type": "code",
   "execution_count": 56,
   "id": "1449d3b8",
   "metadata": {},
   "outputs": [
    {
     "data": {
      "text/plain": [
       "12"
      ]
     },
     "execution_count": 56,
     "metadata": {},
     "output_type": "execute_result"
    }
   ],
   "source": [
    "np.max(arr1)"
   ]
  },
  {
   "cell_type": "code",
   "execution_count": 57,
   "id": "7bf681f0",
   "metadata": {},
   "outputs": [
    {
     "data": {
      "text/plain": [
       "1"
      ]
     },
     "execution_count": 57,
     "metadata": {},
     "output_type": "execute_result"
    }
   ],
   "source": [
    "np.min(arr1)"
   ]
  },
  {
   "cell_type": "markdown",
   "id": "32ec3bb4",
   "metadata": {},
   "source": [
    "## array1"
   ]
  },
  {
   "cell_type": "code",
   "execution_count": 58,
   "id": "e3e95412",
   "metadata": {},
   "outputs": [
    {
     "data": {
      "text/plain": [
       "0.0"
      ]
     },
     "execution_count": 58,
     "metadata": {},
     "output_type": "execute_result"
    }
   ],
   "source": [
    "array1.mean()"
   ]
  },
  {
   "cell_type": "code",
   "execution_count": 60,
   "id": "702bc076",
   "metadata": {},
   "outputs": [
    {
     "data": {
      "text/plain": [
       "0.0"
      ]
     },
     "execution_count": 60,
     "metadata": {},
     "output_type": "execute_result"
    }
   ],
   "source": [
    "np.median(array1)"
   ]
  },
  {
   "cell_type": "code",
   "execution_count": 61,
   "id": "f9eebd75",
   "metadata": {},
   "outputs": [
    {
     "data": {
      "text/plain": [
       "0"
      ]
     },
     "execution_count": 61,
     "metadata": {},
     "output_type": "execute_result"
    }
   ],
   "source": [
    "np.max(array1)"
   ]
  },
  {
   "cell_type": "code",
   "execution_count": 62,
   "id": "a65f929d",
   "metadata": {},
   "outputs": [
    {
     "data": {
      "text/plain": [
       "0"
      ]
     },
     "execution_count": 62,
     "metadata": {},
     "output_type": "execute_result"
    }
   ],
   "source": [
    "np.min(array1)"
   ]
  },
  {
   "cell_type": "markdown",
   "id": "fa503b20",
   "metadata": {},
   "source": [
    "## measure of dispersion"
   ]
  },
  {
   "cell_type": "markdown",
   "id": "ea7832a7",
   "metadata": {},
   "source": [
    "## arr1"
   ]
  },
  {
   "cell_type": "code",
   "execution_count": 65,
   "id": "4c97f857",
   "metadata": {},
   "outputs": [
    {
     "data": {
      "text/plain": [
       "11"
      ]
     },
     "execution_count": 65,
     "metadata": {},
     "output_type": "execute_result"
    }
   ],
   "source": [
    "#range\n",
    "range1=np.max(arr1)-np.min(arr1)\n",
    "range1"
   ]
  },
  {
   "cell_type": "code",
   "execution_count": 67,
   "id": "55aae66c",
   "metadata": {},
   "outputs": [
    {
     "data": {
      "text/plain": [
       "11.916666666666666"
      ]
     },
     "execution_count": 67,
     "metadata": {},
     "output_type": "execute_result"
    }
   ],
   "source": [
    "#variance\n",
    "np.var(arr1)"
   ]
  },
  {
   "cell_type": "code",
   "execution_count": 68,
   "id": "869189fa",
   "metadata": {},
   "outputs": [
    {
     "data": {
      "text/plain": [
       "3.452052529534663"
      ]
     },
     "execution_count": 68,
     "metadata": {},
     "output_type": "execute_result"
    }
   ],
   "source": [
    "#standard deviation\n",
    "np.std(arr1)"
   ]
  },
  {
   "cell_type": "markdown",
   "id": "1571765b",
   "metadata": {},
   "source": [
    "## arr1--IQR"
   ]
  },
  {
   "cell_type": "code",
   "execution_count": 69,
   "id": "e1f1bfcd",
   "metadata": {},
   "outputs": [
    {
     "data": {
      "text/plain": [
       "3.75"
      ]
     },
     "execution_count": 69,
     "metadata": {},
     "output_type": "execute_result"
    }
   ],
   "source": [
    "q1=np.percentile(arr1,25)\n",
    "q1"
   ]
  },
  {
   "cell_type": "code",
   "execution_count": 70,
   "id": "bf9acff5",
   "metadata": {},
   "outputs": [
    {
     "data": {
      "text/plain": [
       "6.5"
      ]
     },
     "execution_count": 70,
     "metadata": {},
     "output_type": "execute_result"
    }
   ],
   "source": [
    "q2=np.percentile(arr1,50)\n",
    "q2"
   ]
  },
  {
   "cell_type": "code",
   "execution_count": 72,
   "id": "e86eb669",
   "metadata": {},
   "outputs": [
    {
     "data": {
      "text/plain": [
       "9.25"
      ]
     },
     "execution_count": 72,
     "metadata": {},
     "output_type": "execute_result"
    }
   ],
   "source": [
    "q3=np.percentile(arr1,75)\n",
    "q3"
   ]
  },
  {
   "cell_type": "code",
   "execution_count": 73,
   "id": "c3a8a55b",
   "metadata": {},
   "outputs": [
    {
     "data": {
      "text/plain": [
       "5.5"
      ]
     },
     "execution_count": 73,
     "metadata": {},
     "output_type": "execute_result"
    }
   ],
   "source": [
    "iqr=q3-q1\n",
    "iqr"
   ]
  },
  {
   "cell_type": "code",
   "execution_count": 75,
   "id": "061f3395",
   "metadata": {},
   "outputs": [
    {
     "data": {
      "text/plain": [
       "-4.5"
      ]
     },
     "execution_count": 75,
     "metadata": {},
     "output_type": "execute_result"
    }
   ],
   "source": [
    "lower=q1-(1.5*iqr)\n",
    "lower"
   ]
  },
  {
   "cell_type": "code",
   "execution_count": 76,
   "id": "cca43dfd",
   "metadata": {},
   "outputs": [
    {
     "data": {
      "text/plain": [
       "17.5"
      ]
     },
     "execution_count": 76,
     "metadata": {},
     "output_type": "execute_result"
    }
   ],
   "source": [
    "upper=q3+(1.5*iqr)\n",
    "upper"
   ]
  },
  {
   "cell_type": "code",
   "execution_count": 77,
   "id": "7892bff9",
   "metadata": {},
   "outputs": [
    {
     "data": {
      "text/plain": [
       "array([], dtype=int32)"
      ]
     },
     "execution_count": 77,
     "metadata": {},
     "output_type": "execute_result"
    }
   ],
   "source": [
    "arr1[arr1>upper]"
   ]
  },
  {
   "cell_type": "code",
   "execution_count": 78,
   "id": "40c628da",
   "metadata": {},
   "outputs": [
    {
     "data": {
      "text/plain": [
       "array([], dtype=int32)"
      ]
     },
     "execution_count": 78,
     "metadata": {},
     "output_type": "execute_result"
    }
   ],
   "source": [
    "arr1[arr1<lower]"
   ]
  },
  {
   "cell_type": "markdown",
   "id": "4f188554",
   "metadata": {},
   "source": [
    "## array1"
   ]
  },
  {
   "cell_type": "code",
   "execution_count": 83,
   "id": "0c4ffc3f",
   "metadata": {},
   "outputs": [
    {
     "data": {
      "text/plain": [
       "0"
      ]
     },
     "execution_count": 83,
     "metadata": {},
     "output_type": "execute_result"
    }
   ],
   "source": [
    "#range\n",
    "range2=np.max(array1)-np.min(array1)\n",
    "range2"
   ]
  },
  {
   "cell_type": "code",
   "execution_count": 84,
   "id": "d5241d41",
   "metadata": {},
   "outputs": [
    {
     "data": {
      "text/plain": [
       "0.0"
      ]
     },
     "execution_count": 84,
     "metadata": {},
     "output_type": "execute_result"
    }
   ],
   "source": [
    "#variance\n",
    "np.var(array1)"
   ]
  },
  {
   "cell_type": "code",
   "execution_count": 85,
   "id": "572c35f4",
   "metadata": {},
   "outputs": [
    {
     "data": {
      "text/plain": [
       "0.0"
      ]
     },
     "execution_count": 85,
     "metadata": {},
     "output_type": "execute_result"
    }
   ],
   "source": [
    "#standard deviation\n",
    "np.std(array1)"
   ]
  },
  {
   "cell_type": "markdown",
   "id": "4b0db78c",
   "metadata": {},
   "source": [
    "## array1--IQR"
   ]
  },
  {
   "cell_type": "code",
   "execution_count": 87,
   "id": "97ea01ec",
   "metadata": {},
   "outputs": [
    {
     "data": {
      "text/plain": [
       "0.0"
      ]
     },
     "execution_count": 87,
     "metadata": {},
     "output_type": "execute_result"
    }
   ],
   "source": [
    "q1=np.percentile(array1,25)\n",
    "q1"
   ]
  },
  {
   "cell_type": "code",
   "execution_count": 88,
   "id": "24f1ac46",
   "metadata": {},
   "outputs": [
    {
     "data": {
      "text/plain": [
       "0.0"
      ]
     },
     "execution_count": 88,
     "metadata": {},
     "output_type": "execute_result"
    }
   ],
   "source": [
    "q2=np.percentile(array1,50)\n",
    "q2"
   ]
  },
  {
   "cell_type": "code",
   "execution_count": 89,
   "id": "61970c9c",
   "metadata": {},
   "outputs": [
    {
     "data": {
      "text/plain": [
       "0.0"
      ]
     },
     "execution_count": 89,
     "metadata": {},
     "output_type": "execute_result"
    }
   ],
   "source": [
    "q3=np.percentile(array1,75)\n",
    "q3"
   ]
  },
  {
   "cell_type": "code",
   "execution_count": 90,
   "id": "64520195",
   "metadata": {},
   "outputs": [
    {
     "data": {
      "text/plain": [
       "0.0"
      ]
     },
     "execution_count": 90,
     "metadata": {},
     "output_type": "execute_result"
    }
   ],
   "source": [
    "iqr=q3-q1\n",
    "iqr"
   ]
  },
  {
   "cell_type": "code",
   "execution_count": 91,
   "id": "15ea9f23",
   "metadata": {},
   "outputs": [],
   "source": [
    "lower=q1-(1.5*iqr)\n",
    "upper=q3+(1.5*iqr)"
   ]
  },
  {
   "cell_type": "code",
   "execution_count": 92,
   "id": "db845766",
   "metadata": {},
   "outputs": [
    {
     "data": {
      "text/plain": [
       "array([], dtype=int32)"
      ]
     },
     "execution_count": 92,
     "metadata": {},
     "output_type": "execute_result"
    }
   ],
   "source": [
    "array1[array1>upper]"
   ]
  },
  {
   "cell_type": "code",
   "execution_count": 93,
   "id": "50287b77",
   "metadata": {},
   "outputs": [
    {
     "data": {
      "text/plain": [
       "array([], dtype=int32)"
      ]
     },
     "execution_count": 93,
     "metadata": {},
     "output_type": "execute_result"
    }
   ],
   "source": [
    "array1[array1<lower]"
   ]
  },
  {
   "cell_type": "code",
   "execution_count": null,
   "id": "9b89034c",
   "metadata": {},
   "outputs": [],
   "source": []
  },
  {
   "cell_type": "markdown",
   "id": "0edcf237",
   "metadata": {},
   "source": [
    "Array Slicing and Indexing:\n",
    "a. Creating Arrays: - Create a 1-dimensional NumPy array arr1 with the values [0, 11, 26, 73, 42, 51, 6,77, 8,29]. - Create a 2-dimensional NumPy array arr2 with the values [[0, 1, 2], [3, 4, 5], [6, 7, 8]].\n",
    "\n",
    "b.Basic Indexing: - Print the element at index 3 of arr1. - Print the element at row 2, column 1 of arr2\n",
    "\n",
    "c. Array Slicing: - Print the first five elements of arr1. - Print the subarray of arr2 consisting of the last two rows and the first two columns. - Print every second element starting from index 1 up to index 7 of arr1.\n",
    "\n",
    "Data Type Manipulation\n",
    "\n",
    "a. Creating Arrays with Specific Data Types: - Create a 1-dimensional NumPy array int_array with the values [1, 2, 3, 4, 5] and the data type int16. - Create a 1-dimensional NumPy array float_array with the values [0.1, 0.2, 0.3, 0.4, 0.5] and the data type float64.\n",
    "\n",
    "b. Data Type Conversion: - Convert the float_array to an array with data type int32. Print the result. - Convert the int_array to an array with data type float32. Print the result."
   ]
  },
  {
   "cell_type": "code",
   "execution_count": 3,
   "id": "656fe56e",
   "metadata": {},
   "outputs": [],
   "source": [
    "arr1=np.array([0,11,26,73,42,51,6,77,8,29])\n",
    "arr2=np.array( [[0, 1, 2], [3, 4, 5], [6, 7, 8]])"
   ]
  },
  {
   "cell_type": "code",
   "execution_count": 4,
   "id": "55d58b7a",
   "metadata": {},
   "outputs": [
    {
     "data": {
      "text/plain": [
       "array([ 0, 11, 26, 73, 42, 51,  6, 77,  8, 29])"
      ]
     },
     "execution_count": 4,
     "metadata": {},
     "output_type": "execute_result"
    }
   ],
   "source": [
    "arr1"
   ]
  },
  {
   "cell_type": "code",
   "execution_count": 5,
   "id": "fd529ece",
   "metadata": {},
   "outputs": [
    {
     "data": {
      "text/plain": [
       "array([[0, 1, 2],\n",
       "       [3, 4, 5],\n",
       "       [6, 7, 8]])"
      ]
     },
     "execution_count": 5,
     "metadata": {},
     "output_type": "execute_result"
    }
   ],
   "source": [
    "arr2"
   ]
  },
  {
   "cell_type": "markdown",
   "id": "bfb768c7",
   "metadata": {},
   "source": [
    "## indexing"
   ]
  },
  {
   "cell_type": "code",
   "execution_count": 6,
   "id": "8920bea5",
   "metadata": {},
   "outputs": [
    {
     "data": {
      "text/plain": [
       "73"
      ]
     },
     "execution_count": 6,
     "metadata": {},
     "output_type": "execute_result"
    }
   ],
   "source": [
    "arr1[3]"
   ]
  },
  {
   "cell_type": "code",
   "execution_count": 7,
   "id": "eb1a8d2d",
   "metadata": {},
   "outputs": [
    {
     "data": {
      "text/plain": [
       "7"
      ]
     },
     "execution_count": 7,
     "metadata": {},
     "output_type": "execute_result"
    }
   ],
   "source": [
    "arr2[2,1]"
   ]
  },
  {
   "cell_type": "markdown",
   "id": "6bb8a309",
   "metadata": {},
   "source": [
    "## slicing"
   ]
  },
  {
   "cell_type": "code",
   "execution_count": 8,
   "id": "f527fca4",
   "metadata": {},
   "outputs": [
    {
     "data": {
      "text/plain": [
       "array([ 0, 11, 26, 73, 42])"
      ]
     },
     "execution_count": 8,
     "metadata": {},
     "output_type": "execute_result"
    }
   ],
   "source": [
    "arr1[:5]"
   ]
  },
  {
   "cell_type": "code",
   "execution_count": 13,
   "id": "97716437",
   "metadata": {},
   "outputs": [
    {
     "data": {
      "text/plain": [
       "array([[3, 4],\n",
       "       [6, 7]])"
      ]
     },
     "execution_count": 13,
     "metadata": {},
     "output_type": "execute_result"
    }
   ],
   "source": [
    "arr2[1:,0:2]"
   ]
  },
  {
   "cell_type": "code",
   "execution_count": 15,
   "id": "313c0f7a",
   "metadata": {},
   "outputs": [
    {
     "data": {
      "text/plain": [
       "array([11, 73, 51, 77])"
      ]
     },
     "execution_count": 15,
     "metadata": {},
     "output_type": "execute_result"
    }
   ],
   "source": [
    "arr1[1:8:2]"
   ]
  },
  {
   "cell_type": "markdown",
   "id": "acc225cc",
   "metadata": {},
   "source": [
    "## data manipulation"
   ]
  },
  {
   "cell_type": "code",
   "execution_count": 16,
   "id": "f8c8118a",
   "metadata": {},
   "outputs": [],
   "source": [
    "int_array=np.array([1, 2, 3, 4, 5],dtype='int16')"
   ]
  },
  {
   "cell_type": "code",
   "execution_count": 19,
   "id": "fb5bf978",
   "metadata": {},
   "outputs": [
    {
     "data": {
      "text/plain": [
       "dtype('int16')"
      ]
     },
     "execution_count": 19,
     "metadata": {},
     "output_type": "execute_result"
    }
   ],
   "source": [
    "int_array.dtype"
   ]
  },
  {
   "cell_type": "code",
   "execution_count": 20,
   "id": "2c3618c0",
   "metadata": {},
   "outputs": [],
   "source": [
    "float_array=np.array( [0.1, 0.2, 0.3, 0.4, 0.5],dtype='float64')"
   ]
  },
  {
   "cell_type": "code",
   "execution_count": 21,
   "id": "34bdd743",
   "metadata": {},
   "outputs": [
    {
     "data": {
      "text/plain": [
       "dtype('float64')"
      ]
     },
     "execution_count": 21,
     "metadata": {},
     "output_type": "execute_result"
    }
   ],
   "source": [
    "float_array.dtype"
   ]
  },
  {
   "cell_type": "code",
   "execution_count": 22,
   "id": "ed37ddb6",
   "metadata": {},
   "outputs": [],
   "source": [
    "fint_array=np.array([1, 2, 3, 4, 5],dtype=\"float32\")"
   ]
  },
  {
   "cell_type": "code",
   "execution_count": 23,
   "id": "374756a1",
   "metadata": {},
   "outputs": [
    {
     "data": {
      "text/plain": [
       "dtype('float32')"
      ]
     },
     "execution_count": 23,
     "metadata": {},
     "output_type": "execute_result"
    }
   ],
   "source": [
    "fint_array.dtype"
   ]
  },
  {
   "cell_type": "code",
   "execution_count": 24,
   "id": "5e719f31",
   "metadata": {},
   "outputs": [],
   "source": [
    "ifloat_array=np.array( [0.1, 0.2, 0.3, 0.4, 0.5],dtype='int32')"
   ]
  },
  {
   "cell_type": "code",
   "execution_count": 25,
   "id": "3914dde0",
   "metadata": {},
   "outputs": [
    {
     "data": {
      "text/plain": [
       "dtype('int32')"
      ]
     },
     "execution_count": 25,
     "metadata": {},
     "output_type": "execute_result"
    }
   ],
   "source": [
    "ifloat_array.dtype"
   ]
  },
  {
   "cell_type": "code",
   "execution_count": null,
   "id": "c1190150",
   "metadata": {},
   "outputs": [],
   "source": []
  },
  {
   "cell_type": "markdown",
   "id": "45d7c18b",
   "metadata": {},
   "source": [
    "## Generating Random Numbers:\n",
    "\n",
    "1.Use numpy.random.randint() to create an array rand_integers containing 10 random integers between 0 and 100 (inclusive).\n",
    "\n",
    "2.Use numpy.random.uniform() to create an array rand_uniform containing 5 random numbers sampled from a uniform distribution between -1 and 1.\n",
    "\n",
    "3.Create an array rand_matrix with random integers between 50 and 100 (inclusive).and reshape it to 2-dimensional (4 x 4) matrix\n",
    "\n",
    "4.Apply descriptive statistics for rand_matrix."
   ]
  },
  {
   "cell_type": "code",
   "execution_count": 26,
   "id": "a6a63969",
   "metadata": {},
   "outputs": [
    {
     "data": {
      "text/plain": [
       "array([45, 73, 99, 18, 50, 55, 79, 64, 67, 79])"
      ]
     },
     "execution_count": 26,
     "metadata": {},
     "output_type": "execute_result"
    }
   ],
   "source": [
    "ran_array=np.random.randint(0,101,10)\n",
    "ran_array"
   ]
  },
  {
   "cell_type": "code",
   "execution_count": 27,
   "id": "9607717c",
   "metadata": {},
   "outputs": [
    {
     "data": {
      "text/plain": [
       "array([-0.92649074, -0.27967867,  0.41136571,  0.33502364,  0.84908901])"
      ]
     },
     "execution_count": 27,
     "metadata": {},
     "output_type": "execute_result"
    }
   ],
   "source": [
    "u_array=np.random.uniform(-1,1,5)\n",
    "u_array"
   ]
  },
  {
   "cell_type": "code",
   "execution_count": 36,
   "id": "6d5207c1",
   "metadata": {},
   "outputs": [
    {
     "data": {
      "text/plain": [
       "array([[73, 79, 92, 56],\n",
       "       [60, 65, 59, 91],\n",
       "       [97, 91, 92, 65]])"
      ]
     },
     "execution_count": 36,
     "metadata": {},
     "output_type": "execute_result"
    }
   ],
   "source": [
    "rand_matrix=np.random.randint(50,101,12).reshape(3,4)\n",
    "rand_matrix"
   ]
  },
  {
   "cell_type": "markdown",
   "id": "a7d7c7a7",
   "metadata": {},
   "source": [
    "## Descriptive statistics"
   ]
  },
  {
   "cell_type": "code",
   "execution_count": 37,
   "id": "76af4ff9",
   "metadata": {},
   "outputs": [
    {
     "data": {
      "text/plain": [
       "76.66666666666667"
      ]
     },
     "execution_count": 37,
     "metadata": {},
     "output_type": "execute_result"
    }
   ],
   "source": [
    "rand_matrix.mean()"
   ]
  },
  {
   "cell_type": "code",
   "execution_count": 38,
   "id": "82b8ec26",
   "metadata": {},
   "outputs": [
    {
     "data": {
      "text/plain": [
       "76.0"
      ]
     },
     "execution_count": 38,
     "metadata": {},
     "output_type": "execute_result"
    }
   ],
   "source": [
    "np.median(rand_matrix)"
   ]
  },
  {
   "cell_type": "code",
   "execution_count": 40,
   "id": "f5803a09",
   "metadata": {},
   "outputs": [
    {
     "data": {
      "text/plain": [
       "97"
      ]
     },
     "execution_count": 40,
     "metadata": {},
     "output_type": "execute_result"
    }
   ],
   "source": [
    "rand_matrix.max()"
   ]
  },
  {
   "cell_type": "code",
   "execution_count": 42,
   "id": "f4600e03",
   "metadata": {},
   "outputs": [
    {
     "data": {
      "text/plain": [
       "56"
      ]
     },
     "execution_count": 42,
     "metadata": {},
     "output_type": "execute_result"
    }
   ],
   "source": [
    "rand_matrix.min()"
   ]
  },
  {
   "cell_type": "code",
   "execution_count": 43,
   "id": "0f3731b0",
   "metadata": {},
   "outputs": [
    {
     "data": {
      "text/plain": [
       "41"
      ]
     },
     "execution_count": 43,
     "metadata": {},
     "output_type": "execute_result"
    }
   ],
   "source": [
    "range1=rand_matrix.max()-rand_matrix.min()\n",
    "range1"
   ]
  },
  {
   "cell_type": "code",
   "execution_count": 44,
   "id": "b448e2e8",
   "metadata": {},
   "outputs": [
    {
     "data": {
      "text/plain": [
       "216.88888888888889"
      ]
     },
     "execution_count": 44,
     "metadata": {},
     "output_type": "execute_result"
    }
   ],
   "source": [
    "rand_matrix.var()"
   ]
  },
  {
   "cell_type": "code",
   "execution_count": 45,
   "id": "6cad6af9",
   "metadata": {},
   "outputs": [
    {
     "data": {
      "text/plain": [
       "14.727148022916348"
      ]
     },
     "execution_count": 45,
     "metadata": {},
     "output_type": "execute_result"
    }
   ],
   "source": [
    "rand_matrix.std()"
   ]
  },
  {
   "cell_type": "markdown",
   "id": "95316f54",
   "metadata": {},
   "source": [
    "## IQR"
   ]
  },
  {
   "cell_type": "code",
   "execution_count": 46,
   "id": "e02e235c",
   "metadata": {},
   "outputs": [
    {
     "data": {
      "text/plain": [
       "63.75"
      ]
     },
     "execution_count": 46,
     "metadata": {},
     "output_type": "execute_result"
    }
   ],
   "source": [
    "q1=np.percentile(rand_matrix,25)\n",
    "q1"
   ]
  },
  {
   "cell_type": "code",
   "execution_count": 47,
   "id": "89d20fcf",
   "metadata": {},
   "outputs": [
    {
     "data": {
      "text/plain": [
       "76.0"
      ]
     },
     "execution_count": 47,
     "metadata": {},
     "output_type": "execute_result"
    }
   ],
   "source": [
    "q2=np.percentile(rand_matrix,50)\n",
    "q2"
   ]
  },
  {
   "cell_type": "code",
   "execution_count": 48,
   "id": "4549f3bc",
   "metadata": {},
   "outputs": [
    {
     "data": {
      "text/plain": [
       "91.25"
      ]
     },
     "execution_count": 48,
     "metadata": {},
     "output_type": "execute_result"
    }
   ],
   "source": [
    "q3=np.percentile(rand_matrix,75)\n",
    "q3"
   ]
  },
  {
   "cell_type": "code",
   "execution_count": 49,
   "id": "c6addee8",
   "metadata": {},
   "outputs": [
    {
     "data": {
      "text/plain": [
       "27.5"
      ]
     },
     "execution_count": 49,
     "metadata": {},
     "output_type": "execute_result"
    }
   ],
   "source": [
    "iqr=q3-q1\n",
    "iqr"
   ]
  },
  {
   "cell_type": "code",
   "execution_count": 50,
   "id": "4ae59798",
   "metadata": {},
   "outputs": [],
   "source": [
    "lower=q1-(1.5*iqr)\n",
    "upper=q3+(1.5*iqr)"
   ]
  },
  {
   "cell_type": "code",
   "execution_count": 51,
   "id": "7eaf41c4",
   "metadata": {},
   "outputs": [
    {
     "data": {
      "text/plain": [
       "array([], dtype=int32)"
      ]
     },
     "execution_count": 51,
     "metadata": {},
     "output_type": "execute_result"
    }
   ],
   "source": [
    "rand_matrix[rand_matrix>upper]"
   ]
  },
  {
   "cell_type": "code",
   "execution_count": 52,
   "id": "fa119eb7",
   "metadata": {},
   "outputs": [
    {
     "data": {
      "text/plain": [
       "array([], dtype=int32)"
      ]
     },
     "execution_count": 52,
     "metadata": {},
     "output_type": "execute_result"
    }
   ],
   "source": [
    "rand_matrix[rand_matrix<lower]"
   ]
  },
  {
   "cell_type": "code",
   "execution_count": null,
   "id": "0ed7f32a",
   "metadata": {},
   "outputs": [],
   "source": []
  },
  {
   "cell_type": "markdown",
   "id": "c60a4333",
   "metadata": {},
   "source": [
    "## Analyze the Data:\n",
    "#### Salaries = [87877, 54494, 54804, 85051, 52453, 31250, 94868, 66349, 39828, 60501, 58570, 74906, 41671, 51428, 56414, 98446, 56819, 82833, 50477, 62898, 99658, 89224, 34225, 79172, 32199, 63795, 90947, 55723, 64557, 3113638]\n",
    "\n",
    "1.Describe the data using numpy array. Measure the following:\n",
    "\n",
    "2.How many employees are getting more less than 50000?\n",
    "\n",
    "3.Is it following Normal Distribution?\n",
    "\n",
    "4.What is the median salary?\n",
    "\n",
    "5.What is the range of salaries for this company?\n",
    "\n",
    "6.Find the salaries between average salary and 75% of salaries?\n",
    "\n",
    "7.How many employees are getting less than 25 % of salaries ?"
   ]
  },
  {
   "cell_type": "code",
   "execution_count": 54,
   "id": "5cd4c565",
   "metadata": {},
   "outputs": [],
   "source": [
    "salaries=np.array( [87877, 54494, 54804, 85051, 52453, 31250, 94868, 66349, 39828, 60501, 58570, 74906, 41671, 51428, 56414, 98446, 56819, 82833, 50477, 62898, 99658, 89224, 34225, 79172, 32199, 63795, 90947, 55723, 64557, 3113638])"
   ]
  },
  {
   "cell_type": "code",
   "execution_count": 55,
   "id": "489d2b9e",
   "metadata": {},
   "outputs": [
    {
     "data": {
      "text/plain": [
       "array([31250, 39828, 41671, 34225, 32199])"
      ]
     },
     "execution_count": 55,
     "metadata": {},
     "output_type": "execute_result"
    }
   ],
   "source": [
    "salaries[salaries<50000]"
   ]
  },
  {
   "cell_type": "code",
   "execution_count": 56,
   "id": "c2fd9b06",
   "metadata": {},
   "outputs": [
    {
     "data": {
      "text/plain": [
       "5"
      ]
     },
     "execution_count": 56,
     "metadata": {},
     "output_type": "execute_result"
    }
   ],
   "source": [
    "len(salaries[salaries<50000])"
   ]
  },
  {
   "cell_type": "code",
   "execution_count": 57,
   "id": "9f388fbd",
   "metadata": {},
   "outputs": [
    {
     "data": {
      "text/plain": [
       "61699.5"
      ]
     },
     "execution_count": 57,
     "metadata": {},
     "output_type": "execute_result"
    }
   ],
   "source": [
    "# median\n",
    "np.median(salaries)"
   ]
  },
  {
   "cell_type": "code",
   "execution_count": 61,
   "id": "6cf78325",
   "metadata": {},
   "outputs": [
    {
     "data": {
      "text/plain": [
       "3082388"
      ]
     },
     "execution_count": 61,
     "metadata": {},
     "output_type": "execute_result"
    }
   ],
   "source": [
    "salaries.min()\n",
    "salaries.max()\n",
    "range2=salaries.max()-salaries.min()\n",
    "range2"
   ]
  },
  {
   "cell_type": "code",
   "execution_count": 64,
   "id": "9acc8827",
   "metadata": {},
   "outputs": [
    {
     "data": {
      "text/plain": [
       "166169.16666666666"
      ]
     },
     "execution_count": 64,
     "metadata": {},
     "output_type": "execute_result"
    }
   ],
   "source": [
    "avg=salaries.mean()\n",
    "avg"
   ]
  },
  {
   "cell_type": "code",
   "execution_count": 65,
   "id": "b90652b8",
   "metadata": {},
   "outputs": [
    {
     "data": {
      "text/plain": [
       "52963.25"
      ]
     },
     "execution_count": 65,
     "metadata": {},
     "output_type": "execute_result"
    }
   ],
   "source": [
    "q1=np.percentile(salaries,25)\n",
    "q1"
   ]
  },
  {
   "cell_type": "code",
   "execution_count": 66,
   "id": "9dcaa8d3",
   "metadata": {},
   "outputs": [
    {
     "data": {
      "text/plain": [
       "84496.5"
      ]
     },
     "execution_count": 66,
     "metadata": {},
     "output_type": "execute_result"
    }
   ],
   "source": [
    "q3=np.percentile(salaries,75)\n",
    "q3"
   ]
  },
  {
   "cell_type": "code",
   "execution_count": 81,
   "id": "6f61b144",
   "metadata": {},
   "outputs": [
    {
     "data": {
      "text/plain": [
       "array([3113638])"
      ]
     },
     "execution_count": 81,
     "metadata": {},
     "output_type": "execute_result"
    }
   ],
   "source": [
    "salaries[(salaries > avg)]"
   ]
  },
  {
   "cell_type": "code",
   "execution_count": 82,
   "id": "35e04b50",
   "metadata": {},
   "outputs": [
    {
     "data": {
      "text/plain": [
       "array([54494, 54804, 52453, 31250, 66349, 39828, 60501, 58570, 74906,\n",
       "       41671, 51428, 56414, 56819, 82833, 50477, 62898, 34225, 79172,\n",
       "       32199, 63795, 55723, 64557])"
      ]
     },
     "execution_count": 82,
     "metadata": {},
     "output_type": "execute_result"
    }
   ],
   "source": [
    "salaries[(salaries<q3)]"
   ]
  },
  {
   "cell_type": "code",
   "execution_count": 83,
   "id": "d2ef188e",
   "metadata": {},
   "outputs": [
    {
     "data": {
      "text/plain": [
       "array([52453, 31250, 39828, 41671, 51428, 50477, 34225, 32199])"
      ]
     },
     "execution_count": 83,
     "metadata": {},
     "output_type": "execute_result"
    }
   ],
   "source": [
    "salaries[(salaries<q1)]"
   ]
  },
  {
   "cell_type": "code",
   "execution_count": 84,
   "id": "bfe0e860",
   "metadata": {},
   "outputs": [
    {
     "data": {
      "text/plain": [
       "8"
      ]
     },
     "execution_count": 84,
     "metadata": {},
     "output_type": "execute_result"
    }
   ],
   "source": [
    "len(salaries[(salaries<q1)])"
   ]
  },
  {
   "cell_type": "code",
   "execution_count": null,
   "id": "b743d371",
   "metadata": {},
   "outputs": [],
   "source": []
  }
 ],
 "metadata": {
  "kernelspec": {
   "display_name": "Python 3 (ipykernel)",
   "language": "python",
   "name": "python3"
  },
  "language_info": {
   "codemirror_mode": {
    "name": "ipython",
    "version": 3
   },
   "file_extension": ".py",
   "mimetype": "text/x-python",
   "name": "python",
   "nbconvert_exporter": "python",
   "pygments_lexer": "ipython3",
   "version": "3.11.4"
  }
 },
 "nbformat": 4,
 "nbformat_minor": 5
}
