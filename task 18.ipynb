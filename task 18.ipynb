{
 "cells": [
  {
   "cell_type": "markdown",
   "id": "a35a726d",
   "metadata": {},
   "source": [
    "In this assignment, you will create a Python program to calculate the average grade of students in a function. However, the program should handle various exceptions that might occur during user input and grade calculation. Requirements:\n",
    "\n",
    "Your program should prompt the user to enter the total number of students.\n",
    "For each student, prompt the user to enter their name and three subject marks (out of 100).\n",
    "Handle the following exceptions\n",
    ": a. ValueError: If the user enters a non-numeric value for the number of students or subject marks.\n",
    "b. ZeroDivisionError: If any student's average marks cannot be calculated due to division by zero (e.g., no subject marks provided). \n",
    "c. NegativeValueError: If any student's marks are negative. \n",
    "4. Display appropriate error messages for each exception and prompt the user to try again. \n",
    "5. Use a try-except block for exception handling.\n",
    "6. Calculate the average marks for each student and display their names along with their average marks. \n",
    "7. Calculate and display the overall class average.\n",
    "8. Implement a loop so that the user can re-enter data if an exception occurs or continue calculating for another class.\n",
    "9. Include a graceful exit message when the user decides to stop.\n",
    "\n",
    "Custom(User Defined) Exceptions: Define two custom exception classes:\n",
    "\n",
    "`NegativeValueError: This exception should be raised when any of the subject marks are negative.\n",
    "`InvalidNumber Error: This exception should be raised when the user enters an invalid number for the total number of students (e.g., a negative number).\n",
    " "
   ]
  },
  {
   "cell_type": "code",
   "execution_count": 23,
   "id": "cc259dad",
   "metadata": {},
   "outputs": [
    {
     "name": "stdout",
     "output_type": "stream",
     "text": [
      "enter number of students: 3\n",
      "enter name of first student: pavan\n",
      "enter sub marks: 42\n",
      "enter sub marks: 44\n",
      "enter sub marks: 45\n",
      "pavan:43.666666666666664\n",
      "enter name of second student: kalyan\n",
      "enter sub marks: 43\n",
      "enter sub marks: 46\n",
      "enter sub marks: 48\n",
      "kalyan:45.666666666666664\n",
      "enter name of third student: raju\n",
      "enter sub marks: 38\n",
      "enter sub marks: 42\n",
      "enter sub marks: 46\n",
      "raju:42.0\n",
      "total average is =43.77777777777777\n"
     ]
    }
   ],
   "source": [
    "try:\n",
    "    def students():\n",
    "        total_students=int(input(\"enter number of students: \"))\n",
    "        if total_students<0:\n",
    "            raise InvalidNumberError(\"number shouldnot be negative\")\n",
    "            \n",
    "        student1=input(\"enter name of first student: \")\n",
    "        sub1=int(input(\"enter sub marks: \"))\n",
    "        sub2=int(input(\"enter sub marks: \"))\n",
    "        sub3=int(input(\"enter sub marks: \"))\n",
    "        avg1=(sub1+sub2+sub3)/3\n",
    "        print(f\"{student1}:{avg1}\")\n",
    "        \n",
    "        student2=input(\"enter name of second student: \")\n",
    "        sub11=int(input(\"enter sub marks: \"))\n",
    "        sub22=int(input(\"enter sub marks: \"))\n",
    "        sub33=int(input(\"enter sub marks: \"))\n",
    "        avg2=(sub11+sub22+sub33)/3\n",
    "        print(f\"{student2}:{avg2}\")\n",
    "        \n",
    "        student3=input(\"enter name of third student: \")\n",
    "        sub111=int(input(\"enter sub marks: \"))\n",
    "        sub222=int(input(\"enter sub marks: \"))\n",
    "        sub333=int(input(\"enter sub marks: \"))\n",
    "        avg3=(sub111+sub222+sub333)/3\n",
    "        print(f\"{student3}:{avg3}\")\n",
    "        total_avg=(avg1+avg2+avg3)/3\n",
    "        print(f\"total average is ={total_avg}\")\n",
    "    \n",
    "    students()\n",
    "\n",
    "except ValueError :\n",
    "    print(\"please enter a numeric values\")\n",
    "except ZeroDivisionError:\n",
    "    print(\"please provide a valid details\")\n",
    "        \n",
    "                \n",
    "\n",
    "            \n",
    "                         \n",
    "                \n",
    "        \n",
    "    \n",
    "   \n",
    "            \n",
    "            \n",
    "            \n",
    "        "
   ]
  },
  {
   "cell_type": "code",
   "execution_count": null,
   "id": "ef28ebd0",
   "metadata": {},
   "outputs": [],
   "source": [
    "\n"
   ]
  },
  {
   "cell_type": "code",
   "execution_count": null,
   "id": "c53b5651",
   "metadata": {},
   "outputs": [],
   "source": []
  }
 ],
 "metadata": {
  "kernelspec": {
   "display_name": "Python 3 (ipykernel)",
   "language": "python",
   "name": "python3"
  },
  "language_info": {
   "codemirror_mode": {
    "name": "ipython",
    "version": 3
   },
   "file_extension": ".py",
   "mimetype": "text/x-python",
   "name": "python",
   "nbconvert_exporter": "python",
   "pygments_lexer": "ipython3",
   "version": "3.11.4"
  }
 },
 "nbformat": 4,
 "nbformat_minor": 5
}
