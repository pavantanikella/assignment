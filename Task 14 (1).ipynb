{
 "cells": [
  {
   "cell_type": "markdown",
   "id": "dd9881f5",
   "metadata": {},
   "source": [
    "\n",
    "1. \n",
    "\n",
    "   - Create a lambda function that takes two arguments and returns their sum.\n",
    "   - Create another lambda function that takes a single argument and returns its square.\n",
    "   - Use the `lambda` functions to calculate the sum and square of various numbers and print the results.\n",
    "\n",
    "2. \n",
    "   - Define a list of integers.\n",
    "   - Use the `filter` function to create a new list that contains only the even numbers from the original list.\n",
    "   - Use the `filter` function again to create a new list that contains only numbers greater than 10 from the original list.\n",
    "   - Print both filtered lists.\n",
    "\n",
    "3. \n",
    "   - Define a list of strings where each string represents a number (e.g., `[\"1\", \"2\", \"3\"]`).\n",
    "   - Use the `map` function to convert each string to an integer and store the result in a new list.\n",
    "   - Use the `map` function again to square each integer in the new list and store the result in another new list.\n",
    "   - Print both new lists.\n",
    "\n",
    "4. \n",
    "   - Create a list of dictionaries, where each dictionary represents a person with keys \"name\" and \"age\". Example: ` [{\"name\": \"Alice\", \"age\": 30}, {\"name\": \"Bob\", \"age\": 25}, ...]`\n",
    "   - Use the `filter` function to create a new list that contains only the people who are older than 25.\n",
    "   - Use the `map` function to create a new list that contains the names of the filtered people.\n",
    "   - Print the list of names.\n",
    "\n",
    "5. \n",
    "   - Create a program that reads a list of numbers from the user (you can use the `input` function for this).\n",
    "   - Use `map` and `filter` functions to perform the following operations:\n",
    "     - Square each number.\n",
    "     - Filter out numbers that are not divisible by 3.\n",
    "   - Print the result.\n"
   ]
  },
  {
   "cell_type": "code",
   "execution_count": null,
   "id": "65b4537e",
   "metadata": {},
   "outputs": [],
   "source": []
  },
  {
   "cell_type": "markdown",
   "id": "48451418",
   "metadata": {},
   "source": [
    "## 1.\n",
    "\n",
    "### Create a lambda function that takes two arguments and returns their sum.\n",
    "### Create another lambda function that takes a single argument and returns its square.\n",
    "### Use the lambda functions to calculate the sum and square of various numbers and print the results."
   ]
  },
  {
   "cell_type": "code",
   "execution_count": 1,
   "id": "c5e6ae56",
   "metadata": {},
   "outputs": [
    {
     "data": {
      "text/plain": [
       "5"
      ]
     },
     "execution_count": 1,
     "metadata": {},
     "output_type": "execute_result"
    }
   ],
   "source": [
    "a=lambda x,y:x+y\n",
    "a(2,3)"
   ]
  },
  {
   "cell_type": "code",
   "execution_count": 2,
   "id": "ad3f28cc",
   "metadata": {},
   "outputs": [
    {
     "data": {
      "text/plain": [
       "25"
      ]
     },
     "execution_count": 2,
     "metadata": {},
     "output_type": "execute_result"
    }
   ],
   "source": [
    "b=lambda n:n**2\n",
    "b(5)"
   ]
  },
  {
   "cell_type": "code",
   "execution_count": 7,
   "id": "f12a6736",
   "metadata": {},
   "outputs": [
    {
     "name": "stdout",
     "output_type": "stream",
     "text": [
      "5\n",
      "9\n"
     ]
    }
   ],
   "source": [
    "c = lambda *n : sum(n) \n",
    "d = lambda n : n**2\n",
    "print(c(2,3))\n",
    "print(d(3))"
   ]
  },
  {
   "cell_type": "code",
   "execution_count": null,
   "id": "8c6fb9e7",
   "metadata": {},
   "outputs": [],
   "source": []
  },
  {
   "cell_type": "markdown",
   "id": "f88d3bbd",
   "metadata": {},
   "source": [
    "## 2.\n",
    "\n",
    "### Define a list of integers.\n",
    "### Use the filter function to create a new list that contains only the even numbers from the original list.\n",
    "### Use the filter function again to create a new list that contains only numbers greater than 10 from the original list.\n",
    "### Print both filtered lists."
   ]
  },
  {
   "cell_type": "code",
   "execution_count": 20,
   "id": "31e75abe",
   "metadata": {},
   "outputs": [
    {
     "data": {
      "text/plain": [
       "[2, 4, 6, 8, 10, 12]"
      ]
     },
     "execution_count": 20,
     "metadata": {},
     "output_type": "execute_result"
    }
   ],
   "source": [
    "number=[1,2,3,4,5,6,7,8,9,10,11,12,13]\n",
    "def num1(n):\n",
    "    if n%2 == 0:\n",
    "        return n\n",
    "a=list(filter(num1,number))\n",
    "a"
   ]
  },
  {
   "cell_type": "code",
   "execution_count": 21,
   "id": "8a01a434",
   "metadata": {},
   "outputs": [
    {
     "data": {
      "text/plain": [
       "[10, 12, 13, 14, 15, 16, 17, 18]"
      ]
     },
     "execution_count": 21,
     "metadata": {},
     "output_type": "execute_result"
    }
   ],
   "source": [
    "def num2(n):\n",
    "    if n>=10:\n",
    "        return n\n",
    "number2=[1,2,4,8,6,10,12,13,14,15,16,17,18]\n",
    "b=list(filter(num2,number2))\n",
    "b"
   ]
  },
  {
   "cell_type": "code",
   "execution_count": 22,
   "id": "4b85ccbc",
   "metadata": {},
   "outputs": [
    {
     "name": "stdout",
     "output_type": "stream",
     "text": [
      "[2, 4, 6, 8, 10, 12]\n",
      "[10, 12, 13, 14, 15, 16, 17, 18]\n"
     ]
    }
   ],
   "source": [
    "print(a)\n",
    "print(b)"
   ]
  },
  {
   "cell_type": "code",
   "execution_count": null,
   "id": "3d0b41a7",
   "metadata": {},
   "outputs": [],
   "source": []
  },
  {
   "cell_type": "markdown",
   "id": "9ffdcb27",
   "metadata": {},
   "source": [
    "## 3.\n",
    "\n",
    "### Define a list of strings where each string represents a number (e.g., [\"1\", \"2\", \"3\"]).\n",
    "### Use the map function to convert each string to an integer and store the result in a new list.\n",
    "### Use the map function again to square each integer in the new list and store the result in another new list.\n",
    "### Print both new lists"
   ]
  },
  {
   "cell_type": "code",
   "execution_count": 26,
   "id": "027932c8",
   "metadata": {},
   "outputs": [
    {
     "data": {
      "text/plain": [
       "[1, 2, 3, 4, 5, 6]"
      ]
     },
     "execution_count": 26,
     "metadata": {},
     "output_type": "execute_result"
    }
   ],
   "source": [
    "def string(n):\n",
    "    if list1==type(int):\n",
    "        return n\n",
    "        \n",
    "list1=[\"1\",\"2\",\"3\",\"4\",\"5\",\"6\"]\n",
    "new=list(map(int,list1))\n",
    "new\n"
   ]
  },
  {
   "cell_type": "code",
   "execution_count": 27,
   "id": "8036c921",
   "metadata": {},
   "outputs": [
    {
     "data": {
      "text/plain": [
       "[1, 4, 9, 16, 25, 36]"
      ]
     },
     "execution_count": 27,
     "metadata": {},
     "output_type": "execute_result"
    }
   ],
   "source": [
    "def square(n):\n",
    "    return n*n\n",
    "square_list = list(map(square,new))\n",
    "square_list"
   ]
  },
  {
   "cell_type": "code",
   "execution_count": null,
   "id": "fe29d2b6",
   "metadata": {},
   "outputs": [],
   "source": []
  },
  {
   "cell_type": "markdown",
   "id": "8e2a32f5",
   "metadata": {},
   "source": [
    "## 4.\n",
    "\n",
    "### Create a list of dictionaries, where each dictionary represents a person with keys \"name\" and \"age\". Example:  [{\"name\": \"Alice\", \"age\": 30}, {\"name\": \"Bob\", \"age\": 25}, ...]\n",
    "### Use the filter function to create a new list that contains only the people who are older than 25.\n",
    "### Use the map function to create a new list that contains the names of the filtered people.\n",
    "### Print the list of names"
   ]
  },
  {
   "cell_type": "code",
   "execution_count": 31,
   "id": "22fcdad0",
   "metadata": {},
   "outputs": [
    {
     "data": {
      "text/plain": [
       "[{'name': 'pavan', 'age': 25},\n",
       " {'name': 'Alice', 'age': 30},\n",
       " {'name': 'Bob', 'age': 25}]"
      ]
     },
     "execution_count": 31,
     "metadata": {},
     "output_type": "execute_result"
    }
   ],
   "source": [
    "people=[{\"name\":\"pavan\",\"age\":25},{\"name\":\"saketh\",\"age\":24},{\"name\": \"Alice\", \"age\": 30},{\"name\": \"Bob\", \"age\": 25}]\n",
    "def age(n):\n",
    "    if n[\"age\"]>=25:\n",
    "        return n\n",
    "a=list(filter(age,people))\n",
    "a"
   ]
  },
  {
   "cell_type": "code",
   "execution_count": 34,
   "id": "33c2729b",
   "metadata": {},
   "outputs": [
    {
     "data": {
      "text/plain": [
       "[{'name': 'pavan'}, {'name': 'Alice'}, {'name': 'Bob'}]"
      ]
     },
     "execution_count": 34,
     "metadata": {},
     "output_type": "execute_result"
    }
   ],
   "source": [
    "def new(n):\n",
    "    return{\"name\": n[\"name\"]}\n",
    "list(map(new,a))"
   ]
  },
  {
   "cell_type": "code",
   "execution_count": null,
   "id": "23ccfbe1",
   "metadata": {},
   "outputs": [],
   "source": []
  },
  {
   "cell_type": "markdown",
   "id": "110834bf",
   "metadata": {},
   "source": [
    "## 5.\n",
    "\n",
    "### Create a program that reads a list of numbers from the user (you can use the input function for this).\n",
    "### Use map and filter functions to perform the following operations:\n",
    "### Square each number.\n",
    "### Filter out numbers that are not divisible by 3.\n",
    "### Print the result."
   ]
  },
  {
   "cell_type": "code",
   "execution_count": 35,
   "id": "9d338542",
   "metadata": {},
   "outputs": [
    {
     "name": "stdout",
     "output_type": "stream",
     "text": [
      "How many number want to enter :: 5\n",
      "Enter a number :: 2\n",
      "Enter a number :: 4\n",
      "Enter a number :: 6\n",
      "Enter a number :: 7\n",
      "Enter a number :: 4\n",
      "Enter a number :: 2\n",
      "Original List :  [2, 4, 6, 7, 4, 2]\n",
      "Square of each number :  [4, 16, 36, 49, 16, 4]\n",
      "Numbers that are not divisible by 3 :  [2, 4, 7, 4, 2]\n"
     ]
    }
   ],
   "source": [
    "def square(n) :\n",
    "    return n*n\n",
    "list_1 = []\n",
    "num = int(input(\"How many number want to enter :: \"))\n",
    "for i in range(0,num+1) :\n",
    "    num_1 = int(input(\"Enter a number :: \"))\n",
    "    list_1.append(num_1)\n",
    "print(\"Original List : \",list_1)\n",
    "a = list(map(square,list_1))\n",
    "print(\"Square of each number : \",a)\n",
    "def divide(n) :\n",
    "    return n%3!=0\n",
    "b = list(filter(divide,list_1))\n",
    "print(\"Numbers that are not divisible by 3 : \",b)"
   ]
  },
  {
   "cell_type": "code",
   "execution_count": null,
   "id": "027bd7a5",
   "metadata": {},
   "outputs": [],
   "source": []
  }
 ],
 "metadata": {
  "kernelspec": {
   "display_name": "Python 3 (ipykernel)",
   "language": "python",
   "name": "python3"
  },
  "language_info": {
   "codemirror_mode": {
    "name": "ipython",
    "version": 3
   },
   "file_extension": ".py",
   "mimetype": "text/x-python",
   "name": "python",
   "nbconvert_exporter": "python",
   "pygments_lexer": "ipython3",
   "version": "3.11.4"
  }
 },
 "nbformat": 4,
 "nbformat_minor": 5
}
