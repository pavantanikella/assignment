{
 "cells": [
  {
   "cell_type": "markdown",
   "id": "b24867f7",
   "metadata": {},
   "source": [
    "1. Ask user to  enter a  website name and check whether it is valid or not(True/False)\n",
    "\n",
    "\n",
    "2. name = \"Innomatics\", course = \"Data Science\"\n",
    "   write python code in `different ways` to show output as :\n",
    "   `\"Hello World I am learning Data Science in Innomatics\"`\n",
    "   \n",
    "   \n",
    "3. Replace `Science` with `Analysis` in the above output.\n",
    "\n",
    "\n",
    "4. `string = '     Hello World I am learning Python in Innomatics   '`\n",
    "    a. How many characters are there in the string.\n",
    "    b. Slice only 'Python' from above string\n",
    "    c. Remove white spaces on both sides then find no.of characters in the string.\n",
    "    d. Convert the string in Upper case\n",
    "    \n",
    "    \n",
    "5. What is the index number of 'World' in above string.\n",
    "\n",
    "\n",
    "6. Split the string with respect to `whitespace`.after that `store` that splitted into a variable and find the `data type`of that variable.\n",
    "\n",
    "\n",
    "7. How many times 'a' is `repeated` in above string.\n",
    "\n",
    "8. "
   ]
  },
  {
   "cell_type": "code",
   "execution_count": null,
   "id": "43721ded",
   "metadata": {},
   "outputs": [],
   "source": []
  },
  {
   "cell_type": "markdown",
   "id": "51ca46a7",
   "metadata": {},
   "source": [
    "## Ask user to enter a website name and check whether it is valid or not(True/False)"
   ]
  },
  {
   "cell_type": "code",
   "execution_count": 2,
   "id": "5aa09830",
   "metadata": {},
   "outputs": [
    {
     "name": "stdout",
     "output_type": "stream",
     "text": [
      "enter any website namewww.innomatics.com\n"
     ]
    },
    {
     "data": {
      "text/plain": [
       "True"
      ]
     },
     "execution_count": 2,
     "metadata": {},
     "output_type": "execute_result"
    }
   ],
   "source": [
    "name=input(\"enter any website name\")\n",
    "(name.startswith(\"www\")) and (name.endswith(\".com\"))"
   ]
  },
  {
   "cell_type": "code",
   "execution_count": null,
   "id": "a80c1771",
   "metadata": {},
   "outputs": [],
   "source": []
  },
  {
   "cell_type": "markdown",
   "id": "45503e26",
   "metadata": {},
   "source": [
    "## name = \"Innomatics\", course = \"Data Science\" write python code in different ways to show output as : \"Hello World I am learning Data Science in Innomatics\""
   ]
  },
  {
   "cell_type": "code",
   "execution_count": 3,
   "id": "08c431c1",
   "metadata": {},
   "outputs": [
    {
     "name": "stdout",
     "output_type": "stream",
     "text": [
      "hello world i am learning data science in innomatics\n"
     ]
    }
   ],
   "source": [
    "name=\"innomatics\"\n",
    "course=\"data science\"\n",
    "print(\"hello world i am learning\",course,\"in\",name)"
   ]
  },
  {
   "cell_type": "code",
   "execution_count": 4,
   "id": "b12d236e",
   "metadata": {},
   "outputs": [
    {
     "name": "stdout",
     "output_type": "stream",
     "text": [
      "hello world iam learning data science in innomatics\n"
     ]
    }
   ],
   "source": [
    "print(\"hello world iam learning {0} in {1}\".format(course,name))"
   ]
  },
  {
   "cell_type": "code",
   "execution_count": 5,
   "id": "513ea695",
   "metadata": {},
   "outputs": [
    {
     "name": "stdout",
     "output_type": "stream",
     "text": [
      "hello world iam learning data science in innomatics\n"
     ]
    }
   ],
   "source": [
    "print(f\"hello world iam learning {course} in {name}\" )"
   ]
  },
  {
   "cell_type": "code",
   "execution_count": null,
   "id": "dbb08931",
   "metadata": {},
   "outputs": [],
   "source": []
  },
  {
   "cell_type": "markdown",
   "id": "41e8b632",
   "metadata": {},
   "source": [
    "## Replace Science with Analysis in the above output."
   ]
  },
  {
   "cell_type": "code",
   "execution_count": 6,
   "id": "1244d637",
   "metadata": {},
   "outputs": [],
   "source": [
    "new=\"Hello world iam learning data science in innomatics\""
   ]
  },
  {
   "cell_type": "code",
   "execution_count": 7,
   "id": "f66c883e",
   "metadata": {},
   "outputs": [
    {
     "data": {
      "text/plain": [
       "'Hello world iam learning data Analysis in innomatics'"
      ]
     },
     "execution_count": 7,
     "metadata": {},
     "output_type": "execute_result"
    }
   ],
   "source": [
    "new.replace(\"science\",\"Analysis\")"
   ]
  },
  {
   "cell_type": "code",
   "execution_count": null,
   "id": "17213f2e",
   "metadata": {},
   "outputs": [],
   "source": []
  },
  {
   "cell_type": "markdown",
   "id": "c8b901b7",
   "metadata": {},
   "source": [
    "## string = '     Hello World I am learning Python in Innomatics   ' a. How many characters are there in the string. b. Slice only 'Python' from above string c. Remove white spaces on both sides then find no.of characters in the string. d. Convert the string in Upper case"
   ]
  },
  {
   "cell_type": "code",
   "execution_count": 13,
   "id": "349f111d",
   "metadata": {},
   "outputs": [],
   "source": [
    "string=' hello world i am learning python in innomatics '"
   ]
  },
  {
   "cell_type": "code",
   "execution_count": 17,
   "id": "99fcb5a5",
   "metadata": {},
   "outputs": [
    {
     "data": {
      "text/plain": [
       "48"
      ]
     },
     "execution_count": 17,
     "metadata": {},
     "output_type": "execute_result"
    }
   ],
   "source": [
    "#a.\n",
    "len(string)"
   ]
  },
  {
   "cell_type": "code",
   "execution_count": 14,
   "id": "f0892563",
   "metadata": {},
   "outputs": [
    {
     "data": {
      "text/plain": [
       "'python'"
      ]
     },
     "execution_count": 14,
     "metadata": {},
     "output_type": "execute_result"
    }
   ],
   "source": [
    "#b.\n",
    "string[27:33]"
   ]
  },
  {
   "cell_type": "code",
   "execution_count": 19,
   "id": "8e2a2d81",
   "metadata": {},
   "outputs": [
    {
     "data": {
      "text/plain": [
       "'hello world i am learning python in innomatics'"
      ]
     },
     "execution_count": 19,
     "metadata": {},
     "output_type": "execute_result"
    }
   ],
   "source": [
    "string.strip()"
   ]
  },
  {
   "cell_type": "code",
   "execution_count": 20,
   "id": "afb7b704",
   "metadata": {},
   "outputs": [
    {
     "data": {
      "text/plain": [
       "48"
      ]
     },
     "execution_count": 20,
     "metadata": {},
     "output_type": "execute_result"
    }
   ],
   "source": [
    "len(string)"
   ]
  },
  {
   "cell_type": "code",
   "execution_count": 21,
   "id": "98bd17fe",
   "metadata": {},
   "outputs": [
    {
     "data": {
      "text/plain": [
       "' HELLO WORLD I AM LEARNING PYTHON IN INNOMATICS '"
      ]
     },
     "execution_count": 21,
     "metadata": {},
     "output_type": "execute_result"
    }
   ],
   "source": [
    "string.upper()"
   ]
  },
  {
   "cell_type": "code",
   "execution_count": null,
   "id": "8e499c93",
   "metadata": {},
   "outputs": [],
   "source": []
  },
  {
   "cell_type": "markdown",
   "id": "9b23ae80",
   "metadata": {},
   "source": [
    "## What is the index number of 'World' in above string."
   ]
  },
  {
   "cell_type": "code",
   "execution_count": 22,
   "id": "e7f52dbd",
   "metadata": {},
   "outputs": [
    {
     "data": {
      "text/plain": [
       "7"
      ]
     },
     "execution_count": 22,
     "metadata": {},
     "output_type": "execute_result"
    }
   ],
   "source": [
    "string.index(\"world\")"
   ]
  },
  {
   "cell_type": "code",
   "execution_count": null,
   "id": "1269fa02",
   "metadata": {},
   "outputs": [],
   "source": []
  },
  {
   "cell_type": "markdown",
   "id": "a5e3a4ed",
   "metadata": {},
   "source": [
    "## Split the string with respect to whitespace.after that store that splitted into a variable and find the data typeof that variable."
   ]
  },
  {
   "cell_type": "code",
   "execution_count": 25,
   "id": "4f6a9361",
   "metadata": {},
   "outputs": [
    {
     "name": "stdout",
     "output_type": "stream",
     "text": [
      "['hello', 'world', 'i', 'am', 'learning', 'python', 'in', 'innomatics']\n"
     ]
    }
   ],
   "source": [
    "a= string.split()\n",
    "print(a)"
   ]
  },
  {
   "cell_type": "code",
   "execution_count": 26,
   "id": "42704f1d",
   "metadata": {},
   "outputs": [
    {
     "data": {
      "text/plain": [
       "list"
      ]
     },
     "execution_count": 26,
     "metadata": {},
     "output_type": "execute_result"
    }
   ],
   "source": [
    "type(a)"
   ]
  },
  {
   "cell_type": "code",
   "execution_count": null,
   "id": "8a0ab74c",
   "metadata": {},
   "outputs": [],
   "source": []
  },
  {
   "cell_type": "markdown",
   "id": "26070bf2",
   "metadata": {},
   "source": [
    "## How many times 'a' is repeated in above string."
   ]
  },
  {
   "cell_type": "code",
   "execution_count": 27,
   "id": "d20005a9",
   "metadata": {},
   "outputs": [
    {
     "data": {
      "text/plain": [
       "3"
      ]
     },
     "execution_count": 27,
     "metadata": {},
     "output_type": "execute_result"
    }
   ],
   "source": [
    "string.count('a')"
   ]
  },
  {
   "cell_type": "code",
   "execution_count": null,
   "id": "0585d3cb",
   "metadata": {},
   "outputs": [],
   "source": []
  }
 ],
 "metadata": {
  "kernelspec": {
   "display_name": "Python 3 (ipykernel)",
   "language": "python",
   "name": "python3"
  },
  "language_info": {
   "codemirror_mode": {
    "name": "ipython",
    "version": 3
   },
   "file_extension": ".py",
   "mimetype": "text/x-python",
   "name": "python",
   "nbconvert_exporter": "python",
   "pygments_lexer": "ipython3",
   "version": "3.11.4"
  }
 },
 "nbformat": 4,
 "nbformat_minor": 5
}
