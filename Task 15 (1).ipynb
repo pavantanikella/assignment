{
 "cells": [
  {
   "cell_type": "markdown",
   "id": "985dd64b",
   "metadata": {},
   "source": [
    "Task 1: **Leap Year Checker**\n",
    "\n",
    "Write a program that takes a year as input and determines whether it is a leap year or not. A leap year is a year that is divisible by 4, but not divisible by 100, unless it is also divisible by 400. Display an appropriate message indicating whether the year is a leap year or not.\n",
    "\n",
    "Task 2: **Grade Calculator**\n",
    "\n",
    "Write a program that takes a student's score as input (out of 100) and determines their grade based on the following conditions:\n",
    "If the score is 90 or above, the grade is 'A'.\n",
    "If the score is between 80 and 89, the grade is 'B'.\n",
    "If the score is between 70 and 79, the grade is 'C'.\n",
    "If the score is between 60 and 69, the grade is 'D'. If the score is below 60, the grade is 'F'.\n",
    "Display the grade corresponding to the entered score.\n",
    "\n",
    "Task 3: **Calculator**\n",
    "Write a program that takes two numbers as input and performs a mathematical operation (+, -, *, /) based on the user's choice. Use a conditional statement to determine the operation to be performed. Display the result of the calculation.\n",
    "\n",
    "Task 4: **Reverse String**\n",
    "Write a Python function to reverse a string.\n",
    "\n",
    "Task 5: **Palindrome**\n",
    "Write a Python function that checks whether a passed string is a palindrome or not.\n",
    "\n",
    "Task 6: **Counting**\n",
    "Write a Python function that accepts a string and counts the number of upper and lower case letters.\n",
    "\n",
    "Task 7: **"
   ]
  },
  {
   "cell_type": "markdown",
   "id": "188a4f52",
   "metadata": {},
   "source": [
    "## Task 1: **Leap Year Checker**\n",
    "\n",
    "### Write a program that takes a year as input and determines whether it is a leap year or not. A leap year is a year that is divisible by 4, but not divisible by 100, unless it is also divisible by 400. Display an appropriate message indicating whether the year is a leap year or not."
   ]
  },
  {
   "cell_type": "code",
   "execution_count": 2,
   "id": "fb3a4382",
   "metadata": {},
   "outputs": [
    {
     "name": "stdout",
     "output_type": "stream",
     "text": [
      "enter any year number: 2009\n",
      "not leap year\n"
     ]
    }
   ],
   "source": [
    "def leapyr():\n",
    "    if (year%4==0 and year%100!=0 or year%400==0):\n",
    "        print(\"leap year\")\n",
    "    else:\n",
    "        print(\"not leap year\")\n",
    "year=int(input(\"enter any year number: \"))\n",
    "leapyr()\n",
    "    "
   ]
  },
  {
   "cell_type": "code",
   "execution_count": null,
   "id": "3e87f934",
   "metadata": {},
   "outputs": [],
   "source": []
  },
  {
   "cell_type": "markdown",
   "id": "3a0baa1b",
   "metadata": {},
   "source": [
    "## Task 2: **Grade Calculator**\n",
    "\n",
    "### Write a program that takes a student's score as input (out of 100) and determines their grade based on the following conditions:\n",
    "#### If the score is 90 or above, the grade is 'A'.\n",
    "#### If the score is between 80 and 89, the grade is 'B'.\n",
    "#### If the score is between 70 and 79, the grade is 'C'.\n",
    "#### If the score is between 60 and 69, the grade is 'D'. If the score is below 60, the grade is 'F'.\n",
    "#### Display the grade corresponding to the entered score.\n"
   ]
  },
  {
   "cell_type": "code",
   "execution_count": 5,
   "id": "b143af4d",
   "metadata": {},
   "outputs": [
    {
     "name": "stdout",
     "output_type": "stream",
     "text": [
      "enter any number: 52\n",
      "FAIL\n"
     ]
    }
   ],
   "source": [
    "def score():\n",
    "    if (marks>90):\n",
    "        print(\"GRADE IS A\")\n",
    "    elif (marks>80) and (marks<89):\n",
    "        print(\"GRADE IS B\")\n",
    "    elif (marks>70) and (marks<79):\n",
    "        print(\"GRADE IS C\")\n",
    "    elif (marks>60) and (marks<69):\n",
    "        print(\"GRADE IS D\")\n",
    "    else:\n",
    "        print(\"FAIL\")\n",
    "\n",
    "marks=int(input((\"enter any number: \")))\n",
    "score()        "
   ]
  },
  {
   "cell_type": "code",
   "execution_count": null,
   "id": "cff47b1e",
   "metadata": {},
   "outputs": [],
   "source": []
  },
  {
   "cell_type": "markdown",
   "id": "4da7edfe",
   "metadata": {},
   "source": [
    "## Task 3: **Calculator**\n",
    "### Write a program that takes two numbers as input and performs a mathematical operation (+, -, *, /) based on the user's choice. Use a conditional statement to determine the operation to be performed. Display the result of the calculation."
   ]
  },
  {
   "cell_type": "code",
   "execution_count": 6,
   "id": "afd66315",
   "metadata": {},
   "outputs": [
    {
     "name": "stdout",
     "output_type": "stream",
     "text": [
      "enter any number: 5\n",
      "enter any number: 8\n",
      "enter any symbol*\n",
      "calculation will be  40\n"
     ]
    }
   ],
   "source": [
    "def calculator():\n",
    "    #calculation=input(\"+\",\"-\",\"*\",\"/\")\n",
    "    if(calculation==\"+\"):\n",
    "        print(\"calculation will be\",a+b)\n",
    "    elif(calculation==\"-\"):\n",
    "        print(\"calculation will be\",a-b)\n",
    "    elif(calculation==\"*\"):\n",
    "        print(\"calculation will be \",a*b)\n",
    "    elif(calculation ==\"/\"):\n",
    "        print(\"calculation will be\",a/b)\n",
    "    else:\n",
    "        print(\"not valid\")\n",
    "a=int(input(\"enter any number: \"))\n",
    "b=int(input(\"enter any number: \"))\n",
    "calculation=input(\"enter any symbol\")\n",
    "calculator()"
   ]
  },
  {
   "cell_type": "code",
   "execution_count": null,
   "id": "d59fd722",
   "metadata": {},
   "outputs": [],
   "source": []
  },
  {
   "cell_type": "markdown",
   "id": "83427bff",
   "metadata": {},
   "source": [
    "## Task 4: **Reverse String**\n",
    "## Write a Python function to reverse a string.\n"
   ]
  },
  {
   "cell_type": "code",
   "execution_count": 7,
   "id": "25f84257",
   "metadata": {},
   "outputs": [
    {
     "name": "stdout",
     "output_type": "stream",
     "text": [
      "enter any name: pavan\n"
     ]
    },
    {
     "data": {
      "text/plain": [
       "'navap'"
      ]
     },
     "execution_count": 7,
     "metadata": {},
     "output_type": "execute_result"
    }
   ],
   "source": [
    "def rev():\n",
    "    return name[::-1]\n",
    "name=input(\"enter any name: \")\n",
    "rev()\n",
    "    "
   ]
  },
  {
   "cell_type": "code",
   "execution_count": null,
   "id": "bcf19c36",
   "metadata": {},
   "outputs": [],
   "source": []
  },
  {
   "cell_type": "markdown",
   "id": "72d5fbdf",
   "metadata": {},
   "source": [
    "## Task 5: **Palindrome**\n",
    "### Write a Python function that checks whether a passed string is a palindrome or not."
   ]
  },
  {
   "cell_type": "code",
   "execution_count": 16,
   "id": "d82cdfa4",
   "metadata": {},
   "outputs": [
    {
     "name": "stdout",
     "output_type": "stream",
     "text": [
      "enter any name: mom\n",
      "it is a palindrome\n"
     ]
    }
   ],
   "source": [
    "name=(input(\"enter any name: \"))\n",
    "def pallindrome():\n",
    "    if name==name[::-1]:\n",
    "        print(\"it is a palindrome\")\n",
    "    else:\n",
    "        print(\"it is not palindrome\")\n",
    "pallindrome()"
   ]
  },
  {
   "cell_type": "code",
   "execution_count": null,
   "id": "51f68d17",
   "metadata": {},
   "outputs": [],
   "source": []
  },
  {
   "cell_type": "markdown",
   "id": "f08260ba",
   "metadata": {},
   "source": [
    "## Task 6: **Counting**\n",
    "## Write a Python function that accepts a string and counts the number of upper and lower case letters.\n"
   ]
  },
  {
   "cell_type": "code",
   "execution_count": 2,
   "id": "23eb8430",
   "metadata": {},
   "outputs": [
    {
     "name": "stdout",
     "output_type": "stream",
     "text": [
      "enter any string: PaVaNKAlyAn\n",
      "['P', 'V', 'N', 'K', 'A', 'A']\n",
      "6\n",
      "['a', 'a', 'l', 'y', 'n']\n",
      "5\n"
     ]
    }
   ],
   "source": [
    "name=input(\"enter any string: \")\n",
    "upper=[\"A\",\"B\",\"C\",\"D\",\"E\",\"F\",\"G\",\"H\",\"I\",\"J\",\"K\",\"L\",\"M\",\"N\",\"O\",\"P\",\"Q\",\"R\",\"S\",\"T\",\"U\",\"V\",\"W\",\"X\",\"Y\",\"Z\"]\n",
    "low=[\"a\",\"b\",\"c\",\"d\",\"e\",\"f\",\"g\",\"h\",\"i\",\"j\",\"k\",\"l\",\"m\",\"n\",\"o\",\"p\",\"q\",\"r\",\"s\",\"t\",\"u\",\"v\",\"w\",\"x\",\"y\",\"z\"]\n",
    "up=[]\n",
    "lo=[]\n",
    "for i in name:\n",
    "    \n",
    "    if i in upper:\n",
    "        up.append(i)\n",
    "    else:\n",
    "        lo.append(i)\n",
    "print(up)\n",
    "print(len(up))\n",
    "print(lo)\n",
    "print(len(lo))\n"
   ]
  },
  {
   "cell_type": "code",
   "execution_count": null,
   "id": "33df8b42",
   "metadata": {},
   "outputs": [],
   "source": []
  }
 ],
 "metadata": {
  "kernelspec": {
   "display_name": "Python 3 (ipykernel)",
   "language": "python",
   "name": "python3"
  },
  "language_info": {
   "codemirror_mode": {
    "name": "ipython",
    "version": 3
   },
   "file_extension": ".py",
   "mimetype": "text/x-python",
   "name": "python",
   "nbconvert_exporter": "python",
   "pygments_lexer": "ipython3",
   "version": "3.11.4"
  }
 },
 "nbformat": 4,
 "nbformat_minor": 5
}
