{
 "cells": [
  {
   "cell_type": "markdown",
   "id": "f9cca2f0",
   "metadata": {},
   "source": [
    "**Task1: Append and Modify Elements**\n",
    "    \n",
    "* Create an empty list called numbers. Append the numbers 1, 2, and 3 to the list.\n",
    "* Modify the element at index 1 to be 4.\n",
    "* Print the updated list.\n",
    "\n",
    "**Task2: Slicing and Concatenation**\n",
    "\n",
    "* Create a list called fruits with elements 'apple', 'banana', 'orange', 'mango', and 'kiwi'. \n",
    "* Create a new list  by slicing fruits to include only the citrus fruits ('orange' and 'mango\"). * Create a new list called tropical by slicing fruits to include only the tropical fruits ('banana\" and \"kiwi'). \n",
    "* Concatenate citrus and tropical lists to create a new list called combined. Print combined.\n",
    "\n",
    "**Task3: Counting and Removing Elements**\n",
    "\n",
    "* Create a list called colors with repeated elements 'red', 'blue', 'red', 'green', 'red'. Print the number of occurrences of 'red' in the list. Remove all occurrences of 'red' from the list. Print the updated list.\n",
    "\n",
    "**Task 4: List Manipulation**\n",
    "\n",
    "* Add 'cheese' to the end of the list. Remove 'milk' from the list.\n",
    "* Create a list called groceries with initial items: 'bread', 'milk', 'eggs', 'butter'. Print the final list of groceries.\n",
    "* Insert 'yogurt' at index 1.\n",
    "\n"
   ]
  },
  {
   "cell_type": "code",
   "execution_count": null,
   "id": "63dc9ee4",
   "metadata": {},
   "outputs": [],
   "source": []
  },
  {
   "cell_type": "markdown",
   "id": "e967b3f3",
   "metadata": {},
   "source": [
    "## Task1: Append and Modify Elements\n",
    "\n",
    "* Create an empty list called numbers. Append the numbers 1, 2, and 3 to the list.\n",
    "* Modify the element at index 1 to be 4.\n",
    "* Print the updated list"
   ]
  },
  {
   "cell_type": "code",
   "execution_count": 19,
   "id": "cc776cbf",
   "metadata": {},
   "outputs": [],
   "source": [
    "numbers=list()"
   ]
  },
  {
   "cell_type": "code",
   "execution_count": 20,
   "id": "b3416c03",
   "metadata": {},
   "outputs": [
    {
     "data": {
      "text/plain": [
       "list"
      ]
     },
     "execution_count": 20,
     "metadata": {},
     "output_type": "execute_result"
    }
   ],
   "source": [
    "type(numbers)"
   ]
  },
  {
   "cell_type": "code",
   "execution_count": 21,
   "id": "b3fdf947",
   "metadata": {},
   "outputs": [
    {
     "data": {
      "text/plain": [
       "[1, 2, 3]"
      ]
     },
     "execution_count": 21,
     "metadata": {},
     "output_type": "execute_result"
    }
   ],
   "source": [
    "numbers.append(1)\n",
    "numbers.append(2)\n",
    "numbers.append(3)\n",
    "numbers"
   ]
  },
  {
   "cell_type": "code",
   "execution_count": 22,
   "id": "5f9857a5",
   "metadata": {},
   "outputs": [],
   "source": [
    "numbers[1]=4"
   ]
  },
  {
   "cell_type": "code",
   "execution_count": 23,
   "id": "398fa567",
   "metadata": {},
   "outputs": [
    {
     "data": {
      "text/plain": [
       "[1, 4, 3]"
      ]
     },
     "execution_count": 23,
     "metadata": {},
     "output_type": "execute_result"
    }
   ],
   "source": [
    "numbers"
   ]
  },
  {
   "cell_type": "code",
   "execution_count": null,
   "id": "b9ee09c6",
   "metadata": {},
   "outputs": [],
   "source": []
  },
  {
   "cell_type": "markdown",
   "id": "bad2f907",
   "metadata": {},
   "source": [
    "## Task2: Slicing and Concatenation\n",
    "\n",
    "* Create a list called fruits with elements 'apple', 'banana', 'orange', 'mango', and 'kiwi'.\n",
    "* Create a new list by slicing fruits to include only the citrus fruits ('orange' and 'mango\"). \n",
    "* Create a new list called * * * tropical by slicing fruits to include only the tropical fruits ('banana\" and \"kiwi').\n",
    "* Concatenate citrus and tropical lists to create a new list called combined. Print combined."
   ]
  },
  {
   "cell_type": "code",
   "execution_count": 42,
   "id": "e43aea50",
   "metadata": {},
   "outputs": [],
   "source": [
    "fruits=[\"apple\",\"banana\",\"orange\",\"mango\",\"kiwi\"]"
   ]
  },
  {
   "cell_type": "code",
   "execution_count": 43,
   "id": "55fa2c13",
   "metadata": {},
   "outputs": [
    {
     "data": {
      "text/plain": [
       "['orange', 'mango']"
      ]
     },
     "execution_count": 43,
     "metadata": {},
     "output_type": "execute_result"
    }
   ],
   "source": [
    "new_fruits=list(fruits[2:4])\n",
    "new_fruits"
   ]
  },
  {
   "cell_type": "code",
   "execution_count": 46,
   "id": "2fc5fe11",
   "metadata": {},
   "outputs": [
    {
     "data": {
      "text/plain": [
       "['banana', 'kiwi']"
      ]
     },
     "execution_count": 46,
     "metadata": {},
     "output_type": "execute_result"
    }
   ],
   "source": [
    "tropical=list(fruits[1:5:3])\n",
    "tropical"
   ]
  },
  {
   "cell_type": "code",
   "execution_count": 47,
   "id": "7841fd4f",
   "metadata": {},
   "outputs": [
    {
     "data": {
      "text/plain": [
       "['orange', 'mango', 'banana', 'kiwi']"
      ]
     },
     "execution_count": 47,
     "metadata": {},
     "output_type": "execute_result"
    }
   ],
   "source": [
    "combined=new_fruits+tropical\n",
    "combined"
   ]
  },
  {
   "cell_type": "code",
   "execution_count": null,
   "id": "c4b00776",
   "metadata": {},
   "outputs": [],
   "source": []
  },
  {
   "cell_type": "markdown",
   "id": "49d0c969",
   "metadata": {},
   "source": [
    "## Task3: Counting and Removing Elements\n",
    "\n",
    "* Create a list called colors with repeated elements 'red', 'blue', 'red', 'green', 'red'. \n",
    "* Print the number of occurrences of * 'red' in the list. Remove all occurrences of 'red' from the list. Print the updated list"
   ]
  },
  {
   "cell_type": "code",
   "execution_count": 60,
   "id": "8ad2f1b5",
   "metadata": {},
   "outputs": [],
   "source": [
    "colors=['red','blue','red','green','red']"
   ]
  },
  {
   "cell_type": "code",
   "execution_count": 61,
   "id": "fe2b6fa1",
   "metadata": {},
   "outputs": [
    {
     "data": {
      "text/plain": [
       "3"
      ]
     },
     "execution_count": 61,
     "metadata": {},
     "output_type": "execute_result"
    }
   ],
   "source": [
    "colors.count('red')"
   ]
  },
  {
   "cell_type": "code",
   "execution_count": 62,
   "id": "4d147691",
   "metadata": {},
   "outputs": [],
   "source": [
    "colors.remove('red')"
   ]
  },
  {
   "cell_type": "code",
   "execution_count": 63,
   "id": "3aa4a58a",
   "metadata": {},
   "outputs": [
    {
     "data": {
      "text/plain": [
       "'red'"
      ]
     },
     "execution_count": 63,
     "metadata": {},
     "output_type": "execute_result"
    }
   ],
   "source": [
    "colors.pop(1)"
   ]
  },
  {
   "cell_type": "code",
   "execution_count": 64,
   "id": "402b1408",
   "metadata": {},
   "outputs": [
    {
     "data": {
      "text/plain": [
       "['blue', 'green', 'red']"
      ]
     },
     "execution_count": 64,
     "metadata": {},
     "output_type": "execute_result"
    }
   ],
   "source": [
    "colors"
   ]
  },
  {
   "cell_type": "code",
   "execution_count": 65,
   "id": "91315930",
   "metadata": {},
   "outputs": [
    {
     "data": {
      "text/plain": [
       "'red'"
      ]
     },
     "execution_count": 65,
     "metadata": {},
     "output_type": "execute_result"
    }
   ],
   "source": [
    "colors.pop(2)"
   ]
  },
  {
   "cell_type": "code",
   "execution_count": 66,
   "id": "4af31487",
   "metadata": {},
   "outputs": [
    {
     "data": {
      "text/plain": [
       "['blue', 'green']"
      ]
     },
     "execution_count": 66,
     "metadata": {},
     "output_type": "execute_result"
    }
   ],
   "source": [
    "colors"
   ]
  },
  {
   "cell_type": "code",
   "execution_count": null,
   "id": "52420f56",
   "metadata": {},
   "outputs": [],
   "source": []
  },
  {
   "cell_type": "markdown",
   "id": "2e118592",
   "metadata": {},
   "source": [
    "## Task 4: List Manipulation\n",
    "\n",
    "* Add 'cheese' to the end of the list. Remove 'milk' from the list.\n",
    "* Create a list called groceries with initial items: 'bread', 'milk', 'eggs', 'butter'. Print the final list of groceries.\n",
    "* Insert 'yogurt' at index 1."
   ]
  },
  {
   "cell_type": "code",
   "execution_count": 67,
   "id": "f73da2ea",
   "metadata": {},
   "outputs": [],
   "source": [
    "groceries=[\"bread\",\"milk\",\"eggs\",\"butter\"]"
   ]
  },
  {
   "cell_type": "code",
   "execution_count": 68,
   "id": "480d0417",
   "metadata": {},
   "outputs": [],
   "source": [
    "groceries.append(\"cheese\")"
   ]
  },
  {
   "cell_type": "code",
   "execution_count": 69,
   "id": "03935136",
   "metadata": {},
   "outputs": [
    {
     "data": {
      "text/plain": [
       "['bread', 'milk', 'eggs', 'butter', 'cheese']"
      ]
     },
     "execution_count": 69,
     "metadata": {},
     "output_type": "execute_result"
    }
   ],
   "source": [
    "groceries"
   ]
  },
  {
   "cell_type": "code",
   "execution_count": 70,
   "id": "478d0261",
   "metadata": {},
   "outputs": [
    {
     "data": {
      "text/plain": [
       "['bread', 'eggs', 'butter', 'cheese']"
      ]
     },
     "execution_count": 70,
     "metadata": {},
     "output_type": "execute_result"
    }
   ],
   "source": [
    "groceries.pop(1)\n",
    "groceries"
   ]
  },
  {
   "cell_type": "code",
   "execution_count": 71,
   "id": "e3333fb1",
   "metadata": {},
   "outputs": [
    {
     "data": {
      "text/plain": [
       "['bread', 'yogurt', 'eggs', 'butter', 'cheese']"
      ]
     },
     "execution_count": 71,
     "metadata": {},
     "output_type": "execute_result"
    }
   ],
   "source": [
    "groceries.insert(1,\"yogurt\")\n",
    "groceries"
   ]
  },
  {
   "cell_type": "code",
   "execution_count": null,
   "id": "d9e63dc4",
   "metadata": {},
   "outputs": [],
   "source": []
  }
 ],
 "metadata": {
  "kernelspec": {
   "display_name": "Python 3 (ipykernel)",
   "language": "python",
   "name": "python3"
  },
  "language_info": {
   "codemirror_mode": {
    "name": "ipython",
    "version": 3
   },
   "file_extension": ".py",
   "mimetype": "text/x-python",
   "name": "python",
   "nbconvert_exporter": "python",
   "pygments_lexer": "ipython3",
   "version": "3.11.4"
  }
 },
 "nbformat": 4,
 "nbformat_minor": 5
}
