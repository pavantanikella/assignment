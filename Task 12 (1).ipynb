{
 "cells": [
  {
   "cell_type": "markdown",
   "id": "8060b9a4",
   "metadata": {},
   "source": [
    "**while loops and their use in programming.**\n",
    "1. Write a Python program that uses a while loop to print the numbers from `A` to `P`.\n",
    "\n",
    "2. Modify the program to print only the even numbers from `1 to 20 except mutiple of 3` using a while loop.\n",
    "\n",
    "3. Create a program that prompts the user for an integer input and then uses a while loop to print the countdown from `that number to 1`.\n",
    "\n",
    "\n",
    "4. Write a Python program that uses a while loop to repeatedly ask the user to enter a number. If the user enters 0, exit the loop using the `break` statement. Otherwise, continue prompting for numbers.\n",
    "\n",
    "5. Create a program that uses a while loop to print the numbers from 1 to 20, but skip printing the numbers 5, 10, and 15 using the `continue` statement.\n",
    "\n",
    "6. Write a Python program that simulates a simple password entry system. Ask the user to enter a password, and use a while loop to repeatedly prompt for the password until the correct password \"abc123\" is entered. Once the correct password is entered, exit the loop.\n",
    "\n",
    "7. Calculate and print the sum of all the positive integers entered by the user.\n",
    "\n",
    "\n",
    "\n",
    "."
   ]
  },
  {
   "cell_type": "markdown",
   "id": "5d59bf93",
   "metadata": {},
   "source": [
    "## Write a Python program that uses a while loop to print the numbers from A to P."
   ]
  },
  {
   "cell_type": "code",
   "execution_count": 3,
   "id": "0e9e01e5",
   "metadata": {},
   "outputs": [
    {
     "name": "stdout",
     "output_type": "stream",
     "text": [
      "A\n",
      "B\n",
      "C\n",
      "D\n",
      "E\n",
      "F\n",
      "G\n",
      "H\n",
      "I\n",
      "J\n",
      "K\n",
      "L\n",
      "M\n",
      "N\n",
      "O\n",
      "P\n"
     ]
    }
   ],
   "source": [
    "n=0\n",
    "while n<16:\n",
    "    print(chr(65+n))\n",
    "    n=n+1"
   ]
  },
  {
   "cell_type": "markdown",
   "id": "c30a0aff",
   "metadata": {},
   "source": [
    "## Modify the program to print only the even numbers from 1 to 20 except mutiple of 3 using a while loop"
   ]
  },
  {
   "cell_type": "code",
   "execution_count": 7,
   "id": "8cf4bb3f",
   "metadata": {},
   "outputs": [
    {
     "name": "stdout",
     "output_type": "stream",
     "text": [
      "2\n",
      "4\n",
      "6\n",
      "8\n",
      "10\n",
      "12\n",
      "14\n",
      "16\n",
      "18\n",
      "20\n"
     ]
    }
   ],
   "source": [
    "num=1\n",
    "while num<=20:\n",
    "    if num%3==0:\n",
    "        pass\n",
    "    if num%2==0:\n",
    "        print(num)\n",
    "    num=num+1\n",
    "    "
   ]
  },
  {
   "cell_type": "markdown",
   "id": "4c04d5d2",
   "metadata": {},
   "source": [
    "## Create a program that prompts the user for an integer input and then uses a while loop to print the countdown from that number to 1."
   ]
  },
  {
   "cell_type": "code",
   "execution_count": 8,
   "id": "8c032adf",
   "metadata": {},
   "outputs": [
    {
     "name": "stdout",
     "output_type": "stream",
     "text": [
      "enter any number: 20\n",
      "20\n",
      "19\n",
      "18\n",
      "17\n",
      "16\n",
      "15\n",
      "14\n",
      "13\n",
      "12\n",
      "11\n",
      "10\n",
      "9\n",
      "8\n",
      "7\n",
      "6\n",
      "5\n",
      "4\n",
      "3\n",
      "2\n",
      "1\n"
     ]
    }
   ],
   "source": [
    "num=int(input(\"enter any number: \"))\n",
    "while num:\n",
    "    print(num)\n",
    "    num=num-1\n",
    "    "
   ]
  },
  {
   "cell_type": "markdown",
   "id": "781f3e1f",
   "metadata": {},
   "source": [
    "## Write a Python program that uses a while loop to repeatedly ask the user to enter a number. If the user enters 0, exit the loop using the break statement. Otherwise, continue prompting for numbers."
   ]
  },
  {
   "cell_type": "code",
   "execution_count": 1,
   "id": "06cd6161",
   "metadata": {},
   "outputs": [
    {
     "name": "stdout",
     "output_type": "stream",
     "text": [
      "enter any number: 0\n"
     ]
    }
   ],
   "source": [
    "number=int(input(\"enter any number: \"))\n",
    "while number:\n",
    "    if number==0:\n",
    "        break\n",
    "    else:\n",
    "        num=int(input(\"enter any number: \"))"
   ]
  },
  {
   "cell_type": "markdown",
   "id": "70f120f7",
   "metadata": {},
   "source": [
    "## Create a program that uses a while loop to print the numbers from 1 to 20, but skip printing the numbers 5, 10, and 15 using the continue statement."
   ]
  },
  {
   "cell_type": "code",
   "execution_count": 17,
   "id": "40c6aa2a",
   "metadata": {},
   "outputs": [
    {
     "name": "stdout",
     "output_type": "stream",
     "text": [
      "1\n",
      "2\n",
      "3\n",
      "4\n",
      "6\n",
      "7\n",
      "8\n",
      "9\n",
      "11\n",
      "12\n",
      "13\n",
      "14\n",
      "16\n",
      "17\n",
      "18\n",
      "19\n",
      "20\n"
     ]
    }
   ],
   "source": [
    "num=0\n",
    "while num<20:\n",
    "    num=num+1\n",
    "    if (num == 5) or (num==10) or (num==15):\n",
    "        continue\n",
    "    else:\n",
    "        print(num)\n",
    "        "
   ]
  },
  {
   "cell_type": "markdown",
   "id": "94378ead",
   "metadata": {},
   "source": [
    "## Write a Python program that simulates a simple password entry system. Ask the user to enter a password, and use a while loop to repeatedly prompt for the password until the correct password \"abc123\" is entered. Once the correct password is entered, exit the loop."
   ]
  },
  {
   "cell_type": "code",
   "execution_count": null,
   "id": "6fbcd002",
   "metadata": {},
   "outputs": [],
   "source": [
    "password=input(\"enter any code: \")\n",
    "pass1=\"abc123\"\n",
    "while password:\n",
    "    if (password==pass1):\n",
    "        break\n",
    "    else:\n",
    "        passcod=input(\"enter any password: \")\n",
    "        continue\n",
    " "
   ]
  },
  {
   "cell_type": "markdown",
   "id": "b52e597f",
   "metadata": {},
   "source": [
    "## Calculate and print the sum of all the positive integers entered by the user.\n",
    "\n"
   ]
  },
  {
   "cell_type": "code",
   "execution_count": 2,
   "id": "0eda9438",
   "metadata": {},
   "outputs": [
    {
     "name": "stdout",
     "output_type": "stream",
     "text": [
      "How many integers you want to add/sum :: 5\n",
      "Enter a number :: 1\n",
      "Enter a number :: 3\n",
      "Enter a number :: 4\n",
      "Enter a number :: 5\n",
      "Enter a number :: 6\n",
      "Sum of all integers :  19\n"
     ]
    }
   ],
   "source": [
    "num = int(input(\"How many integers you want to add/sum :: \"))\n",
    "a = 0\n",
    "while num :\n",
    "    for i in range(0,num) :\n",
    "        if num > 0:\n",
    "            b = int(input(\"Enter a number :: \"))\n",
    "            a = a + b\n",
    "            \n",
    "        else :\n",
    "            print(\"Enter positive integers only!\")\n",
    "            \n",
    "    print(\"Sum of all integers : \" ,a)\n",
    "        \n",
    "    break\n",
    "    "
   ]
  },
  {
   "cell_type": "code",
   "execution_count": null,
   "id": "f2ca0ec5",
   "metadata": {},
   "outputs": [],
   "source": []
  }
 ],
 "metadata": {
  "kernelspec": {
   "display_name": "Python 3 (ipykernel)",
   "language": "python",
   "name": "python3"
  },
  "language_info": {
   "codemirror_mode": {
    "name": "ipython",
    "version": 3
   },
   "file_extension": ".py",
   "mimetype": "text/x-python",
   "name": "python",
   "nbconvert_exporter": "python",
   "pygments_lexer": "ipython3",
   "version": "3.11.4"
  }
 },
 "nbformat": 4,
 "nbformat_minor": 5
}
