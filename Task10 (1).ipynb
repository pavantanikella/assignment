{
 "cells": [
  {
   "cell_type": "markdown",
   "id": "6a089314",
   "metadata": {},
   "source": [
    "1. **Basic List Comprehension:**\n",
    "   Write a Python program that uses list comprehension to generate a list of cubes of the first 10 positive integers.\n",
    "\n",
    "2. **Filtering with List Comprehension:**\n",
    "   Given a list of integers, create a new list using list comprehension that contains only the multiple of 3 and 5 from the original list.\n",
    "\n",
    "3. **String Manipulation with List Comprehension:**\n",
    "   Given a list of strings, create a new list using list comprehension that contains the lengths of each string.\n",
    "\n",
    "\n",
    "4. **List Comprehension with Conditionals:**\n",
    "   Given a list of numbers, create a new list using list comprehension that contains the squares of even numbers \n",
    "\n",
    "\n",
    "5. **Pattern Printing**\n",
    "\n",
    "    Write a Python program that takes an integer 'n' as input and prints the following pattern:\n",
    "\n",
    "    For `n = 4`, the pattern should look like this:\n",
    "\n",
    "    ```\n",
    "    1\n",
    "    1 2\n",
    "    1 2 3\n",
    "    1 2 3 4\n",
    "    ```\n",
    "\n",
    "6. **Multiplication Table**\n",
    "\n",
    "      Create a Python program that generates and prints a multiplication table for a given number 'n'. The table should include values from 1 to 10.\n",
    "\n",
    "For example, if `n = 5`, the output should be:\n",
    "\n",
    "    ```\n",
    "    5 x 1 = 5\n",
    "    5 x 2 = 10\n",
    "    5 x 3 = 15\n",
    "    5 x 4 = 20\n",
    "    5 x 5 = 25\n",
    "    5 x 6 = 30\n",
    "    5 x 7 = 35\n",
    "    5 x 8 = 40\n",
    "    5 x 9 = 45\n",
    "    5 x 10 = 50\n",
    "    ```\n",
    "\n",
    "7. **Star Patterns**\n",
    "\n",
    "    Write a Python program that takes an integer 'n' as input and prints the following patterns:\n",
    "\n",
    "    a) Right-angled triangle pattern:\n",
    "    ```\n",
    "    *\n",
    "    **\n",
    "    ***\n",
    "    ****\n",
    "    *****\n",
    "    ```\n",
    "\n",
    "    b) Inverted right-angled triangle pattern:\n",
    "    ```\n",
    "    *****\n",
    "    ****\n",
    "    ***\n",
    "    **\n",
    "    *\n",
    "    ```\n",
    "\n",
    "\n",
    "8. **Number Pyramid**\n",
    "\n",
    "    Create a Python program that takes an integer 'n' as input and prints a number pyramid as shown below:\n",
    "\n",
    "    For `n = 4`, the output should be:\n",
    "\n",
    "    ```\n",
    "       1\n",
    "      212\n",
    "     32123\n",
    "    4321234\n",
    "    ```\n",
    "\n",
    "\n",
    "\n"
   ]
  },
  {
   "cell_type": "code",
   "execution_count": null,
   "id": "fd33a959",
   "metadata": {},
   "outputs": [],
   "source": []
  },
  {
   "cell_type": "markdown",
   "id": "e44428b9",
   "metadata": {},
   "source": [
    "## Basic List Comprehension: Write a Python program that uses list comprehension to generate a list of cubes of the first 10 positive integers."
   ]
  },
  {
   "cell_type": "code",
   "execution_count": 2,
   "id": "df2608e1",
   "metadata": {},
   "outputs": [
    {
     "data": {
      "text/plain": [
       "[0, 1, 8, 27, 64, 125, 216, 343, 512, 729, 1000]"
      ]
     },
     "execution_count": 2,
     "metadata": {},
     "output_type": "execute_result"
    }
   ],
   "source": [
    "num=range(0,11)\n",
    "[i**3 for i in num]"
   ]
  },
  {
   "cell_type": "code",
   "execution_count": null,
   "id": "0687a9ea",
   "metadata": {},
   "outputs": [],
   "source": []
  },
  {
   "cell_type": "markdown",
   "id": "8c7be899",
   "metadata": {},
   "source": [
    "## Filtering with List Comprehension: Given a list of integers, create a new list using list comprehension that contains only the multiple of 3 and 5 from the original list."
   ]
  },
  {
   "cell_type": "code",
   "execution_count": 4,
   "id": "bfc43454",
   "metadata": {},
   "outputs": [
    {
     "data": {
      "text/plain": [
       "[3, 5, 6, 9, 10]"
      ]
     },
     "execution_count": 4,
     "metadata": {},
     "output_type": "execute_result"
    }
   ],
   "source": [
    "list1=[1,2,3,4,5,6,7,8,9,10]\n",
    "list2=[i for i in list1 if i%3==0 or i%5==0]\n",
    "list2"
   ]
  },
  {
   "cell_type": "code",
   "execution_count": null,
   "id": "d3a7644c",
   "metadata": {},
   "outputs": [],
   "source": []
  },
  {
   "cell_type": "markdown",
   "id": "fea68ee8",
   "metadata": {},
   "source": [
    "## String Manipulation with List Comprehension: Given a list of strings, create a new list using list comprehension that contains the lengths of each string"
   ]
  },
  {
   "cell_type": "code",
   "execution_count": 6,
   "id": "03e04e13",
   "metadata": {},
   "outputs": [
    {
     "data": {
      "text/plain": [
       "[7, 5, 6, 6, 4]"
      ]
     },
     "execution_count": 6,
     "metadata": {},
     "output_type": "execute_result"
    }
   ],
   "source": [
    "strlist=[\"brinjal\",\"mango\",\"orange\",\"banana\",\"kiwi\"]\n",
    "lenlist=[len(i) for i in strlist]\n",
    "lenlist"
   ]
  },
  {
   "cell_type": "code",
   "execution_count": null,
   "id": "4c75c38e",
   "metadata": {},
   "outputs": [],
   "source": []
  },
  {
   "cell_type": "markdown",
   "id": "692570c1",
   "metadata": {},
   "source": [
    "## List Comprehension with Conditionals: Given a list of numbers, create a new list using list comprehension that contains the squares of even numbers"
   ]
  },
  {
   "cell_type": "code",
   "execution_count": 8,
   "id": "75683509",
   "metadata": {},
   "outputs": [
    {
     "data": {
      "text/plain": [
       "[0, 4, 16, 36, 64, 100, 144, 196, 256, 324, 400]"
      ]
     },
     "execution_count": 8,
     "metadata": {},
     "output_type": "execute_result"
    }
   ],
   "source": [
    "numbers=list(range(0,21))\n",
    "numbers2=[i**2 for i in numbers if i%2==0]\n",
    "numbers2"
   ]
  },
  {
   "cell_type": "code",
   "execution_count": null,
   "id": "b8101c09",
   "metadata": {},
   "outputs": [],
   "source": []
  },
  {
   "cell_type": "markdown",
   "id": "2397f3cb",
   "metadata": {},
   "source": [
    "## Write a Python program that takes an integer 'n' as input and prints the following pattern:\n",
    "\n",
    "### For n = 4, the pattern should look like this:\n",
    "\n",
    "### 1\n",
    "### 1 2\n",
    "### 1 2 3\n",
    "### 1 2 3 4"
   ]
  },
  {
   "cell_type": "code",
   "execution_count": 20,
   "id": "85b6a9d5",
   "metadata": {},
   "outputs": [
    {
     "name": "stdout",
     "output_type": "stream",
     "text": [
      "enter number of rows: 4\n",
      "1 \n",
      "1 2 \n",
      "1 2 3 \n",
      "1 2 3 4 \n"
     ]
    }
   ],
   "source": [
    "n=int(input(\"enter number of rows: \"))\n",
    "for i in range(1,n+1):\n",
    "    for j in range(1,i+1):\n",
    "        print(j,end=\" \")\n",
    "    print()\n",
    "    "
   ]
  },
  {
   "cell_type": "code",
   "execution_count": null,
   "id": "38c23965",
   "metadata": {},
   "outputs": [],
   "source": []
  },
  {
   "cell_type": "markdown",
   "id": "01243d57",
   "metadata": {},
   "source": [
    "Multiplication Table\n",
    "\n",
    "Create a Python program that generates and prints a multiplication table for a given number 'n'. The table should include values from 1 to 10.\n",
    "\n",
    "For example, if n = 5, the output should be:\n",
    "\n",
    "```\n",
    "5 x 1 = 5\n",
    "5 x 2 = 10\n",
    "5 x 3 = 15\n",
    "5 x 4 = 20\n",
    "5 x 5 = 25\n",
    "5 x 6 = 30\n",
    "5 x 7 = 35\n",
    "5 x 8 = 40\n",
    "5 x 9 = 45\n",
    "5 x 10 = 50\n",
    "```"
   ]
  },
  {
   "cell_type": "code",
   "execution_count": 29,
   "id": "b16a6fcb",
   "metadata": {},
   "outputs": [
    {
     "name": "stdout",
     "output_type": "stream",
     "text": [
      "enter number: 5\n",
      "5*1=5\n",
      "5*2=10\n",
      "5*3=15\n",
      "5*4=20\n",
      "5*5=25\n",
      "5*6=30\n",
      "5*7=35\n",
      "5*8=40\n",
      "5*9=45\n",
      "5*10=50\n"
     ]
    }
   ],
   "source": [
    "n=int(input(\"enter number: \"))\n",
    "for i in range(1,11):\n",
    "    table=n*i\n",
    "    print(f\"{n}*{i}={table}\")"
   ]
  },
  {
   "cell_type": "code",
   "execution_count": null,
   "id": "37a4f285",
   "metadata": {},
   "outputs": [],
   "source": []
  },
  {
   "cell_type": "markdown",
   "id": "9e89d95e",
   "metadata": {},
   "source": [
    "## Write a Python program that takes an integer 'n' as input and prints the following patterns:\n",
    "\n",
    "## a) Right-angled triangle pattern:\n",
    "\n",
    "### *\n",
    "### **\n",
    "#### ***\n",
    "#### ****\n",
    "#### *****"
   ]
  },
  {
   "cell_type": "code",
   "execution_count": 30,
   "id": "af3e62ec",
   "metadata": {},
   "outputs": [
    {
     "name": "stdout",
     "output_type": "stream",
     "text": [
      " * \n",
      " *  * \n",
      " *  *  * \n",
      " *  *  *  * \n",
      " *  *  *  *  * \n"
     ]
    }
   ],
   "source": [
    "for i in range(1,6):\n",
    "    print(\" * \"*i)"
   ]
  },
  {
   "cell_type": "markdown",
   "id": "b0dc1499",
   "metadata": {},
   "source": [
    "## b) Inverted right-angled triangle pattern:\n"
   ]
  },
  {
   "cell_type": "code",
   "execution_count": 31,
   "id": "2388388b",
   "metadata": {},
   "outputs": [
    {
     "name": "stdout",
     "output_type": "stream",
     "text": [
      "* * * * * \n",
      "* * * * \n",
      "* * * \n",
      "* * \n",
      "* \n"
     ]
    }
   ],
   "source": [
    "for i in range(5,0,-1):\n",
    "    print(\"* \"*i)"
   ]
  },
  {
   "cell_type": "code",
   "execution_count": null,
   "id": "51418f50",
   "metadata": {},
   "outputs": [],
   "source": []
  },
  {
   "cell_type": "markdown",
   "id": "e9d4b4a3",
   "metadata": {},
   "source": [
    "Number Pyramid\n",
    "\n",
    "Create a Python program that takes an integer 'n' as input and prints a number pyramid as shown below:\n",
    "\n",
    "For n = 4, the output should be:\n",
    "\n",
    "   1\n",
    "  212\n",
    " 32123\n",
    "4321234"
   ]
  },
  {
   "cell_type": "code",
   "execution_count": 1,
   "id": "f7ff4f4a",
   "metadata": {},
   "outputs": [
    {
     "name": "stdout",
     "output_type": "stream",
     "text": [
      "enter a no of rows::4\n",
      "   1\n",
      "  212\n",
      " 32123\n",
      "4321234\n"
     ]
    }
   ],
   "source": [
    "n = int(input(\"enter a no of rows::\"))\n",
    "for i in range(1,n+1):\n",
    "    for j in range(1,n-i+1):   \n",
    "        print(end = \" \")\n",
    "    for j in range(i,0,-1):\n",
    "        print(j,end = \"\")      \n",
    "    for j in range(2,i+1):\n",
    "        print(j,end = \"\")      \n",
    "    print()"
   ]
  },
  {
   "cell_type": "code",
   "execution_count": null,
   "id": "86bfff26",
   "metadata": {},
   "outputs": [],
   "source": []
  }
 ],
 "metadata": {
  "kernelspec": {
   "display_name": "Python 3 (ipykernel)",
   "language": "python",
   "name": "python3"
  },
  "language_info": {
   "codemirror_mode": {
    "name": "ipython",
    "version": 3
   },
   "file_extension": ".py",
   "mimetype": "text/x-python",
   "name": "python",
   "nbconvert_exporter": "python",
   "pygments_lexer": "ipython3",
   "version": "3.11.4"
  }
 },
 "nbformat": 4,
 "nbformat_minor": 5
}
