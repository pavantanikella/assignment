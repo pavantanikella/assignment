{
 "cells": [
  {
   "cell_type": "markdown",
   "id": "5acc7b9e",
   "metadata": {},
   "source": [
    "## A restaurant management system is a software application that helps streamline various restaurant operations and facilitates efficient management. Here are some typical attributes and methods that such a system might have:\n",
    "\n",
    "## Take minimum 5 attributes and atleast 4 methods\n",
    "\n",
    "## Attributes:\n",
    "\n",
    "## 1.Menu: Represents the list of food and beverage items available in the restaurant, along with their prices and categories (appetizers, main courses, desserts, etc.).\n",
    "## 2.Tables: Contains information about the restaurant's seating arrangement, including table numbers, seating capacity, and current occupancy status.\n",
    "## 3.Orders: Keeps track of customer orders, including the items ordered, quantities, table number, total amount, and order status (in progress, served, completed, etc.).\n",
    "## 4.Staff: Contains information about restaurant employees, such as waiters, chefs, managers, and their respective roles, shifts, and contact details.\n",
    "## 5.Reservations: Tracks table reservations made by customers, including reservation time, date, party size, and customer contact information.\n",
    "## 6.Payments: Stores details of transactions, including payment method, total amount, payment status, and any applicable discounts or promotions.\n",
    "\n",
    "## Methods:\n",
    "\n",
    "## 1.Display Menu: Allows restaurant staff to view and update the menu, including adding new items, modifying prices, and removing discontinued items.\n",
    "## 2.Take Order: Enables waiters to take customer orders, add items to the order, specify quantities, and send the order to the kitchen for preparation.\n",
    "## 3.Manage Table Occupancy: Tracks table availability and occupancy status, allowing staff to assign tables to customers and mark tables as occupied or vacant.\n",
    "## 4.Process Order: Allows kitchen staff to view incoming orders, mark items as prepared, and inform the waiters when the order is ready for serving.\n",
    "## 5.Manage Reservations: Facilitates the process of making, modifying, and canceling table reservations based on customer requests and availability.\n",
    "## 6.Generate Bills: Calculates the total bill amount for each table based on the items ordered, applicable taxes, and any additional charges.\n",
    " "
   ]
  },
  {
   "cell_type": "code",
   "execution_count": 23,
   "id": "9d2df1a5",
   "metadata": {},
   "outputs": [],
   "source": [
    "class menu:\n",
    "    def __init__(self,name,category,price):\n",
    "        self.name=name\n",
    "        self.category=category\n",
    "        self.price=price\n",
    "class table:\n",
    "    def __init__(self,number,capacity):\n",
    "        self.number=number\n",
    "        self.capacity=capacity\n",
    "#class order:\n",
    "   # def __init__(self,tableno,items):\n",
    "        #self.tableno=tableno\n",
    "        #self.items=[]\n",
    "    #def itemsadd(items):\n",
    "        #self.items.append(items)\n",
    "class staff:\n",
    "    def __init__(self,name,position,contact):\n",
    "        self.name=name\n",
    "        self.position=position\n",
    "        self.contact=contact\n",
    "class reservation:\n",
    "    def __init__(self,reservationtime,date,partysize,contactinfo):\n",
    "        self.reservationtime=reservationtime\n",
    "        self.date=date\n",
    "        self.partysize=partysize\n",
    "        self.contactinfo=contactinfo\n",
    "class payments:\n",
    "    def __init__(self,paymentmethod,paymentmode,totalamount,paymentstatus):\n",
    "        self.paymentmethod=paymentmethod\n",
    "        self.paymentmode=paymentmode\n",
    "        self.totalamount=totalamount\n",
    "        self.paymentstatus=paymentstatus"
   ]
  },
  {
   "cell_type": "code",
   "execution_count": 25,
   "id": "3514b621",
   "metadata": {},
   "outputs": [],
   "source": [
    "menu1=menu(\"idly\",\"tiffin\",30)\n",
    "menu2=menu(\"biriyani\",\"main course\",100)\n",
    "menu3=menu(\"mozito\",\"beverage\",50)\n",
    "\n",
    "table1=table(1,4)\n",
    "\n",
    "#order1=order(1)\n",
    "#order1.itemsadd(menu1)\n",
    "\n",
    "staff1=staff(\"ram\",\"manager\",\"ram@gmail.com\")\n",
    "\n",
    "reserv=reservation(\"9:30 pm\",\"6-oct-2023\",4,\"pavan@gmail.com\")\n",
    "\n",
    "payment1=payments(\"debit card\",\"online\",2000,\"sucess\")"
   ]
  },
  {
   "cell_type": "code",
   "execution_count": 26,
   "id": "e4fb5bc6",
   "metadata": {},
   "outputs": [
    {
     "data": {
      "text/plain": [
       "'tiffin'"
      ]
     },
     "execution_count": 26,
     "metadata": {},
     "output_type": "execute_result"
    }
   ],
   "source": [
    "menu1.category"
   ]
  },
  {
   "cell_type": "code",
   "execution_count": 28,
   "id": "755e2d8b",
   "metadata": {},
   "outputs": [
    {
     "data": {
      "text/plain": [
       "'idly'"
      ]
     },
     "execution_count": 28,
     "metadata": {},
     "output_type": "execute_result"
    }
   ],
   "source": [
    "menu1.name"
   ]
  },
  {
   "cell_type": "code",
   "execution_count": 29,
   "id": "1f14f7f6",
   "metadata": {},
   "outputs": [
    {
     "data": {
      "text/plain": [
       "30"
      ]
     },
     "execution_count": 29,
     "metadata": {},
     "output_type": "execute_result"
    }
   ],
   "source": [
    "menu1.price"
   ]
  },
  {
   "cell_type": "code",
   "execution_count": 30,
   "id": "523c8018",
   "metadata": {},
   "outputs": [
    {
     "data": {
      "text/plain": [
       "1"
      ]
     },
     "execution_count": 30,
     "metadata": {},
     "output_type": "execute_result"
    }
   ],
   "source": [
    "table1.number"
   ]
  },
  {
   "cell_type": "code",
   "execution_count": 31,
   "id": "4e8fbbb0",
   "metadata": {},
   "outputs": [
    {
     "data": {
      "text/plain": [
       "4"
      ]
     },
     "execution_count": 31,
     "metadata": {},
     "output_type": "execute_result"
    }
   ],
   "source": [
    "table1.capacity"
   ]
  },
  {
   "cell_type": "code",
   "execution_count": 32,
   "id": "a6810a59",
   "metadata": {},
   "outputs": [
    {
     "data": {
      "text/plain": [
       "'ram'"
      ]
     },
     "execution_count": 32,
     "metadata": {},
     "output_type": "execute_result"
    }
   ],
   "source": [
    "staff1.name"
   ]
  },
  {
   "cell_type": "code",
   "execution_count": 33,
   "id": "7e5e8d2d",
   "metadata": {},
   "outputs": [
    {
     "data": {
      "text/plain": [
       "'manager'"
      ]
     },
     "execution_count": 33,
     "metadata": {},
     "output_type": "execute_result"
    }
   ],
   "source": [
    "staff1.position"
   ]
  },
  {
   "cell_type": "code",
   "execution_count": 34,
   "id": "a55f9ef0",
   "metadata": {},
   "outputs": [
    {
     "data": {
      "text/plain": [
       "'ram@gmail.com'"
      ]
     },
     "execution_count": 34,
     "metadata": {},
     "output_type": "execute_result"
    }
   ],
   "source": [
    "staff1.contact"
   ]
  },
  {
   "cell_type": "code",
   "execution_count": 35,
   "id": "c9623833",
   "metadata": {},
   "outputs": [
    {
     "data": {
      "text/plain": [
       "'9:30 pm'"
      ]
     },
     "execution_count": 35,
     "metadata": {},
     "output_type": "execute_result"
    }
   ],
   "source": [
    "reserv.reservationtime"
   ]
  },
  {
   "cell_type": "code",
   "execution_count": 36,
   "id": "582cab6f",
   "metadata": {},
   "outputs": [
    {
     "data": {
      "text/plain": [
       "'6-oct-2023'"
      ]
     },
     "execution_count": 36,
     "metadata": {},
     "output_type": "execute_result"
    }
   ],
   "source": [
    "reserv.date"
   ]
  },
  {
   "cell_type": "code",
   "execution_count": 37,
   "id": "faf5458a",
   "metadata": {},
   "outputs": [
    {
     "data": {
      "text/plain": [
       "4"
      ]
     },
     "execution_count": 37,
     "metadata": {},
     "output_type": "execute_result"
    }
   ],
   "source": [
    "reserv.partysize"
   ]
  },
  {
   "cell_type": "code",
   "execution_count": 38,
   "id": "e6762bf3",
   "metadata": {},
   "outputs": [
    {
     "data": {
      "text/plain": [
       "'pavan@gmail.com'"
      ]
     },
     "execution_count": 38,
     "metadata": {},
     "output_type": "execute_result"
    }
   ],
   "source": [
    "reserv.contactinfo"
   ]
  },
  {
   "cell_type": "code",
   "execution_count": 39,
   "id": "9f89bf07",
   "metadata": {},
   "outputs": [
    {
     "data": {
      "text/plain": [
       "'debit card'"
      ]
     },
     "execution_count": 39,
     "metadata": {},
     "output_type": "execute_result"
    }
   ],
   "source": [
    "payment1.paymentmethod"
   ]
  },
  {
   "cell_type": "code",
   "execution_count": 40,
   "id": "ae14cdd8",
   "metadata": {},
   "outputs": [
    {
     "data": {
      "text/plain": [
       "'online'"
      ]
     },
     "execution_count": 40,
     "metadata": {},
     "output_type": "execute_result"
    }
   ],
   "source": [
    "payment1.paymentmode"
   ]
  },
  {
   "cell_type": "code",
   "execution_count": 41,
   "id": "fb4e5c73",
   "metadata": {},
   "outputs": [
    {
     "data": {
      "text/plain": [
       "'sucess'"
      ]
     },
     "execution_count": 41,
     "metadata": {},
     "output_type": "execute_result"
    }
   ],
   "source": [
    "payment1.paymentstatus"
   ]
  },
  {
   "cell_type": "code",
   "execution_count": 42,
   "id": "5e97afa7",
   "metadata": {},
   "outputs": [
    {
     "data": {
      "text/plain": [
       "2000"
      ]
     },
     "execution_count": 42,
     "metadata": {},
     "output_type": "execute_result"
    }
   ],
   "source": [
    "payment1.totalamount"
   ]
  },
  {
   "cell_type": "code",
   "execution_count": null,
   "id": "62ca7623",
   "metadata": {},
   "outputs": [],
   "source": []
  }
 ],
 "metadata": {
  "kernelspec": {
   "display_name": "Python 3 (ipykernel)",
   "language": "python",
   "name": "python3"
  },
  "language_info": {
   "codemirror_mode": {
    "name": "ipython",
    "version": 3
   },
   "file_extension": ".py",
   "mimetype": "text/x-python",
   "name": "python",
   "nbconvert_exporter": "python",
   "pygments_lexer": "ipython3",
   "version": "3.11.4"
  }
 },
 "nbformat": 4,
 "nbformat_minor": 5
}
