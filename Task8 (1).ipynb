{
 "cells": [
  {
   "cell_type": "markdown",
   "id": "21c2b7b2",
   "metadata": {},
   "source": [
    "\n",
    "**Task 1: Basic If-Else Statements**\n",
    "Write a Python program that takes an `integer as input` from the user and prints whether it is `multiple of 3 or not` using if-else statements.\n",
    "\n",
    "**Task 2: Nested If Statements**\n",
    "Create a program that `asks the user` for their `age` and `nationality`. Depending on their age and nationality, display a different message using nested if statements. For example, if they are under 18 and from the USA, display `\"You are a minor from the USA.\"`\n",
    "\n",
    "**Task 3: Grade Calculator**\n",
    "Write a program that takes a student's score as input and converts it to a letter grade (A, B, C, D, or F) using if-elif-else statements. Use the following grading scale:\n",
    "- A: 90-100\n",
    "- B: 80-89\n",
    "- C: 70-79\n",
    "- D: 60-69\n",
    "- F: Below 60\n",
    "\n",
    "**Task 4: Leap Year Checker**\n",
    "Create a Python program that checks if a given year is a leap year or not. Use conditional statements to determine whether the year is divisible by 4, 100, and 400 to decide if it's a leap year.\n",
    "\n",
    "**Task 5: BMI Calculator**\n",
    "Write a program that calculates a person's Body Mass Index (BMI) based on their height and weight. Then, use conditional statements to categorize the BMI as Underweight, Normal, Overweight, or Obese. Provide guidance on the healthy range for BMI.(use BMI Formula)\n",
    "\n",
    "**Task 6: Calculator with Menu**\n",
    "Build a simple calculator program that provides a menu with options for addition, subtraction, multiplication, and division. `Take user input for two numbers`and an `operation choice`. Use conditional statements to perform the selected operation and display the result.\n",
    "\n",
    "**Task 7: Temperature Converter**\n",
    "Write a program that `converts temperatures between Celsius and Fahrenhei`t. Allow the user to `choose` the conversion direction and input the temperature value. Use conditional statements to perform the conversion based on the `user's choice`.(Do with conversion formula)\n"
   ]
  },
  {
   "cell_type": "markdown",
   "id": "988538a5",
   "metadata": {},
   "source": [
    "## Task 1: Basic If-Else Statements Write a Python program that takes an integer as input from the user and prints whether it is multiple of 3 or not using if-else statements."
   ]
  },
  {
   "cell_type": "code",
   "execution_count": 1,
   "id": "cca38c60",
   "metadata": {},
   "outputs": [
    {
     "name": "stdout",
     "output_type": "stream",
     "text": [
      "enter any number: 6\n",
      "num is multiple of 3\n"
     ]
    }
   ],
   "source": [
    "num=int(input(\"enter any number: \"))\n",
    "if(num%3==0):\n",
    "    print(\"num is multiple of 3\")\n",
    "else:\n",
    "    print(\"num is not multiple of 3\")\n",
    "    "
   ]
  },
  {
   "cell_type": "code",
   "execution_count": null,
   "id": "c73e9be5",
   "metadata": {},
   "outputs": [],
   "source": []
  },
  {
   "cell_type": "markdown",
   "id": "32a851a7",
   "metadata": {},
   "source": [
    "## Task 2: Nested If Statements Create a program that asks the user for their age and nationality. Depending on their age and nationality, display a different message using nested if statements. For example, if they are under 18 and from the USA, display \"You are a minor from the USA.\""
   ]
  },
  {
   "cell_type": "code",
   "execution_count": 8,
   "id": "11363443",
   "metadata": {},
   "outputs": [
    {
     "name": "stdout",
     "output_type": "stream",
     "text": [
      "enter any number: 17\n",
      "enter any country name: usa\n",
      "you are a minor in usa \n"
     ]
    }
   ],
   "source": [
    "age=int(input(\"enter any number: \"))\n",
    "if (age<=18) and (age>0):\n",
    "    nationality=input(\"enter any country name: \")\n",
    "    if nationality==\"usa\":\n",
    "        print(f\"you are a minor in {nationality} \")\n",
    "elif(age>18):\n",
    "    print(f\"you are major from in {nationality}\")\n",
    "else:\n",
    "    print(\"entered age is invalid\")"
   ]
  },
  {
   "cell_type": "code",
   "execution_count": null,
   "id": "52fa48d8",
   "metadata": {},
   "outputs": [],
   "source": []
  },
  {
   "cell_type": "markdown",
   "id": "8fca03f2",
   "metadata": {},
   "source": [
    "## Task 3: Grade Calculator Write a program that takes a student's score as input and converts it to a letter grade (A, B, C, D, or F) using if-elif-else statements. Use the following grading scale:\n",
    "\n",
    "* A: 90-100\n",
    "* B: 80-89\n",
    "* C: 70-79\n",
    "* D: 60-69\n",
    "* F: Below 60"
   ]
  },
  {
   "cell_type": "code",
   "execution_count": 9,
   "id": "749b04c9",
   "metadata": {},
   "outputs": [
    {
     "name": "stdout",
     "output_type": "stream",
     "text": [
      "enter marks obtained74\n",
      "C GRADE\n"
     ]
    }
   ],
   "source": [
    "marks=int(input(\"enter marks obtained\"))\n",
    "if (marks>=90) and (marks<=100):\n",
    "    print(\"A GRADE\")\n",
    "elif (marks>=80) and (marks<89):\n",
    "    print(\"B GRADE\")\n",
    "elif (marks>=70) and (marks<79):\n",
    "    print(\"C GRADE\")\n",
    "elif (marks>=60) and (marks<65):\n",
    "    print(\"D grade\")\n",
    "else:\n",
    "    print(\"fail\")"
   ]
  },
  {
   "cell_type": "code",
   "execution_count": null,
   "id": "6c686eab",
   "metadata": {},
   "outputs": [],
   "source": []
  },
  {
   "cell_type": "markdown",
   "id": "7875fc45",
   "metadata": {},
   "source": [
    "## Task 4: Leap Year Checker Create a Python program that checks if a given year is a leap year or not. Use conditional statements to determine whether the year is divisible by 4, 100, and 400 to decide if it's a leap year."
   ]
  },
  {
   "cell_type": "code",
   "execution_count": 10,
   "id": "b8a24824",
   "metadata": {},
   "outputs": [
    {
     "name": "stdout",
     "output_type": "stream",
     "text": [
      "enter any year: 2008\n",
      "2008 is leapyear\n"
     ]
    }
   ],
   "source": [
    "year=int(input(\"enter any year: \"))\n",
    "if(year%4==0) and (year%100 !=0) or (year%400==0):\n",
    "    print(f\"{year} is leapyear\")\n",
    "else:\n",
    "    print(f\"{year} is not leapyear\")"
   ]
  },
  {
   "cell_type": "code",
   "execution_count": null,
   "id": "29833297",
   "metadata": {},
   "outputs": [],
   "source": []
  },
  {
   "cell_type": "markdown",
   "id": "a7f936e9",
   "metadata": {},
   "source": [
    "## Task 5: BMI Calculator Write a program that calculates a person's Body Mass Index (BMI) based on their height and weight. Then, use conditional statements to categorize the BMI as Underweight, Normal, Overweight, or Obese. Provide guidance on the healthy range for BMI.(use BMI Formula)"
   ]
  },
  {
   "cell_type": "code",
   "execution_count": 11,
   "id": "35f8a6ce",
   "metadata": {},
   "outputs": [
    {
     "name": "stdout",
     "output_type": "stream",
     "text": [
      "enter the height : 17\n",
      "enter the weight : 65\n",
      "BMI is 0.22491349480968859\n",
      "underweight\n"
     ]
    }
   ],
   "source": [
    "height = float(input(\"enter the height : \"))\n",
    "weight = float(input(\"enter the weight : \"))\n",
    "BMI = weight/(height**2)\n",
    "print(\"BMI is\",BMI)\n",
    "if (BMI<18.5) and (BMI>0):\n",
    "    print(\"underweight\") \n",
    "elif (BMI==18.5) and (BMI<=24.9):\n",
    "    print(\"Normal weight\")\n",
    "elif (BMI==25) and (BMI<=29.9):\n",
    "    print(\"Overweight\")\n",
    "elif (BMI>30):\n",
    "    print(\"obese\")\n",
    "else:\n",
    "    print(\"enter a valid height and weight\")"
   ]
  },
  {
   "cell_type": "code",
   "execution_count": null,
   "id": "ff0dcc39",
   "metadata": {},
   "outputs": [],
   "source": []
  },
  {
   "cell_type": "markdown",
   "id": "10e12417",
   "metadata": {},
   "source": [
    "## Task 6: Calculator with Menu Build a simple calculator program that provides a menu with options for addition, subtraction, multiplication, and division. Take user input for two numbersand an operation choice. Use conditional statements to perform the selected operation and display the result."
   ]
  },
  {
   "cell_type": "code",
   "execution_count": 13,
   "id": "ebd52b20",
   "metadata": {},
   "outputs": [
    {
     "name": "stdout",
     "output_type": "stream",
     "text": [
      "enter number 1 : 50\n",
      "enter number 2 : 60\n",
      "enter an operation : division\n",
      "division of two numbers :  0.8333333333333334\n"
     ]
    }
   ],
   "source": [
    "num1 = int(input(\"enter number 1 : \"))\n",
    "num2 = int(input(\"enter number 2 : \"))\n",
    "operation = input(\"enter an operation : \")\n",
    "if  operation == 'addition' :\n",
    "    print(\"addition of two numbers : \",num1+num2)\n",
    "elif (operation == 'subtraction'):\n",
    "    print(\"subtraction of two numbers : \",num1-num2)\n",
    "elif (operation == 'multiplication')  :\n",
    "    print(\"multiplication of two numbers : \",num1*num2)\n",
    "elif (operation == 'division') :\n",
    "    print(\"division of two numbers : \",num1/num2)\n",
    "else:\n",
    "    print(\"it is not valid\")"
   ]
  },
  {
   "cell_type": "code",
   "execution_count": null,
   "id": "7c7e7afe",
   "metadata": {},
   "outputs": [],
   "source": []
  },
  {
   "cell_type": "markdown",
   "id": "33b182d6",
   "metadata": {},
   "source": [
    "## Task 7: Temperature Converter Write a program that converts temperatures between Celsius and Fahrenheit. Allow the user to choose the conversion direction and input the temperature value. Use conditional statements to perform the conversion based on the user's choice.(Do with conversion formula)"
   ]
  },
  {
   "cell_type": "code",
   "execution_count": 16,
   "id": "d80aad04",
   "metadata": {},
   "outputs": [
    {
     "name": "stdout",
     "output_type": "stream",
     "text": [
      "enter the temperature : 98.2\n",
      "enter your unit : farenhiet\n",
      "Enter valid choice\n"
     ]
    }
   ],
   "source": [
    "temp= float(input(\"enter the temperature : \"))\n",
    "contemp = input(\"enter your unit : \")\n",
    "if contemp == \"Farenheit\" :\n",
    "    Farenheit = (9/5 * temp) + 32\n",
    "    print(\"temperature in farenheit : \",Farenheit)\n",
    "elif contemp == \"celsius\" :\n",
    "    celsius= (temp -32)*5/9\n",
    "    print(\"temperature in celsius is : \",celsius)\n",
    "else:\n",
    "    print(\"Enter valid choice\")\n"
   ]
  },
  {
   "cell_type": "code",
   "execution_count": null,
   "id": "9673622c",
   "metadata": {},
   "outputs": [],
   "source": []
  },
  {
   "cell_type": "code",
   "execution_count": null,
   "id": "2b4cc105",
   "metadata": {},
   "outputs": [],
   "source": []
  }
 ],
 "metadata": {
  "kernelspec": {
   "display_name": "Python 3 (ipykernel)",
   "language": "python",
   "name": "python3"
  },
  "language_info": {
   "codemirror_mode": {
    "name": "ipython",
    "version": 3
   },
   "file_extension": ".py",
   "mimetype": "text/x-python",
   "name": "python",
   "nbconvert_exporter": "python",
   "pygments_lexer": "ipython3",
   "version": "3.11.4"
  }
 },
 "nbformat": 4,
 "nbformat_minor": 5
}
