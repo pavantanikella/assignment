{
 "cells": [
  {
   "cell_type": "code",
   "execution_count": 68,
   "id": "73b49101",
   "metadata": {},
   "outputs": [],
   "source": [
    "import numpy as np\n",
    "import pandas as pd\n",
    "import matplotlib.pyplot as plt\n",
    "import scipy as sc\n",
    "import seaborn as sns"
   ]
  },
  {
   "cell_type": "code",
   "execution_count": 2,
   "id": "633ae273",
   "metadata": {},
   "outputs": [],
   "source": [
    "fd=pd.read_csv(r\"C:\\Users\\pavan\\OneDrive\\Desktop\\innomatics class pdfs\\car_df_EDA.csv\")"
   ]
  },
  {
   "cell_type": "code",
   "execution_count": 3,
   "id": "4d09030c",
   "metadata": {},
   "outputs": [
    {
     "data": {
      "text/html": [
       "<div>\n",
       "<style scoped>\n",
       "    .dataframe tbody tr th:only-of-type {\n",
       "        vertical-align: middle;\n",
       "    }\n",
       "\n",
       "    .dataframe tbody tr th {\n",
       "        vertical-align: top;\n",
       "    }\n",
       "\n",
       "    .dataframe thead th {\n",
       "        text-align: right;\n",
       "    }\n",
       "</style>\n",
       "<table border=\"1\" class=\"dataframe\">\n",
       "  <thead>\n",
       "    <tr style=\"text-align: right;\">\n",
       "      <th></th>\n",
       "      <th>Unnamed: 0.1</th>\n",
       "      <th>Unnamed: 0</th>\n",
       "      <th>make</th>\n",
       "      <th>fuel_type</th>\n",
       "      <th>aspiration</th>\n",
       "      <th>num_of_doors</th>\n",
       "      <th>body_style</th>\n",
       "      <th>drive_wheels</th>\n",
       "      <th>engine_location</th>\n",
       "      <th>wheel_base</th>\n",
       "      <th>...</th>\n",
       "      <th>engine_type</th>\n",
       "      <th>num_of_cylinders</th>\n",
       "      <th>engine_size</th>\n",
       "      <th>fuel_system</th>\n",
       "      <th>compression_ratio</th>\n",
       "      <th>horsepower</th>\n",
       "      <th>peak_rpm</th>\n",
       "      <th>city_mpg</th>\n",
       "      <th>highway_mpg</th>\n",
       "      <th>price</th>\n",
       "    </tr>\n",
       "  </thead>\n",
       "  <tbody>\n",
       "    <tr>\n",
       "      <th>0</th>\n",
       "      <td>0</td>\n",
       "      <td>1</td>\n",
       "      <td>alfa-romero</td>\n",
       "      <td>gas</td>\n",
       "      <td>std</td>\n",
       "      <td>two</td>\n",
       "      <td>convertible</td>\n",
       "      <td>rwd</td>\n",
       "      <td>front</td>\n",
       "      <td>88.6</td>\n",
       "      <td>...</td>\n",
       "      <td>dohc</td>\n",
       "      <td>four</td>\n",
       "      <td>130.0</td>\n",
       "      <td>mpfi</td>\n",
       "      <td>9.0</td>\n",
       "      <td>111</td>\n",
       "      <td>5000</td>\n",
       "      <td>21</td>\n",
       "      <td>27</td>\n",
       "      <td>13495</td>\n",
       "    </tr>\n",
       "    <tr>\n",
       "      <th>1</th>\n",
       "      <td>1</td>\n",
       "      <td>2</td>\n",
       "      <td>alfa-romero</td>\n",
       "      <td>gas</td>\n",
       "      <td>std</td>\n",
       "      <td>two</td>\n",
       "      <td>convertible</td>\n",
       "      <td>rwd</td>\n",
       "      <td>front</td>\n",
       "      <td>88.6</td>\n",
       "      <td>...</td>\n",
       "      <td>dohc</td>\n",
       "      <td>four</td>\n",
       "      <td>130.0</td>\n",
       "      <td>mpfi</td>\n",
       "      <td>9.0</td>\n",
       "      <td>111</td>\n",
       "      <td>5000</td>\n",
       "      <td>21</td>\n",
       "      <td>27</td>\n",
       "      <td>16500</td>\n",
       "    </tr>\n",
       "    <tr>\n",
       "      <th>2</th>\n",
       "      <td>2</td>\n",
       "      <td>3</td>\n",
       "      <td>alfa-romero</td>\n",
       "      <td>gas</td>\n",
       "      <td>std</td>\n",
       "      <td>two</td>\n",
       "      <td>hatchback</td>\n",
       "      <td>rwd</td>\n",
       "      <td>front</td>\n",
       "      <td>94.5</td>\n",
       "      <td>...</td>\n",
       "      <td>ohcv</td>\n",
       "      <td>six</td>\n",
       "      <td>152.0</td>\n",
       "      <td>mpfi</td>\n",
       "      <td>9.0</td>\n",
       "      <td>154</td>\n",
       "      <td>5000</td>\n",
       "      <td>19</td>\n",
       "      <td>26</td>\n",
       "      <td>16500</td>\n",
       "    </tr>\n",
       "    <tr>\n",
       "      <th>3</th>\n",
       "      <td>3</td>\n",
       "      <td>4</td>\n",
       "      <td>audi</td>\n",
       "      <td>gas</td>\n",
       "      <td>std</td>\n",
       "      <td>four</td>\n",
       "      <td>sedan</td>\n",
       "      <td>fwd</td>\n",
       "      <td>front</td>\n",
       "      <td>99.8</td>\n",
       "      <td>...</td>\n",
       "      <td>ohc</td>\n",
       "      <td>four</td>\n",
       "      <td>109.0</td>\n",
       "      <td>mpfi</td>\n",
       "      <td>10.0</td>\n",
       "      <td>102</td>\n",
       "      <td>5500</td>\n",
       "      <td>24</td>\n",
       "      <td>30</td>\n",
       "      <td>13950</td>\n",
       "    </tr>\n",
       "    <tr>\n",
       "      <th>4</th>\n",
       "      <td>4</td>\n",
       "      <td>5</td>\n",
       "      <td>audi</td>\n",
       "      <td>gas</td>\n",
       "      <td>std</td>\n",
       "      <td>four</td>\n",
       "      <td>sedan</td>\n",
       "      <td>4wd</td>\n",
       "      <td>front</td>\n",
       "      <td>99.4</td>\n",
       "      <td>...</td>\n",
       "      <td>ohc</td>\n",
       "      <td>five</td>\n",
       "      <td>136.0</td>\n",
       "      <td>mpfi</td>\n",
       "      <td>8.0</td>\n",
       "      <td>115</td>\n",
       "      <td>5500</td>\n",
       "      <td>18</td>\n",
       "      <td>22</td>\n",
       "      <td>17450</td>\n",
       "    </tr>\n",
       "    <tr>\n",
       "      <th>...</th>\n",
       "      <td>...</td>\n",
       "      <td>...</td>\n",
       "      <td>...</td>\n",
       "      <td>...</td>\n",
       "      <td>...</td>\n",
       "      <td>...</td>\n",
       "      <td>...</td>\n",
       "      <td>...</td>\n",
       "      <td>...</td>\n",
       "      <td>...</td>\n",
       "      <td>...</td>\n",
       "      <td>...</td>\n",
       "      <td>...</td>\n",
       "      <td>...</td>\n",
       "      <td>...</td>\n",
       "      <td>...</td>\n",
       "      <td>...</td>\n",
       "      <td>...</td>\n",
       "      <td>...</td>\n",
       "      <td>...</td>\n",
       "      <td>...</td>\n",
       "    </tr>\n",
       "    <tr>\n",
       "      <th>203</th>\n",
       "      <td>203</td>\n",
       "      <td>204</td>\n",
       "      <td>volvo</td>\n",
       "      <td>diesel</td>\n",
       "      <td>turbo</td>\n",
       "      <td>four</td>\n",
       "      <td>sedan</td>\n",
       "      <td>rwd</td>\n",
       "      <td>front</td>\n",
       "      <td>109.1</td>\n",
       "      <td>...</td>\n",
       "      <td>ohc</td>\n",
       "      <td>six</td>\n",
       "      <td>145.0</td>\n",
       "      <td>idi</td>\n",
       "      <td>23.0</td>\n",
       "      <td>106</td>\n",
       "      <td>4800</td>\n",
       "      <td>26</td>\n",
       "      <td>27</td>\n",
       "      <td>NaN</td>\n",
       "    </tr>\n",
       "    <tr>\n",
       "      <th>204</th>\n",
       "      <td>204</td>\n",
       "      <td>205</td>\n",
       "      <td>volvo</td>\n",
       "      <td>gas</td>\n",
       "      <td>turbo</td>\n",
       "      <td>four</td>\n",
       "      <td>sedan</td>\n",
       "      <td>rwd</td>\n",
       "      <td>front</td>\n",
       "      <td>109.1</td>\n",
       "      <td>...</td>\n",
       "      <td>ohc</td>\n",
       "      <td>four</td>\n",
       "      <td>141.0</td>\n",
       "      <td>mpfi</td>\n",
       "      <td>9.5</td>\n",
       "      <td>114</td>\n",
       "      <td>5400</td>\n",
       "      <td>19</td>\n",
       "      <td>25</td>\n",
       "      <td>22625</td>\n",
       "    </tr>\n",
       "    <tr>\n",
       "      <th>205</th>\n",
       "      <td>202</td>\n",
       "      <td>203</td>\n",
       "      <td>volvo</td>\n",
       "      <td>gas</td>\n",
       "      <td>std</td>\n",
       "      <td>four</td>\n",
       "      <td>sedan</td>\n",
       "      <td>rwd</td>\n",
       "      <td>front</td>\n",
       "      <td>109.1</td>\n",
       "      <td>...</td>\n",
       "      <td>ohcv</td>\n",
       "      <td>six</td>\n",
       "      <td>173.0</td>\n",
       "      <td>mpfi</td>\n",
       "      <td>8.8</td>\n",
       "      <td>134</td>\n",
       "      <td>5500</td>\n",
       "      <td>18</td>\n",
       "      <td>23</td>\n",
       "      <td>21485</td>\n",
       "    </tr>\n",
       "    <tr>\n",
       "      <th>206</th>\n",
       "      <td>203</td>\n",
       "      <td>204</td>\n",
       "      <td>volvo</td>\n",
       "      <td>diesel</td>\n",
       "      <td>turbo</td>\n",
       "      <td>four</td>\n",
       "      <td>sedan</td>\n",
       "      <td>rwd</td>\n",
       "      <td>front</td>\n",
       "      <td>109.1</td>\n",
       "      <td>...</td>\n",
       "      <td>ohc</td>\n",
       "      <td>six</td>\n",
       "      <td>145.0</td>\n",
       "      <td>idi</td>\n",
       "      <td>23.0</td>\n",
       "      <td>106</td>\n",
       "      <td>4800</td>\n",
       "      <td>26</td>\n",
       "      <td>27</td>\n",
       "      <td>NaN</td>\n",
       "    </tr>\n",
       "    <tr>\n",
       "      <th>207</th>\n",
       "      <td>204</td>\n",
       "      <td>205</td>\n",
       "      <td>volvo</td>\n",
       "      <td>gas</td>\n",
       "      <td>turbo</td>\n",
       "      <td>four</td>\n",
       "      <td>sedan</td>\n",
       "      <td>rwd</td>\n",
       "      <td>front</td>\n",
       "      <td>109.1</td>\n",
       "      <td>...</td>\n",
       "      <td>ohc</td>\n",
       "      <td>four</td>\n",
       "      <td>141.0</td>\n",
       "      <td>mpfi</td>\n",
       "      <td>9.5</td>\n",
       "      <td>114</td>\n",
       "      <td>5400</td>\n",
       "      <td>19</td>\n",
       "      <td>25</td>\n",
       "      <td>22625</td>\n",
       "    </tr>\n",
       "  </tbody>\n",
       "</table>\n",
       "<p>208 rows × 24 columns</p>\n",
       "</div>"
      ],
      "text/plain": [
       "     Unnamed: 0.1  Unnamed: 0         make fuel_type aspiration num_of_doors  \\\n",
       "0               0           1  alfa-romero       gas        std          two   \n",
       "1               1           2  alfa-romero       gas        std          two   \n",
       "2               2           3  alfa-romero       gas        std          two   \n",
       "3               3           4         audi       gas        std         four   \n",
       "4               4           5         audi       gas        std         four   \n",
       "..            ...         ...          ...       ...        ...          ...   \n",
       "203           203         204        volvo    diesel      turbo         four   \n",
       "204           204         205        volvo       gas      turbo         four   \n",
       "205           202         203        volvo       gas        std         four   \n",
       "206           203         204        volvo    diesel      turbo         four   \n",
       "207           204         205        volvo       gas      turbo         four   \n",
       "\n",
       "      body_style drive_wheels engine_location  wheel_base  ...  engine_type  \\\n",
       "0    convertible          rwd           front        88.6  ...         dohc   \n",
       "1    convertible          rwd           front        88.6  ...         dohc   \n",
       "2      hatchback          rwd           front        94.5  ...         ohcv   \n",
       "3          sedan          fwd           front        99.8  ...          ohc   \n",
       "4          sedan          4wd           front        99.4  ...          ohc   \n",
       "..           ...          ...             ...         ...  ...          ...   \n",
       "203        sedan          rwd           front       109.1  ...          ohc   \n",
       "204        sedan          rwd           front       109.1  ...          ohc   \n",
       "205        sedan          rwd           front       109.1  ...         ohcv   \n",
       "206        sedan          rwd           front       109.1  ...          ohc   \n",
       "207        sedan          rwd           front       109.1  ...          ohc   \n",
       "\n",
       "     num_of_cylinders  engine_size  fuel_system compression_ratio horsepower  \\\n",
       "0                four        130.0         mpfi               9.0        111   \n",
       "1                four        130.0         mpfi               9.0        111   \n",
       "2                 six        152.0         mpfi               9.0        154   \n",
       "3                four        109.0         mpfi              10.0        102   \n",
       "4                five        136.0         mpfi               8.0        115   \n",
       "..                ...          ...          ...               ...        ...   \n",
       "203               six        145.0          idi              23.0        106   \n",
       "204              four        141.0         mpfi               9.5        114   \n",
       "205               six        173.0         mpfi               8.8        134   \n",
       "206               six        145.0          idi              23.0        106   \n",
       "207              four        141.0         mpfi               9.5        114   \n",
       "\n",
       "     peak_rpm city_mpg  highway_mpg  price  \n",
       "0        5000       21           27  13495  \n",
       "1        5000       21           27  16500  \n",
       "2        5000       19           26  16500  \n",
       "3        5500       24           30  13950  \n",
       "4        5500       18           22  17450  \n",
       "..        ...      ...          ...    ...  \n",
       "203      4800       26           27    NaN  \n",
       "204      5400       19           25  22625  \n",
       "205      5500       18           23  21485  \n",
       "206      4800       26           27    NaN  \n",
       "207      5400       19           25  22625  \n",
       "\n",
       "[208 rows x 24 columns]"
      ]
     },
     "execution_count": 3,
     "metadata": {},
     "output_type": "execute_result"
    }
   ],
   "source": [
    "fd"
   ]
  },
  {
   "cell_type": "markdown",
   "id": "761d3a8a",
   "metadata": {},
   "source": [
    "## Duplicate values"
   ]
  },
  {
   "cell_type": "code",
   "execution_count": 4,
   "id": "66d7f158",
   "metadata": {},
   "outputs": [
    {
     "data": {
      "text/plain": [
       "3"
      ]
     },
     "execution_count": 4,
     "metadata": {},
     "output_type": "execute_result"
    }
   ],
   "source": [
    "fd.duplicated().sum()"
   ]
  },
  {
   "cell_type": "code",
   "execution_count": 5,
   "id": "7a376d54",
   "metadata": {},
   "outputs": [],
   "source": [
    "fd.drop_duplicates(keep='first',inplace=True)"
   ]
  },
  {
   "cell_type": "code",
   "execution_count": 6,
   "id": "4e9b5c8f",
   "metadata": {},
   "outputs": [
    {
     "data": {
      "text/plain": [
       "0"
      ]
     },
     "execution_count": 6,
     "metadata": {},
     "output_type": "execute_result"
    }
   ],
   "source": [
    "fd.duplicated().sum()"
   ]
  },
  {
   "cell_type": "markdown",
   "id": "afd60041",
   "metadata": {},
   "source": [
    "### structural errors"
   ]
  },
  {
   "cell_type": "code",
   "execution_count": 7,
   "id": "858e1c6f",
   "metadata": {},
   "outputs": [
    {
     "data": {
      "text/plain": [
       "dtype('O')"
      ]
     },
     "execution_count": 7,
     "metadata": {},
     "output_type": "execute_result"
    }
   ],
   "source": [
    "fd['make'].dtype"
   ]
  },
  {
   "cell_type": "code",
   "execution_count": 8,
   "id": "ad8e067a",
   "metadata": {},
   "outputs": [
    {
     "data": {
      "text/plain": [
       "array(['alfa-romero', 'audi', 'bmw', 'chevrolet', 'dodge', 'honda',\n",
       "       'isuzu', 'jaguar', 'mazda', 'mercedes-benz', 'mercury',\n",
       "       'mitsubishi', 'nissan', 'peugot', 'plymouth', 'porsche', 'renault',\n",
       "       'saab', 'subaru', 'toyota', 'volkswagen', 'volvo'], dtype=object)"
      ]
     },
     "execution_count": 8,
     "metadata": {},
     "output_type": "execute_result"
    }
   ],
   "source": [
    "fd['make'].unique()"
   ]
  },
  {
   "cell_type": "code",
   "execution_count": 9,
   "id": "1833654d",
   "metadata": {},
   "outputs": [
    {
     "data": {
      "text/plain": [
       "array(['gas', 'diesel'], dtype=object)"
      ]
     },
     "execution_count": 9,
     "metadata": {},
     "output_type": "execute_result"
    }
   ],
   "source": [
    "fd['fuel_type'].unique()"
   ]
  },
  {
   "cell_type": "code",
   "execution_count": 10,
   "id": "e6c47ff4",
   "metadata": {},
   "outputs": [
    {
     "data": {
      "text/plain": [
       "array(['two', 'four', '?'], dtype=object)"
      ]
     },
     "execution_count": 10,
     "metadata": {},
     "output_type": "execute_result"
    }
   ],
   "source": [
    "fd['num_of_doors'].unique()"
   ]
  },
  {
   "cell_type": "code",
   "execution_count": 11,
   "id": "f8a9da68",
   "metadata": {},
   "outputs": [
    {
     "data": {
      "text/plain": [
       "dtype('O')"
      ]
     },
     "execution_count": 11,
     "metadata": {},
     "output_type": "execute_result"
    }
   ],
   "source": [
    "fd['num_of_doors'].dtype"
   ]
  },
  {
   "cell_type": "code",
   "execution_count": 12,
   "id": "9a477da5",
   "metadata": {},
   "outputs": [
    {
     "data": {
      "text/plain": [
       "0       two\n",
       "1       two\n",
       "2       two\n",
       "3      four\n",
       "4      four\n",
       "       ... \n",
       "200    four\n",
       "201    four\n",
       "202    four\n",
       "203    four\n",
       "204    four\n",
       "Name: num_of_doors, Length: 205, dtype: object"
      ]
     },
     "execution_count": 12,
     "metadata": {},
     "output_type": "execute_result"
    }
   ],
   "source": [
    "fd['num_of_doors'].replace('?','nan')    "
   ]
  },
  {
   "cell_type": "code",
   "execution_count": 13,
   "id": "40ef6dfd",
   "metadata": {},
   "outputs": [
    {
     "data": {
      "text/plain": [
       "dtype('O')"
      ]
     },
     "execution_count": 13,
     "metadata": {},
     "output_type": "execute_result"
    }
   ],
   "source": [
    "fd['body_style'].dtype"
   ]
  },
  {
   "cell_type": "code",
   "execution_count": 14,
   "id": "0a185242",
   "metadata": {},
   "outputs": [
    {
     "data": {
      "text/plain": [
       "array(['convertible', 'hatchback', 'sedan', 'wagon', 'hardtop'],\n",
       "      dtype=object)"
      ]
     },
     "execution_count": 14,
     "metadata": {},
     "output_type": "execute_result"
    }
   ],
   "source": [
    "fd['body_style'].unique()"
   ]
  },
  {
   "cell_type": "code",
   "execution_count": 15,
   "id": "a17b6eb9",
   "metadata": {},
   "outputs": [
    {
     "data": {
      "text/plain": [
       "array(['rwd', 'fwd', '4wd'], dtype=object)"
      ]
     },
     "execution_count": 15,
     "metadata": {},
     "output_type": "execute_result"
    }
   ],
   "source": [
    "fd['drive_wheels'].unique()"
   ]
  },
  {
   "cell_type": "code",
   "execution_count": 16,
   "id": "2c338413",
   "metadata": {},
   "outputs": [
    {
     "data": {
      "text/plain": [
       "dtype('O')"
      ]
     },
     "execution_count": 16,
     "metadata": {},
     "output_type": "execute_result"
    }
   ],
   "source": [
    "fd['drive_wheels'].dtype"
   ]
  },
  {
   "cell_type": "code",
   "execution_count": 17,
   "id": "6696097e",
   "metadata": {},
   "outputs": [
    {
     "data": {
      "text/plain": [
       "dtype('O')"
      ]
     },
     "execution_count": 17,
     "metadata": {},
     "output_type": "execute_result"
    }
   ],
   "source": [
    "fd['engine_location'].dtype"
   ]
  },
  {
   "cell_type": "code",
   "execution_count": 18,
   "id": "e7c51720",
   "metadata": {},
   "outputs": [
    {
     "data": {
      "text/plain": [
       "array(['front', 'rear'], dtype=object)"
      ]
     },
     "execution_count": 18,
     "metadata": {},
     "output_type": "execute_result"
    }
   ],
   "source": [
    "fd['engine_location'].unique()"
   ]
  },
  {
   "cell_type": "code",
   "execution_count": 19,
   "id": "ec685e38",
   "metadata": {},
   "outputs": [
    {
     "data": {
      "text/plain": [
       "dtype('float64')"
      ]
     },
     "execution_count": 19,
     "metadata": {},
     "output_type": "execute_result"
    }
   ],
   "source": [
    "fd['wheel_base'].dtype"
   ]
  },
  {
   "cell_type": "code",
   "execution_count": 20,
   "id": "7cdb8af6",
   "metadata": {},
   "outputs": [
    {
     "data": {
      "text/plain": [
       "array([ 88.6,  94.5,  99.8,  99.4, 105.8,  99.5, 101.2,   nan, 103.5,\n",
       "       110. ,  88.4,  93.7, 103.3,  95.9,  86.6,  96.5,  94.3,  96. ,\n",
       "       113. , 102. ,  93.1,  95.3,  98.8, 104.9, 106.7, 115.6,  96.6,\n",
       "       120.9, 112. , 102.7,  93. ,  96.3,  95.1,  97.2, 100.4,  91.3,\n",
       "        99.2, 107.9, 114.2, 108. ,  89.5,  98.4,  96.1,  99.1,  93.3,\n",
       "        97. ,  96.9,  95.7, 102.4, 102.9, 104.5,  97.3, 104.3, 109.1])"
      ]
     },
     "execution_count": 20,
     "metadata": {},
     "output_type": "execute_result"
    }
   ],
   "source": [
    "fd['wheel_base'].unique()"
   ]
  },
  {
   "cell_type": "code",
   "execution_count": 21,
   "id": "60bf6b8f",
   "metadata": {},
   "outputs": [
    {
     "data": {
      "text/plain": [
       "dtype('O')"
      ]
     },
     "execution_count": 21,
     "metadata": {},
     "output_type": "execute_result"
    }
   ],
   "source": [
    "fd['engine_type'].dtype"
   ]
  },
  {
   "cell_type": "code",
   "execution_count": 22,
   "id": "ea641551",
   "metadata": {},
   "outputs": [
    {
     "data": {
      "text/plain": [
       "array(['dohc', 'ohcv', 'ohc', 'l', 'rotor', nan, 'ohcf', 'dohcv'],\n",
       "      dtype=object)"
      ]
     },
     "execution_count": 22,
     "metadata": {},
     "output_type": "execute_result"
    }
   ],
   "source": [
    "fd['engine_type'].unique()"
   ]
  },
  {
   "cell_type": "code",
   "execution_count": 23,
   "id": "7989db8b",
   "metadata": {},
   "outputs": [
    {
     "data": {
      "text/plain": [
       "dtype('O')"
      ]
     },
     "execution_count": 23,
     "metadata": {},
     "output_type": "execute_result"
    }
   ],
   "source": [
    "fd['num_of_cylinders'].dtype"
   ]
  },
  {
   "cell_type": "code",
   "execution_count": 24,
   "id": "91f234de",
   "metadata": {},
   "outputs": [
    {
     "data": {
      "text/plain": [
       "array(['four', 'six', 'five', 'three', 'twelve', 'two', 'eight'],\n",
       "      dtype=object)"
      ]
     },
     "execution_count": 24,
     "metadata": {},
     "output_type": "execute_result"
    }
   ],
   "source": [
    "fd['num_of_cylinders'].unique()"
   ]
  },
  {
   "cell_type": "code",
   "execution_count": 25,
   "id": "f9151c60",
   "metadata": {},
   "outputs": [],
   "source": [
    "def cyl(n):\n",
    "    if n==\"two\":\n",
    "        return 2\n",
    "    elif n==\"four\":\n",
    "        return 4\n",
    "    elif n==\"six\":\n",
    "        return 6\n",
    "    elif n==\"eight\":\n",
    "        return 8\n",
    "    elif n==\"twelve\":\n",
    "        return 12\n",
    "    else:\n",
    "        return 3"
   ]
  },
  {
   "cell_type": "code",
   "execution_count": 26,
   "id": "7a305e4b",
   "metadata": {},
   "outputs": [
    {
     "data": {
      "text/plain": [
       "0      4\n",
       "1      4\n",
       "2      6\n",
       "3      4\n",
       "4      3\n",
       "      ..\n",
       "200    4\n",
       "201    4\n",
       "202    6\n",
       "203    6\n",
       "204    4\n",
       "Name: num_of_cylinders, Length: 205, dtype: int64"
      ]
     },
     "execution_count": 26,
     "metadata": {},
     "output_type": "execute_result"
    }
   ],
   "source": [
    "fd['num_of_cylinders'].apply(cyl)"
   ]
  },
  {
   "cell_type": "code",
   "execution_count": 27,
   "id": "d0a27002",
   "metadata": {},
   "outputs": [
    {
     "data": {
      "text/plain": [
       "dtype('float64')"
      ]
     },
     "execution_count": 27,
     "metadata": {},
     "output_type": "execute_result"
    }
   ],
   "source": [
    "fd['engine_size'].dtype"
   ]
  },
  {
   "cell_type": "code",
   "execution_count": 28,
   "id": "af9c0c54",
   "metadata": {},
   "outputs": [
    {
     "data": {
      "text/plain": [
       "array([130., 152., 109., 136., 131., 108., 164., 209.,  61.,  90.,  98.,\n",
       "       122., 156.,  92.,  79., 110.,  nan, 111., 119., 258., 326.,  91.,\n",
       "        70.,  80., 140., 134., 183., 234., 308., 304.,  97., 103., 120.,\n",
       "       181., 151., 194., 203., 132., 121., 146., 171., 161., 141., 173.,\n",
       "       145.])"
      ]
     },
     "execution_count": 28,
     "metadata": {},
     "output_type": "execute_result"
    }
   ],
   "source": [
    "fd['engine_size'].unique()"
   ]
  },
  {
   "cell_type": "code",
   "execution_count": 29,
   "id": "0bd1fd3e",
   "metadata": {},
   "outputs": [
    {
     "data": {
      "text/plain": [
       "dtype('O')"
      ]
     },
     "execution_count": 29,
     "metadata": {},
     "output_type": "execute_result"
    }
   ],
   "source": [
    "fd['fuel_system'].dtype"
   ]
  },
  {
   "cell_type": "code",
   "execution_count": 30,
   "id": "5b7a2e21",
   "metadata": {},
   "outputs": [
    {
     "data": {
      "text/plain": [
       "array(['mpfi', '2bbl', 'mfi', '1bbl', 'spfi', '4bbl', 'idi', 'spdi'],\n",
       "      dtype=object)"
      ]
     },
     "execution_count": 30,
     "metadata": {},
     "output_type": "execute_result"
    }
   ],
   "source": [
    "fd['fuel_system'].unique()"
   ]
  },
  {
   "cell_type": "code",
   "execution_count": 31,
   "id": "cf3a7194",
   "metadata": {},
   "outputs": [
    {
     "data": {
      "text/plain": [
       "dtype('float64')"
      ]
     },
     "execution_count": 31,
     "metadata": {},
     "output_type": "execute_result"
    }
   ],
   "source": [
    "fd['compression_ratio'].dtype"
   ]
  },
  {
   "cell_type": "code",
   "execution_count": 32,
   "id": "775cd512",
   "metadata": {},
   "outputs": [
    {
     "data": {
      "text/plain": [
       "array([ 9.  , 10.  ,  8.  ,  8.5 ,  8.3 ,  7.  ,  8.8 ,  9.5 ,  9.6 ,\n",
       "        9.41,  9.4 ,  7.6 ,  9.2 , 10.1 ,  9.1 ,  8.1 , 11.5 ,  8.6 ,\n",
       "       22.7 , 22.  , 21.5 ,  7.5 , 21.9 ,  7.8 ,  8.4 , 21.  ,  8.7 ,\n",
       "        9.31,  9.3 ,  7.7 , 22.5 , 23.  ])"
      ]
     },
     "execution_count": 32,
     "metadata": {},
     "output_type": "execute_result"
    }
   ],
   "source": [
    "fd['compression_ratio'].unique()"
   ]
  },
  {
   "cell_type": "code",
   "execution_count": 33,
   "id": "4846b236",
   "metadata": {},
   "outputs": [
    {
     "data": {
      "text/plain": [
       "dtype('O')"
      ]
     },
     "execution_count": 33,
     "metadata": {},
     "output_type": "execute_result"
    }
   ],
   "source": [
    "fd['horsepower'].dtype"
   ]
  },
  {
   "cell_type": "code",
   "execution_count": 34,
   "id": "3e799e1e",
   "metadata": {},
   "outputs": [
    {
     "data": {
      "text/plain": [
       "array(['111', '154', '102', '115', '110', '140', '160', '101', '121',\n",
       "       '182', '48', '70', '68', '88', '145', '58', '76', '60', '86',\n",
       "       '100', '78', '90', '176', '262', '135', '84', '64', '120', '72',\n",
       "       '123', '155', '184', '175', '116', '69', '55', '97', '152', '200',\n",
       "       '95', '142', '143', '207', '288', '?', '73', '82', '94', '62',\n",
       "       '56', '112', '92', '161', '156', '52', '85', '114', '162', '134',\n",
       "       '106'], dtype=object)"
      ]
     },
     "execution_count": 34,
     "metadata": {},
     "output_type": "execute_result"
    }
   ],
   "source": [
    "fd['horsepower'].unique()"
   ]
  },
  {
   "cell_type": "code",
   "execution_count": 35,
   "id": "54d63c74",
   "metadata": {},
   "outputs": [],
   "source": [
    "fd['horsepower']=fd['horsepower'].replace('?',np.nan)"
   ]
  },
  {
   "cell_type": "code",
   "execution_count": 36,
   "id": "e5f78659",
   "metadata": {},
   "outputs": [
    {
     "data": {
      "text/plain": [
       "dtype('O')"
      ]
     },
     "execution_count": 36,
     "metadata": {},
     "output_type": "execute_result"
    }
   ],
   "source": [
    "fd['peak_rpm'].dtype"
   ]
  },
  {
   "cell_type": "code",
   "execution_count": 37,
   "id": "7d5b075c",
   "metadata": {},
   "outputs": [
    {
     "data": {
      "text/plain": [
       "array(['5000', '5500', '5800', '4250', '5400', '5100', '4800', '6000',\n",
       "       '4750', '4650', '4200', '4350', '4500', '5200', '4150', '5600',\n",
       "       '5900', '5750', '?', '5250', '4900', '4400', '6600', '5300'],\n",
       "      dtype=object)"
      ]
     },
     "execution_count": 37,
     "metadata": {},
     "output_type": "execute_result"
    }
   ],
   "source": [
    "fd['peak_rpm'].unique()"
   ]
  },
  {
   "cell_type": "code",
   "execution_count": 38,
   "id": "f7a934b2",
   "metadata": {},
   "outputs": [],
   "source": [
    "fd['peak_rpm']=fd['peak_rpm'].replace('?',np.nan)"
   ]
  },
  {
   "cell_type": "code",
   "execution_count": 39,
   "id": "411d2697",
   "metadata": {},
   "outputs": [
    {
     "data": {
      "text/plain": [
       "dtype('int64')"
      ]
     },
     "execution_count": 39,
     "metadata": {},
     "output_type": "execute_result"
    }
   ],
   "source": [
    "fd['city_mpg'].dtype"
   ]
  },
  {
   "cell_type": "code",
   "execution_count": 40,
   "id": "58c0762e",
   "metadata": {},
   "outputs": [
    {
     "data": {
      "text/plain": [
       "array([21, 19, 24, 18, 17, 16, 23, 20, 15, 47, 38, 37, 31, 49, 30, 27, 25,\n",
       "       13, 26, 36, 22, 14, 45, 28, 32, 35, 34, 29, 33], dtype=int64)"
      ]
     },
     "execution_count": 40,
     "metadata": {},
     "output_type": "execute_result"
    }
   ],
   "source": [
    "fd['city_mpg'].unique()"
   ]
  },
  {
   "cell_type": "code",
   "execution_count": 41,
   "id": "070515ae",
   "metadata": {},
   "outputs": [
    {
     "data": {
      "text/plain": [
       "dtype('int64')"
      ]
     },
     "execution_count": 41,
     "metadata": {},
     "output_type": "execute_result"
    }
   ],
   "source": [
    "fd['highway_mpg'].dtype"
   ]
  },
  {
   "cell_type": "code",
   "execution_count": 42,
   "id": "ad7db085",
   "metadata": {},
   "outputs": [
    {
     "data": {
      "text/plain": [
       "array([27, 26, 30, 22, 25, 20, 29, 28, 53, 43, 41, 38, 24, 54, 42, 34, 33,\n",
       "       31, 19, 17, 23, 32, 39, 18, 16, 37, 50, 36, 47, 46], dtype=int64)"
      ]
     },
     "execution_count": 42,
     "metadata": {},
     "output_type": "execute_result"
    }
   ],
   "source": [
    "fd['highway_mpg'].unique()"
   ]
  },
  {
   "cell_type": "code",
   "execution_count": 43,
   "id": "ce23d91e",
   "metadata": {},
   "outputs": [
    {
     "data": {
      "text/plain": [
       "dtype('O')"
      ]
     },
     "execution_count": 43,
     "metadata": {},
     "output_type": "execute_result"
    }
   ],
   "source": [
    "fd['price'].dtype"
   ]
  },
  {
   "cell_type": "code",
   "execution_count": 44,
   "id": "203a08cd",
   "metadata": {},
   "outputs": [
    {
     "data": {
      "text/plain": [
       "array(['13495', '16500', '13950', '17450', '15250', '17710', '18920',\n",
       "       '23875', '?', '16430', '16925', '20970', '21105', '24565', '30760',\n",
       "       '41315', '36880', '5151', '6295', '6575', '5572', '6377', '7957',\n",
       "       '6229', '6692', '7609', '8558', '8921', '12964', '6479', '6855',\n",
       "       '5399', '6529', '7129', '7295', '7895', '9095', '8845', '10295',\n",
       "       '12945', '10345', '6785', '11048', nan, '35550', '36000', '5195',\n",
       "       '6095', '6795', '6695', '7395', '10945', '11845', '13645', '15645',\n",
       "       '8495', '10595', '10245', '10795', '11245', '18280', '18344',\n",
       "       '25552', '28248', '28176', '31600', '34184', '35056', '40960',\n",
       "       '45400', '16503', '5389', '6189', '6669', '7689', '9959', '8499',\n",
       "       '12629', '14869', '14489', '6989', '8189', '9279', '5499', '7099',\n",
       "       '6649', '6849', '7349', '7299', '7799', '7499', '7999', '8249',\n",
       "       '8949', '9549', '13499', '14399', '17199', '19699', '18399',\n",
       "       '11900', '13200', '12440', '13860', '15580', '16695', '17075',\n",
       "       '16630', '17950', '18150', '12764', '22018', '32528', '34028',\n",
       "       '37028', '9295', '9895', '11850', '12170', '15040', '15510',\n",
       "       '18620', '5118', '7053', '7603', '7126', '7775', '9960', '9233',\n",
       "       '11259', '7463', '10198', '8013', '11694', '5348', '6338', '6488',\n",
       "       '6918', '7898', '8778', '6938', '7198', '7788', '7738', '8358',\n",
       "       '9258', '8058', '8238', '9298', '9538', '8449', '9639', '9989',\n",
       "       '11199', '11549', '17669', '8948', '10698', '9988', '10898',\n",
       "       '11248', '16558', '15998', '15690', '15750', '7975', '7995',\n",
       "       '8195', '9495', '9995', '11595', '9980', '13295', '13845', '12290',\n",
       "       '12940', '13415', '15985', '16515', '18420', '18950', '16845',\n",
       "       '19045', '21485', '22625'], dtype=object)"
      ]
     },
     "execution_count": 44,
     "metadata": {},
     "output_type": "execute_result"
    }
   ],
   "source": [
    "fd['price'].unique()"
   ]
  },
  {
   "cell_type": "code",
   "execution_count": 45,
   "id": "1b4c9484",
   "metadata": {},
   "outputs": [],
   "source": [
    "fd['price']=fd['price'].replace('?',np.nan)"
   ]
  },
  {
   "cell_type": "code",
   "execution_count": 46,
   "id": "e80585a4",
   "metadata": {},
   "outputs": [
    {
     "data": {
      "text/plain": [
       "array(['13495', '16500', '13950', '17450', '15250', '17710', '18920',\n",
       "       '23875', nan, '16430', '16925', '20970', '21105', '24565', '30760',\n",
       "       '41315', '36880', '5151', '6295', '6575', '5572', '6377', '7957',\n",
       "       '6229', '6692', '7609', '8558', '8921', '12964', '6479', '6855',\n",
       "       '5399', '6529', '7129', '7295', '7895', '9095', '8845', '10295',\n",
       "       '12945', '10345', '6785', '11048', '35550', '36000', '5195',\n",
       "       '6095', '6795', '6695', '7395', '10945', '11845', '13645', '15645',\n",
       "       '8495', '10595', '10245', '10795', '11245', '18280', '18344',\n",
       "       '25552', '28248', '28176', '31600', '34184', '35056', '40960',\n",
       "       '45400', '16503', '5389', '6189', '6669', '7689', '9959', '8499',\n",
       "       '12629', '14869', '14489', '6989', '8189', '9279', '5499', '7099',\n",
       "       '6649', '6849', '7349', '7299', '7799', '7499', '7999', '8249',\n",
       "       '8949', '9549', '13499', '14399', '17199', '19699', '18399',\n",
       "       '11900', '13200', '12440', '13860', '15580', '16695', '17075',\n",
       "       '16630', '17950', '18150', '12764', '22018', '32528', '34028',\n",
       "       '37028', '9295', '9895', '11850', '12170', '15040', '15510',\n",
       "       '18620', '5118', '7053', '7603', '7126', '7775', '9960', '9233',\n",
       "       '11259', '7463', '10198', '8013', '11694', '5348', '6338', '6488',\n",
       "       '6918', '7898', '8778', '6938', '7198', '7788', '7738', '8358',\n",
       "       '9258', '8058', '8238', '9298', '9538', '8449', '9639', '9989',\n",
       "       '11199', '11549', '17669', '8948', '10698', '9988', '10898',\n",
       "       '11248', '16558', '15998', '15690', '15750', '7975', '7995',\n",
       "       '8195', '9495', '9995', '11595', '9980', '13295', '13845', '12290',\n",
       "       '12940', '13415', '15985', '16515', '18420', '18950', '16845',\n",
       "       '19045', '21485', '22625'], dtype=object)"
      ]
     },
     "execution_count": 46,
     "metadata": {},
     "output_type": "execute_result"
    }
   ],
   "source": [
    "fd['price'].unique()"
   ]
  },
  {
   "cell_type": "markdown",
   "id": "fcb84922",
   "metadata": {},
   "source": [
    "## Missing values"
   ]
  },
  {
   "cell_type": "code",
   "execution_count": 47,
   "id": "80951add",
   "metadata": {},
   "outputs": [
    {
     "data": {
      "text/plain": [
       "Unnamed: 0.1         0\n",
       "Unnamed: 0           0\n",
       "make                 0\n",
       "fuel_type            0\n",
       "aspiration           0\n",
       "num_of_doors         0\n",
       "body_style           0\n",
       "drive_wheels         0\n",
       "engine_location      0\n",
       "wheel_base           2\n",
       "length               0\n",
       "width                0\n",
       "height               0\n",
       "curb_weight          0\n",
       "engine_type          1\n",
       "num_of_cylinders     0\n",
       "engine_size          2\n",
       "fuel_system          0\n",
       "compression_ratio    0\n",
       "horsepower           2\n",
       "peak_rpm             2\n",
       "city_mpg             0\n",
       "highway_mpg          0\n",
       "price                7\n",
       "dtype: int64"
      ]
     },
     "execution_count": 47,
     "metadata": {},
     "output_type": "execute_result"
    }
   ],
   "source": [
    "fd.isna().sum()"
   ]
  },
  {
   "cell_type": "code",
   "execution_count": 49,
   "id": "bdb05e67",
   "metadata": {},
   "outputs": [
    {
     "name": "stdout",
     "output_type": "stream",
     "text": [
      "<class 'pandas.core.frame.DataFrame'>\n",
      "Index: 205 entries, 0 to 204\n",
      "Data columns (total 24 columns):\n",
      " #   Column             Non-Null Count  Dtype  \n",
      "---  ------             --------------  -----  \n",
      " 0   Unnamed: 0.1       205 non-null    int64  \n",
      " 1   Unnamed: 0         205 non-null    int64  \n",
      " 2   make               205 non-null    object \n",
      " 3   fuel_type          205 non-null    object \n",
      " 4   aspiration         205 non-null    object \n",
      " 5   num_of_doors       205 non-null    object \n",
      " 6   body_style         205 non-null    object \n",
      " 7   drive_wheels       205 non-null    object \n",
      " 8   engine_location    205 non-null    object \n",
      " 9   wheel_base         205 non-null    float64\n",
      " 10  length             205 non-null    float64\n",
      " 11  width              205 non-null    float64\n",
      " 12  height             205 non-null    float64\n",
      " 13  curb_weight        205 non-null    int64  \n",
      " 14  engine_type        204 non-null    object \n",
      " 15  num_of_cylinders   205 non-null    object \n",
      " 16  engine_size        203 non-null    float64\n",
      " 17  fuel_system        205 non-null    object \n",
      " 18  compression_ratio  205 non-null    float64\n",
      " 19  horsepower         203 non-null    object \n",
      " 20  peak_rpm           203 non-null    object \n",
      " 21  city_mpg           205 non-null    int64  \n",
      " 22  highway_mpg        205 non-null    int64  \n",
      " 23  price              198 non-null    object \n",
      "dtypes: float64(6), int64(5), object(13)\n",
      "memory usage: 40.0+ KB\n"
     ]
    }
   ],
   "source": [
    "fd.info()"
   ]
  },
  {
   "cell_type": "code",
   "execution_count": 48,
   "id": "76178d83",
   "metadata": {},
   "outputs": [],
   "source": [
    "fd['wheel_base'].fillna(fd['wheel_base'].median(),inplace=True)"
   ]
  },
  {
   "cell_type": "code",
   "execution_count": 51,
   "id": "5746b547",
   "metadata": {},
   "outputs": [],
   "source": [
    "fd['engine_type'].fillna(fd['engine_type'].mode()[0],inplace=True)"
   ]
  },
  {
   "cell_type": "code",
   "execution_count": 52,
   "id": "c3398770",
   "metadata": {},
   "outputs": [],
   "source": [
    "fd['engine_size'].fillna(fd['engine_size'].mode()[0],inplace=True)"
   ]
  },
  {
   "cell_type": "code",
   "execution_count": 54,
   "id": "a0e45a3a",
   "metadata": {},
   "outputs": [],
   "source": [
    "fd['horsepower'].fillna(fd['horsepower'].median(),inplace=True)"
   ]
  },
  {
   "cell_type": "code",
   "execution_count": 55,
   "id": "fd5c98a2",
   "metadata": {},
   "outputs": [],
   "source": [
    "fd['peak_rpm'].fillna(fd['peak_rpm'].median(),inplace=True)"
   ]
  },
  {
   "cell_type": "code",
   "execution_count": 56,
   "id": "04a77747",
   "metadata": {},
   "outputs": [],
   "source": [
    "fd['price'].fillna(fd['price'].median(),inplace=True)"
   ]
  },
  {
   "cell_type": "code",
   "execution_count": 57,
   "id": "66f748c9",
   "metadata": {},
   "outputs": [],
   "source": [
    "fd['peak_rpm']=fd['peak_rpm'].astype('int64')"
   ]
  },
  {
   "cell_type": "code",
   "execution_count": 58,
   "id": "4b66a771",
   "metadata": {},
   "outputs": [],
   "source": [
    "fd['horsepower']=fd['horsepower'].astype('int64')"
   ]
  },
  {
   "cell_type": "code",
   "execution_count": 61,
   "id": "a4cb0386",
   "metadata": {},
   "outputs": [],
   "source": [
    "fd['price']=fd['price'].astype('int32')"
   ]
  },
  {
   "cell_type": "code",
   "execution_count": null,
   "id": "7fa13b1c",
   "metadata": {},
   "outputs": [],
   "source": []
  },
  {
   "cell_type": "markdown",
   "id": "1ca90720",
   "metadata": {},
   "source": [
    "## Univariate analysis"
   ]
  },
  {
   "cell_type": "markdown",
   "id": "43d19178",
   "metadata": {},
   "source": [
    "### Histogram"
   ]
  },
  {
   "cell_type": "code",
   "execution_count": 69,
   "id": "c28a7b9e",
   "metadata": {},
   "outputs": [
    {
     "data": {
      "text/plain": [
       "<Axes: xlabel='price', ylabel='Frequency'>"
      ]
     },
     "execution_count": 69,
     "metadata": {},
     "output_type": "execute_result"
    },
    {
     "data": {
      "image/png": "[encoded data removed]",
      "text/plain": [
       "<Figure size 800x550 with 1 Axes>"
      ]
     },
     "metadata": {},
     "output_type": "display_data"
    }
   ],
   "source": [
    "plt.style.use('seaborn-v0_8')\n",
    "fd['price'].plot(kind='hist',xlabel='price',color='violet')"
   ]
  },
  {
   "cell_type": "markdown",
   "id": "61272aea",
   "metadata": {},
   "source": [
    "1.The lowest price of car is 5000 and highest price is 45000\n",
    "2.80 cars are range between 5000 to 10000\n"
   ]
  },
  {
   "cell_type": "markdown",
   "id": "db346b7b",
   "metadata": {},
   "source": [
    "## Boxplot"
   ]
  },
  {
   "cell_type": "code",
   "execution_count": 73,
   "id": "c333bc36",
   "metadata": {},
   "outputs": [
    {
     "data": {
      "text/plain": [
       "<Axes: >"
      ]
     },
     "execution_count": 73,
     "metadata": {},
     "output_type": "execute_result"
    },
    {
     "data": {
      "image/png": "[encoded data removed]",
      "text/plain": [
       "<Figure size 800x550 with 1 Axes>"
      ]
     },
     "metadata": {},
     "output_type": "display_data"
    }
   ],
   "source": [
    "plt.style.use('dark_background')\n",
    "fd['price'].plot(kind='box',color='red')"
   ]
  },
  {
   "cell_type": "markdown",
   "id": "96ad2e44",
   "metadata": {},
   "source": [
    "1.plot shows the outliers \n",
    "2.data is not uniformly distributed\n",
    "3.The min value will arose between 5200-5300\n",
    "4.The max value of price between 2700-2800"
   ]
  },
  {
   "cell_type": "markdown",
   "id": "064f3e20",
   "metadata": {},
   "source": [
    "## Density"
   ]
  },
  {
   "cell_type": "code",
   "execution_count": 74,
   "id": "c59c7a46",
   "metadata": {},
   "outputs": [
    {
     "data": {
      "text/plain": [
       "<Axes: ylabel='Density'>"
      ]
     },
     "execution_count": 74,
     "metadata": {},
     "output_type": "execute_result"
    },
    {
     "data": {
      "image/png": "[encoded data removed]",
      "text/plain": [
       "<Figure size 800x550 with 1 Axes>"
      ]
     },
     "metadata": {},
     "output_type": "display_data"
    }
   ],
   "source": [
    "plt.style.use('dark_background')\n",
    "fd['price'].plot(kind='density',color='red')"
   ]
  },
  {
   "cell_type": "markdown",
   "id": "e11b05f1",
   "metadata": {},
   "source": [
    "## Bar "
   ]
  },
  {
   "cell_type": "code",
   "execution_count": 76,
   "id": "100ecfe8",
   "metadata": {},
   "outputs": [
    {
     "data": {
      "text/plain": [
       "<Axes: xlabel='make'>"
      ]
     },
     "execution_count": 76,
     "metadata": {},
     "output_type": "execute_result"
    },
    {
     "data": {
      "image/png": "[encoded data removed]",
      "text/plain": [
       "<Figure size 800x550 with 1 Axes>"
      ]
     },
     "metadata": {},
     "output_type": "display_data"
    }
   ],
   "source": [
    "fd['make'].value_counts().plot(kind='bar')"
   ]
  },
  {
   "cell_type": "markdown",
   "id": "39179a29",
   "metadata": {},
   "source": [
    "1.The plot shows the availability of cars in the data set\n",
    "2.Toyota is the higher in the number and mercury is in lower number"
   ]
  },
  {
   "cell_type": "code",
   "execution_count": 79,
   "id": "fdde2c31",
   "metadata": {},
   "outputs": [
    {
     "data": {
      "text/plain": [
       "<Axes: xlabel='fuel_type'>"
      ]
     },
     "execution_count": 79,
     "metadata": {},
     "output_type": "execute_result"
    },
    {
     "data": {
      "image/png": "[encoded data removed]",
      "text/plain": [
       "<Figure size 500x400 with 1 Axes>"
      ]
     },
     "metadata": {},
     "output_type": "display_data"
    }
   ],
   "source": [
    "fd['fuel_type'].value_counts().plot(kind='bar',\n",
    "                                   color=['green','blue'],\n",
    "                                   figsize=(5,4),\n",
    "                                    position=0.5\n",
    "                                   )"
   ]
  },
  {
   "cell_type": "markdown",
   "id": "2e933aad",
   "metadata": {},
   "source": [
    "this data shows the cars availabale related to type of fuels"
   ]
  },
  {
   "cell_type": "code",
   "execution_count": 82,
   "id": "f9aa2f27",
   "metadata": {},
   "outputs": [
    {
     "data": {
      "text/plain": [
       "<Axes: ylabel='fuel_type'>"
      ]
     },
     "execution_count": 82,
     "metadata": {},
     "output_type": "execute_result"
    },
    {
     "data": {
      "image/png": "[encoded data removed]",
      "text/plain": [
       "<Figure size 500x400 with 1 Axes>"
      ]
     },
     "metadata": {},
     "output_type": "display_data"
    }
   ],
   "source": [
    "fd['fuel_type'].value_counts().plot(kind='barh',\n",
    "                                   color=['green','blue'],\n",
    "                                   figsize=(5,4),\n",
    "                                    position=1\n",
    "                                   )"
   ]
  },
  {
   "cell_type": "code",
   "execution_count": 89,
   "id": "0ebcd0e0",
   "metadata": {},
   "outputs": [
    {
     "data": {
      "text/plain": [
       "<Axes: xlabel='engine_location'>"
      ]
     },
     "execution_count": 89,
     "metadata": {},
     "output_type": "execute_result"
    },
    {
     "data": {
      "image/png": "[encoded data removed]",
      "text/plain": [
       "<Figure size 800x550 with 1 Axes>"
      ]
     },
     "metadata": {},
     "output_type": "display_data"
    }
   ],
   "source": [
    "fd['engine_location'].value_counts().plot(kind='bar',color=['orange','yellow'])"
   ]
  },
  {
   "cell_type": "markdown",
   "id": "9b294c4e",
   "metadata": {},
   "source": [
    "1.Data says engine palced in front location are more available cars "
   ]
  },
  {
   "cell_type": "markdown",
   "id": "f5d0af1d",
   "metadata": {},
   "source": [
    "## pie chart"
   ]
  },
  {
   "cell_type": "code",
   "execution_count": 95,
   "id": "4f48cf10",
   "metadata": {},
   "outputs": [
    {
     "data": {
      "text/plain": [
       "<Axes: ylabel='percent'>"
      ]
     },
     "execution_count": 95,
     "metadata": {},
     "output_type": "execute_result"
    },
    {
     "data": {
      "image/png": "[encoded data removed]",
      "text/plain": [
       "<Figure size 1000x600 with 1 Axes>"
      ]
     },
     "metadata": {},
     "output_type": "display_data"
    }
   ],
   "source": [
    "plt.style.use('ggplot')\n",
    "(fd['body_style'].value_counts()/len(fd['body_style'])*100).plot(kind='pie',ylabel='percent',figsize=(10,6),autopct='%1.1f',legend=True)"
   ]
  },
  {
   "cell_type": "code",
   "execution_count": 99,
   "id": "4c51efa5",
   "metadata": {},
   "outputs": [
    {
     "data": {
      "text/plain": [
       "<Axes: ylabel='percentage'>"
      ]
     },
     "execution_count": 99,
     "metadata": {},
     "output_type": "execute_result"
    },
    {
     "data": {
      "image/png": "[encoded data removed]",
      "text/plain": [
       "<Figure size 800x600 with 1 Axes>"
      ]
     },
     "metadata": {},
     "output_type": "display_data"
    }
   ],
   "source": [
    "(fd['engine_type'].value_counts()/len(fd['engine_type'])*100).plot(kind='pie',ylabel='percentage',figsize=(8,6),autopct='%1.1f',legend=True)"
   ]
  },
  {
   "cell_type": "code",
   "execution_count": null,
   "id": "9d36c4fa",
   "metadata": {},
   "outputs": [],
   "source": []
  }
 ],
 "metadata": {
  "kernelspec": {
   "display_name": "Python 3 (ipykernel)",
   "language": "python",
   "name": "python3"
  },
  "language_info": {
   "codemirror_mode": {
    "name": "ipython",
    "version": 3
   },
   "file_extension": ".py",
   "mimetype": "text/x-python",
   "name": "python",
   "nbconvert_exporter": "python",
   "pygments_lexer": "ipython3",
   "version": "3.11.4"
  }
 },
 "nbformat": 4,
 "nbformat_minor": 5
}
