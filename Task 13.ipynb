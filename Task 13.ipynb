{
 "cells": [
  {
   "cell_type": "markdown",
   "id": "d9f20fbe",
   "metadata": {},
   "source": [
    "## 1. Write a function called \\\"add_numbers\\\" that takes two integers as input and returns their sum.\\n\",\n",
    "    \n",
    "   # \"2. Write a function called \\\"multiply_numbers\\\" that takes two integers as input and returns their product.\\n\",\n",
    "    \n",
    "   # \"3. Write a function called \\\"calculate_average\\\" that takes a list of numbers as input and returns the average of      thosenumbers.\\n\",\n",
    "    \n",
    "   # \"4. Write a function called \\\"is_even\\\" that takes an integer as input and returns True if the number is even, and False otherwise.\\n\",\n",
    "    \n",
    "  # \"5. Write a function called \\\"reverse_string\\\" that takes a string as input and returns the reverse of that string.\\n\",\n",
    "    \n",
    "  #  \"6. Write a function called \\\"count_vowels\\\" that takes a string as input and returns the number of vowels (a, e, i, o, u) in that string.\\n\",\n",
    "    \n",
    "   # \"7. Write a function called \\\"find_max\\\" that takes a list of numbers as input and returns the maximum value in that list.\\n\",\n",
    "    \n",
    "  #  \"8. Write a function called \\\"find_min\\\" that takes a list of numbers as input and returns the minimum value in that list.\"\n",
    "   "
   ]
  },
  {
   "cell_type": "code",
   "execution_count": null,
   "id": "698c5db4",
   "metadata": {},
   "outputs": [],
   "source": []
  },
  {
   "cell_type": "markdown",
   "id": "fcd4f35e",
   "metadata": {},
   "source": [
    "# 1. Write a function called \"add_numbers\" that takes two integers as input and returns their sum.\\n\","
   ]
  },
  {
   "cell_type": "code",
   "execution_count": 7,
   "id": "95a5c1e6",
   "metadata": {},
   "outputs": [],
   "source": [
    "def add(a,b):\n",
    "    print(a+b)\n",
    "    return \"addition of a and b\""
   ]
  },
  {
   "cell_type": "code",
   "execution_count": 8,
   "id": "278d15a1",
   "metadata": {},
   "outputs": [
    {
     "name": "stdout",
     "output_type": "stream",
     "text": [
      "5\n"
     ]
    },
    {
     "data": {
      "text/plain": [
       "'addition of a and b'"
      ]
     },
     "execution_count": 8,
     "metadata": {},
     "output_type": "execute_result"
    }
   ],
   "source": [
    "add(2,3)"
   ]
  },
  {
   "cell_type": "code",
   "execution_count": null,
   "id": "cac65abb",
   "metadata": {},
   "outputs": [],
   "source": []
  },
  {
   "cell_type": "markdown",
   "id": "e40d1141",
   "metadata": {},
   "source": [
    "## 2. Write a function called \"multiply_numbers\" that takes two integers as input and returns their product."
   ]
  },
  {
   "cell_type": "code",
   "execution_count": 9,
   "id": "373431f6",
   "metadata": {},
   "outputs": [
    {
     "name": "stdout",
     "output_type": "stream",
     "text": [
      "30\n"
     ]
    }
   ],
   "source": [
    "def mul(x,y):\n",
    "    print(x*y)\n",
    "mul(5,6)"
   ]
  },
  {
   "cell_type": "code",
   "execution_count": null,
   "id": "b89ae3b7",
   "metadata": {},
   "outputs": [],
   "source": []
  },
  {
   "cell_type": "markdown",
   "id": "005e4627",
   "metadata": {},
   "source": [
    "# Write a function called \"calculate_average\" that takes a list of numbers as input and returns the average of thosenumbers."
   ]
  },
  {
   "cell_type": "code",
   "execution_count": 41,
   "id": "1b0adea6",
   "metadata": {},
   "outputs": [],
   "source": [
    "def average1(list1):\n",
    "    total=sum(list1)\n",
    "    aver=total//len(list1)\n",
    "    return aver"
   ]
  },
  {
   "cell_type": "code",
   "execution_count": 42,
   "id": "b0a46a3f",
   "metadata": {},
   "outputs": [
    {
     "data": {
      "text/plain": [
       "5"
      ]
     },
     "execution_count": 42,
     "metadata": {},
     "output_type": "execute_result"
    }
   ],
   "source": [
    "list1=[2,4,5,6,8]\n",
    "average1(list1)"
   ]
  },
  {
   "cell_type": "markdown",
   "id": "fe3c733a",
   "metadata": {},
   "source": [
    " ## Write a function called \"is_even\" that takes an integer as input and returns True if the number is even, and False otherwise.\\n"
   ]
  },
  {
   "cell_type": "code",
   "execution_count": 23,
   "id": "dec83a71",
   "metadata": {},
   "outputs": [],
   "source": [
    "def is_even(a):\n",
    "    if a%2==0:\n",
    "        print(\"true\")\n",
    "    else:\n",
    "        print(\"false\")"
   ]
  },
  {
   "cell_type": "code",
   "execution_count": 25,
   "id": "3d9b25c5",
   "metadata": {},
   "outputs": [
    {
     "name": "stdout",
     "output_type": "stream",
     "text": [
      "true\n"
     ]
    }
   ],
   "source": [
    "is_even(2)"
   ]
  },
  {
   "cell_type": "code",
   "execution_count": null,
   "id": "8cd255ff",
   "metadata": {},
   "outputs": [],
   "source": []
  },
  {
   "cell_type": "markdown",
   "id": "dea5efaa",
   "metadata": {},
   "source": [
    "##  Write a function called \"reverse_string\" that takes a string as input and returns the reverse of that string."
   ]
  },
  {
   "cell_type": "code",
   "execution_count": 26,
   "id": "e63e9246",
   "metadata": {},
   "outputs": [
    {
     "name": "stdout",
     "output_type": "stream",
     "text": [
      "navap\n"
     ]
    }
   ],
   "source": [
    "def reverse_string(name):\n",
    "    print(name[::-1])\n",
    "reverse_string(\"pavan\")"
   ]
  },
  {
   "cell_type": "code",
   "execution_count": null,
   "id": "6925df67",
   "metadata": {},
   "outputs": [],
   "source": []
  },
  {
   "cell_type": "markdown",
   "id": "53b7ee80",
   "metadata": {},
   "source": [
    "## Write a function called \"count_vowels\" that takes a string as input and returns the number of vowels (a, e, i, o, u) in that string"
   ]
  },
  {
   "cell_type": "code",
   "execution_count": 33,
   "id": "e9f61d40",
   "metadata": {},
   "outputs": [],
   "source": [
    "def count_vowels(string):\n",
    "    b=(\"a\",\"e\",\"i\",\"o\",\"u\")\n",
    "    v=0\n",
    "    for i in string:\n",
    "        if i in b:\n",
    "            v=v+1\n",
    "    print(v)\n",
    "\n",
    "    "
   ]
  },
  {
   "cell_type": "code",
   "execution_count": 34,
   "id": "d6e662d2",
   "metadata": {},
   "outputs": [
    {
     "name": "stdout",
     "output_type": "stream",
     "text": [
      "3\n"
     ]
    }
   ],
   "source": [
    "count_vowels(\"alphabet\")"
   ]
  },
  {
   "cell_type": "code",
   "execution_count": null,
   "id": "3bfa4316",
   "metadata": {},
   "outputs": [],
   "source": []
  },
  {
   "cell_type": "markdown",
   "id": "22bbb7e3",
   "metadata": {},
   "source": [
    "## 7. Write a function called \"find_max\" that takes a list of numbers as input and returns the maximum value in that list.\\n\""
   ]
  },
  {
   "cell_type": "code",
   "execution_count": 35,
   "id": "7ec364e5",
   "metadata": {},
   "outputs": [
    {
     "name": "stdout",
     "output_type": "stream",
     "text": [
      "10\n"
     ]
    }
   ],
   "source": [
    "def find_max(numbers):\n",
    "    print(max(numbers))\n",
    "    \n",
    "numbers=[1,9,10,6,7,5,3]\n",
    "find_max(numbers)"
   ]
  },
  {
   "cell_type": "code",
   "execution_count": null,
   "id": "4b950da5",
   "metadata": {},
   "outputs": [],
   "source": []
  },
  {
   "cell_type": "markdown",
   "id": "33fb2bae",
   "metadata": {},
   "source": [
    "## 8. Write a function called \"find_min\" that takes a list of numbers as input and returns the minimum value in that list.\""
   ]
  },
  {
   "cell_type": "code",
   "execution_count": 44,
   "id": "e30efb60",
   "metadata": {},
   "outputs": [
    {
     "name": "stdout",
     "output_type": "stream",
     "text": [
      "2\n"
     ]
    }
   ],
   "source": [
    "def find_min(num):\n",
    "    print(min(num))\n",
    "num=[9,6,3,7,8,2,5]\n",
    "find_min(num)"
   ]
  },
  {
   "cell_type": "code",
   "execution_count": null,
   "id": "a11aa86e",
   "metadata": {},
   "outputs": [],
   "source": []
  }
 ],
 "metadata": {
  "kernelspec": {
   "display_name": "Python 3 (ipykernel)",
   "language": "python",
   "name": "python3"
  },
  "language_info": {
   "codemirror_mode": {
    "name": "ipython",
    "version": 3
   },
   "file_extension": ".py",
   "mimetype": "text/x-python",
   "name": "python",
   "nbconvert_exporter": "python",
   "pygments_lexer": "ipython3",
   "version": "3.11.4"
  }
 },
 "nbformat": 4,
 "nbformat_minor": 5
}
